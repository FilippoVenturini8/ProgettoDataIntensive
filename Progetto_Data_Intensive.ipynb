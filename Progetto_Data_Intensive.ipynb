{
  "cells": [
    {
      "cell_type": "markdown",
      "metadata": {
        "id": "view-in-github",
        "colab_type": "text"
      },
      "source": [
        "<a href=\"https://colab.research.google.com/github/FilippoVenturini8/ProgettoDataIntensive/blob/main/Progetto_Data_Intensive.ipynb\" target=\"_parent\"><img src=\"https://colab.research.google.com/assets/colab-badge.svg\" alt=\"Open In Colab\"/></a>"
      ]
    },
    {
      "cell_type": "markdown",
      "metadata": {
        "id": "La3l-u41s79b"
      },
      "source": [
        "#Previsione della temperatura del rotore di un motore a magneti permanenti\n",
        "\n",
        "***Programmazione di Applicazioni Data Intensive***\n",
        "\n",
        "*2021/2022*\n",
        "\n",
        "*Filippo Venturini*"
      ]
    },
    {
      "cell_type": "code",
      "execution_count": null,
      "metadata": {
        "id": "fItMSeVbuWBs"
      },
      "outputs": [],
      "source": [
        "import numpy as np\n",
        "import pandas as pd\n",
        "import matplotlib.pyplot as plt\n",
        "import seaborn as sns"
      ]
    },
    {
      "cell_type": "markdown",
      "source": [
        "##Import del dataset"
      ],
      "metadata": {
        "id": "J44dEzykTXak"
      }
    },
    {
      "cell_type": "markdown",
      "source": [
        "Le seguenti istruzioni provvedono a importare il dataset utilizzando le credenziali di kaggle contenute nel file `kaggle.json`. Procedere quindi quando richiesto dall'istruzione `files.upload()` a selezionare il file `kaggle.json` precedentemente scaricato.\n",
        "Se nel notebook è già presente il file csv del dataset, passare alla fase di descrizione del problema."
      ],
      "metadata": {
        "id": "jDojQqhAToNM"
      }
    },
    {
      "cell_type": "code",
      "execution_count": null,
      "metadata": {
        "colab": {
          "base_uri": "https://localhost:8080/"
        },
        "id": "21xQ_eQXNaYn",
        "outputId": "dfb491a0-f30a-4832-8303-2d07ea8ad259"
      },
      "outputs": [
        {
          "output_type": "stream",
          "name": "stdout",
          "text": [
            "Looking in indexes: https://pypi.org/simple, https://us-python.pkg.dev/colab-wheels/public/simple/\n",
            "Requirement already satisfied: kaggle in /usr/local/lib/python3.7/dist-packages (1.5.12)\n",
            "Requirement already satisfied: certifi in /usr/local/lib/python3.7/dist-packages (from kaggle) (2022.5.18.1)\n",
            "Requirement already satisfied: six>=1.10 in /usr/local/lib/python3.7/dist-packages (from kaggle) (1.15.0)\n",
            "Requirement already satisfied: tqdm in /usr/local/lib/python3.7/dist-packages (from kaggle) (4.64.0)\n",
            "Requirement already satisfied: python-slugify in /usr/local/lib/python3.7/dist-packages (from kaggle) (6.1.2)\n",
            "Requirement already satisfied: requests in /usr/local/lib/python3.7/dist-packages (from kaggle) (2.23.0)\n",
            "Requirement already satisfied: urllib3 in /usr/local/lib/python3.7/dist-packages (from kaggle) (1.24.3)\n",
            "Requirement already satisfied: python-dateutil in /usr/local/lib/python3.7/dist-packages (from kaggle) (2.8.2)\n",
            "Requirement already satisfied: text-unidecode>=1.3 in /usr/local/lib/python3.7/dist-packages (from python-slugify->kaggle) (1.3)\n",
            "Requirement already satisfied: chardet<4,>=3.0.2 in /usr/local/lib/python3.7/dist-packages (from requests->kaggle) (3.0.4)\n",
            "Requirement already satisfied: idna<3,>=2.5 in /usr/local/lib/python3.7/dist-packages (from requests->kaggle) (2.10)\n"
          ]
        }
      ],
      "source": [
        "!pip install kaggle"
      ]
    },
    {
      "cell_type": "code",
      "source": [
        "from google.colab import files\n",
        "\n",
        "files.upload()"
      ],
      "metadata": {
        "colab": {
          "resources": {
            "http://localhost:8080/nbextensions/google.colab/files.js": {
              "data": "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",
              "ok": true,
              "headers": [
                [
                  "content-type",
                  "application/javascript"
                ]
              ],
              "status": 200,
              "status_text": ""
            }
          },
          "base_uri": "https://localhost:8080/",
          "height": 91
        },
        "id": "P-TRvV9tRhGi",
        "outputId": "6fa2e064-973d-4144-d786-33968f1393c0"
      },
      "execution_count": null,
      "outputs": [
        {
          "output_type": "display_data",
          "data": {
            "text/plain": [
              "<IPython.core.display.HTML object>"
            ],
            "text/html": [
              "\n",
              "     <input type=\"file\" id=\"files-78d7cf83-4684-4849-a380-8767c016cef9\" name=\"files[]\" multiple disabled\n",
              "        style=\"border:none\" />\n",
              "     <output id=\"result-78d7cf83-4684-4849-a380-8767c016cef9\">\n",
              "      Upload widget is only available when the cell has been executed in the\n",
              "      current browser session. Please rerun this cell to enable.\n",
              "      </output>\n",
              "      <script src=\"/nbextensions/google.colab/files.js\"></script> "
            ]
          },
          "metadata": {}
        },
        {
          "output_type": "stream",
          "name": "stdout",
          "text": [
            "Saving kaggle.json to kaggle.json\n"
          ]
        },
        {
          "output_type": "execute_result",
          "data": {
            "text/plain": [
              "{'kaggle.json': b'{\"username\":\"filippoventurini\",\"key\":\"78dd9bc94b21a574da3b556a75a91f4e\"}'}"
            ]
          },
          "metadata": {},
          "execution_count": 3
        }
      ]
    },
    {
      "cell_type": "code",
      "source": [
        "! mkdir ~/.kaggle"
      ],
      "metadata": {
        "id": "MBfuNX5gR7uc"
      },
      "execution_count": null,
      "outputs": []
    },
    {
      "cell_type": "code",
      "source": [
        "! cp kaggle.json ~/.kaggle/"
      ],
      "metadata": {
        "id": "_9xKBOsHR5FR"
      },
      "execution_count": null,
      "outputs": []
    },
    {
      "cell_type": "code",
      "source": [
        "! chmod 600 ~/.kaggle/kaggle.json"
      ],
      "metadata": {
        "id": "gAC7OuNaSDdN"
      },
      "execution_count": null,
      "outputs": []
    },
    {
      "cell_type": "code",
      "source": [
        "!kaggle datasets download -d wkirgsn/electric-motor-temperature"
      ],
      "metadata": {
        "colab": {
          "base_uri": "https://localhost:8080/"
        },
        "id": "5jAfyfaBSGHO",
        "outputId": "8ea376e2-8267-445d-ec42-7526e7573590"
      },
      "execution_count": null,
      "outputs": [
        {
          "output_type": "stream",
          "name": "stdout",
          "text": [
            "Downloading electric-motor-temperature.zip to /content\n",
            " 85% 99.0M/117M [00:01<00:00, 71.2MB/s]\n",
            "100% 117M/117M [00:02<00:00, 59.4MB/s] \n"
          ]
        }
      ]
    },
    {
      "cell_type": "code",
      "source": [
        "!unzip \"/content/electric-motor-temperature.zip\" -d \"/content/\""
      ],
      "metadata": {
        "colab": {
          "base_uri": "https://localhost:8080/"
        },
        "id": "sOjm6bzaScpu",
        "outputId": "582c4677-f6c0-430f-c325-a2ecfb34c79a"
      },
      "execution_count": null,
      "outputs": [
        {
          "output_type": "stream",
          "name": "stdout",
          "text": [
            "Archive:  /content/electric-motor-temperature.zip\n",
            "  inflating: /content/measures_v2.csv  \n"
          ]
        }
      ]
    },
    {
      "cell_type": "markdown",
      "source": [
        "##Descrizione del problema"
      ],
      "metadata": {
        "id": "8x99JMc0Td0v"
      }
    },
    {
      "cell_type": "markdown",
      "source": [
        "Il dataset contiene dati rilevati da particolari sensori che monitorano la temperatura di un motore elettrico. Il motore presenta due componenti principali lo statore e il rotore, che sono rispettivamente la parte statica e la parte mobile di esso. \n",
        "L'obbiettivo è svolgere uno studio che permetta di predire tramite l'uso di modelli di regressione la temperatura del rotore. La previsione della suddetta temperatura aiuta l'industria automobilistica a produrre motori con meno materiale e consente di utilizzare il motore al massimo delle sue capacità."
      ],
      "metadata": {
        "id": "vyA9w6R3Tghc"
      }
    },
    {
      "cell_type": "code",
      "source": [
        "data = pd.read_csv(\"measures_v2.csv\")"
      ],
      "metadata": {
        "id": "LMqJ5n7-S4ua"
      },
      "execution_count": null,
      "outputs": []
    },
    {
      "cell_type": "markdown",
      "metadata": {
        "id": "a6xcEtUUu5Dc"
      },
      "source": [
        "##Comprensione dei dati"
      ]
    },
    {
      "cell_type": "code",
      "execution_count": null,
      "metadata": {
        "colab": {
          "base_uri": "https://localhost:8080/",
          "height": 270
        },
        "id": "1Gupb0Sjl-Qw",
        "outputId": "c0697809-8d24-41bc-87cf-4bfbbe150d22"
      },
      "outputs": [
        {
          "output_type": "execute_result",
          "data": {
            "text/plain": [
              "        u_q    coolant  stator_winding       u_d  stator_tooth  motor_speed  \\\n",
              "0 -0.450682  18.805172       19.086670 -0.350055     18.293219     0.002866   \n",
              "1 -0.325737  18.818571       19.092390 -0.305803     18.294807     0.000257   \n",
              "2 -0.440864  18.828770       19.089380 -0.372503     18.294094     0.002355   \n",
              "3 -0.327026  18.835567       19.083031 -0.316199     18.292542     0.006105   \n",
              "4 -0.471150  18.857033       19.082525 -0.332272     18.291428     0.003133   \n",
              "\n",
              "        i_d       i_q         pm  stator_yoke    ambient    torque  profile_id  \n",
              "0  0.004419  0.000328  24.554214    18.316547  19.850691  0.187101          17  \n",
              "1  0.000606 -0.000785  24.538078    18.314955  19.850672  0.245417          17  \n",
              "2  0.001290  0.000386  24.544693    18.326307  19.850657  0.176615          17  \n",
              "3  0.000026  0.002046  24.554018    18.330833  19.850647  0.238303          17  \n",
              "4 -0.064317  0.037184  24.565397    18.326662  19.850639  0.208197          17  "
            ],
            "text/html": [
              "\n",
              "  <div id=\"df-7a58eb5f-27d7-42c7-b21e-c77e6d009c6a\">\n",
              "    <div class=\"colab-df-container\">\n",
              "      <div>\n",
              "<style scoped>\n",
              "    .dataframe tbody tr th:only-of-type {\n",
              "        vertical-align: middle;\n",
              "    }\n",
              "\n",
              "    .dataframe tbody tr th {\n",
              "        vertical-align: top;\n",
              "    }\n",
              "\n",
              "    .dataframe thead th {\n",
              "        text-align: right;\n",
              "    }\n",
              "</style>\n",
              "<table border=\"1\" class=\"dataframe\">\n",
              "  <thead>\n",
              "    <tr style=\"text-align: right;\">\n",
              "      <th></th>\n",
              "      <th>u_q</th>\n",
              "      <th>coolant</th>\n",
              "      <th>stator_winding</th>\n",
              "      <th>u_d</th>\n",
              "      <th>stator_tooth</th>\n",
              "      <th>motor_speed</th>\n",
              "      <th>i_d</th>\n",
              "      <th>i_q</th>\n",
              "      <th>pm</th>\n",
              "      <th>stator_yoke</th>\n",
              "      <th>ambient</th>\n",
              "      <th>torque</th>\n",
              "      <th>profile_id</th>\n",
              "    </tr>\n",
              "  </thead>\n",
              "  <tbody>\n",
              "    <tr>\n",
              "      <th>0</th>\n",
              "      <td>-0.450682</td>\n",
              "      <td>18.805172</td>\n",
              "      <td>19.086670</td>\n",
              "      <td>-0.350055</td>\n",
              "      <td>18.293219</td>\n",
              "      <td>0.002866</td>\n",
              "      <td>0.004419</td>\n",
              "      <td>0.000328</td>\n",
              "      <td>24.554214</td>\n",
              "      <td>18.316547</td>\n",
              "      <td>19.850691</td>\n",
              "      <td>0.187101</td>\n",
              "      <td>17</td>\n",
              "    </tr>\n",
              "    <tr>\n",
              "      <th>1</th>\n",
              "      <td>-0.325737</td>\n",
              "      <td>18.818571</td>\n",
              "      <td>19.092390</td>\n",
              "      <td>-0.305803</td>\n",
              "      <td>18.294807</td>\n",
              "      <td>0.000257</td>\n",
              "      <td>0.000606</td>\n",
              "      <td>-0.000785</td>\n",
              "      <td>24.538078</td>\n",
              "      <td>18.314955</td>\n",
              "      <td>19.850672</td>\n",
              "      <td>0.245417</td>\n",
              "      <td>17</td>\n",
              "    </tr>\n",
              "    <tr>\n",
              "      <th>2</th>\n",
              "      <td>-0.440864</td>\n",
              "      <td>18.828770</td>\n",
              "      <td>19.089380</td>\n",
              "      <td>-0.372503</td>\n",
              "      <td>18.294094</td>\n",
              "      <td>0.002355</td>\n",
              "      <td>0.001290</td>\n",
              "      <td>0.000386</td>\n",
              "      <td>24.544693</td>\n",
              "      <td>18.326307</td>\n",
              "      <td>19.850657</td>\n",
              "      <td>0.176615</td>\n",
              "      <td>17</td>\n",
              "    </tr>\n",
              "    <tr>\n",
              "      <th>3</th>\n",
              "      <td>-0.327026</td>\n",
              "      <td>18.835567</td>\n",
              "      <td>19.083031</td>\n",
              "      <td>-0.316199</td>\n",
              "      <td>18.292542</td>\n",
              "      <td>0.006105</td>\n",
              "      <td>0.000026</td>\n",
              "      <td>0.002046</td>\n",
              "      <td>24.554018</td>\n",
              "      <td>18.330833</td>\n",
              "      <td>19.850647</td>\n",
              "      <td>0.238303</td>\n",
              "      <td>17</td>\n",
              "    </tr>\n",
              "    <tr>\n",
              "      <th>4</th>\n",
              "      <td>-0.471150</td>\n",
              "      <td>18.857033</td>\n",
              "      <td>19.082525</td>\n",
              "      <td>-0.332272</td>\n",
              "      <td>18.291428</td>\n",
              "      <td>0.003133</td>\n",
              "      <td>-0.064317</td>\n",
              "      <td>0.037184</td>\n",
              "      <td>24.565397</td>\n",
              "      <td>18.326662</td>\n",
              "      <td>19.850639</td>\n",
              "      <td>0.208197</td>\n",
              "      <td>17</td>\n",
              "    </tr>\n",
              "  </tbody>\n",
              "</table>\n",
              "</div>\n",
              "      <button class=\"colab-df-convert\" onclick=\"convertToInteractive('df-7a58eb5f-27d7-42c7-b21e-c77e6d009c6a')\"\n",
              "              title=\"Convert this dataframe to an interactive table.\"\n",
              "              style=\"display:none;\">\n",
              "        \n",
              "  <svg xmlns=\"http://www.w3.org/2000/svg\" height=\"24px\"viewBox=\"0 0 24 24\"\n",
              "       width=\"24px\">\n",
              "    <path d=\"M0 0h24v24H0V0z\" fill=\"none\"/>\n",
              "    <path d=\"M18.56 5.44l.94 2.06.94-2.06 2.06-.94-2.06-.94-.94-2.06-.94 2.06-2.06.94zm-11 1L8.5 8.5l.94-2.06 2.06-.94-2.06-.94L8.5 2.5l-.94 2.06-2.06.94zm10 10l.94 2.06.94-2.06 2.06-.94-2.06-.94-.94-2.06-.94 2.06-2.06.94z\"/><path d=\"M17.41 7.96l-1.37-1.37c-.4-.4-.92-.59-1.43-.59-.52 0-1.04.2-1.43.59L10.3 9.45l-7.72 7.72c-.78.78-.78 2.05 0 2.83L4 21.41c.39.39.9.59 1.41.59.51 0 1.02-.2 1.41-.59l7.78-7.78 2.81-2.81c.8-.78.8-2.07 0-2.86zM5.41 20L4 18.59l7.72-7.72 1.47 1.35L5.41 20z\"/>\n",
              "  </svg>\n",
              "      </button>\n",
              "      \n",
              "  <style>\n",
              "    .colab-df-container {\n",
              "      display:flex;\n",
              "      flex-wrap:wrap;\n",
              "      gap: 12px;\n",
              "    }\n",
              "\n",
              "    .colab-df-convert {\n",
              "      background-color: #E8F0FE;\n",
              "      border: none;\n",
              "      border-radius: 50%;\n",
              "      cursor: pointer;\n",
              "      display: none;\n",
              "      fill: #1967D2;\n",
              "      height: 32px;\n",
              "      padding: 0 0 0 0;\n",
              "      width: 32px;\n",
              "    }\n",
              "\n",
              "    .colab-df-convert:hover {\n",
              "      background-color: #E2EBFA;\n",
              "      box-shadow: 0px 1px 2px rgba(60, 64, 67, 0.3), 0px 1px 3px 1px rgba(60, 64, 67, 0.15);\n",
              "      fill: #174EA6;\n",
              "    }\n",
              "\n",
              "    [theme=dark] .colab-df-convert {\n",
              "      background-color: #3B4455;\n",
              "      fill: #D2E3FC;\n",
              "    }\n",
              "\n",
              "    [theme=dark] .colab-df-convert:hover {\n",
              "      background-color: #434B5C;\n",
              "      box-shadow: 0px 1px 3px 1px rgba(0, 0, 0, 0.15);\n",
              "      filter: drop-shadow(0px 1px 2px rgba(0, 0, 0, 0.3));\n",
              "      fill: #FFFFFF;\n",
              "    }\n",
              "  </style>\n",
              "\n",
              "      <script>\n",
              "        const buttonEl =\n",
              "          document.querySelector('#df-7a58eb5f-27d7-42c7-b21e-c77e6d009c6a button.colab-df-convert');\n",
              "        buttonEl.style.display =\n",
              "          google.colab.kernel.accessAllowed ? 'block' : 'none';\n",
              "\n",
              "        async function convertToInteractive(key) {\n",
              "          const element = document.querySelector('#df-7a58eb5f-27d7-42c7-b21e-c77e6d009c6a');\n",
              "          const dataTable =\n",
              "            await google.colab.kernel.invokeFunction('convertToInteractive',\n",
              "                                                     [key], {});\n",
              "          if (!dataTable) return;\n",
              "\n",
              "          const docLinkHtml = 'Like what you see? Visit the ' +\n",
              "            '<a target=\"_blank\" href=https://colab.research.google.com/notebooks/data_table.ipynb>data table notebook</a>'\n",
              "            + ' to learn more about interactive tables.';\n",
              "          element.innerHTML = '';\n",
              "          dataTable['output_type'] = 'display_data';\n",
              "          await google.colab.output.renderOutput(dataTable, element);\n",
              "          const docLink = document.createElement('div');\n",
              "          docLink.innerHTML = docLinkHtml;\n",
              "          element.appendChild(docLink);\n",
              "        }\n",
              "      </script>\n",
              "    </div>\n",
              "  </div>\n",
              "  "
            ]
          },
          "metadata": {},
          "execution_count": 10
        }
      ],
      "source": [
        "data.head()"
      ]
    },
    {
      "cell_type": "markdown",
      "metadata": {
        "id": "sVGgpIJ6vxAH"
      },
      "source": [
        "Di seguito si procede ad illustrare l'elenco delle **feature** presenti nel dataset"
      ]
    },
    {
      "cell_type": "markdown",
      "metadata": {
        "id": "MyU4cHn3v8qE"
      },
      "source": [
        "\n",
        "\n",
        "*   `u_q`: voltaggio del componente q in coordinate dq (in Volt)\n",
        "*   `coolant`: temperatura del liquido di raffreddamento (in °C)\n",
        "*   `stator_winding`: temperatura della bobina dello statore (in °C)\n",
        "*   `u_d`: voltaggio del componente q in coordinate dq (in Volt)\n",
        "*   `stator_tooth`: temperatura del dente dello statore (in °C)\n",
        "*   `motor_speed`: velocità del motore (in rpm)\n",
        "*   `i_d`: misura corrente del componente d in coordinate dq\n",
        "*   `i_q`: misura corrente del componente q in coordinate dq\n",
        "*   `pm`: temperatura del rotore del motore a magneti permanenti (in °C)\n",
        "*   `stator_yoke`: temperatura del giogo dello statore (in °C)\n",
        "*   `ambient`: temperatura dell'ambiente (in °C)\n",
        "*   `torque`: dimensione coppia del motore (in Nm)\n",
        "*   `profile_id`: identificatore della sessione di misurazione\n",
        "\n",
        "\n",
        "\n",
        "\n",
        "\n"
      ]
    },
    {
      "cell_type": "markdown",
      "metadata": {
        "id": "pVlp0ywI1etV"
      },
      "source": [
        "La variabile target è `pm`, è una variabile continua che indica la temperatura del rotore del motore a magneti permanenti.\n",
        "Tutte le feauture prese in considerazione sono delle variabili continue, alcune indicano la temperatura dei vari componenti del motore, altre il voltaggio e altre ancora la dimensione."
      ]
    },
    {
      "cell_type": "markdown",
      "metadata": {
        "id": "jemkKfSAb718"
      },
      "source": [
        "##Analisi Esplorativa"
      ]
    },
    {
      "cell_type": "markdown",
      "metadata": {
        "id": "YprYVKRje5Tx"
      },
      "source": [
        "Procediamo ora a esaminare le specifiche informazioni sulle feature, formattando l'output in modo da rimuovere la notazione scientifica e rendere più chiari i valori visualizzati."
      ]
    },
    {
      "cell_type": "code",
      "execution_count": null,
      "metadata": {
        "colab": {
          "base_uri": "https://localhost:8080/",
          "height": 364
        },
        "id": "xPfIZb-IXmZB",
        "outputId": "cfefc815-fa05-41dc-9c92-941801a76dfa"
      },
      "outputs": [
        {
          "output_type": "execute_result",
          "data": {
            "text/plain": [
              "                 u_q        coolant stator_winding            u_d  \\\n",
              "count  1330816.00000  1330816.00000  1330816.00000  1330816.00000   \n",
              "mean        54.27900       36.22999       66.34275      -25.13381   \n",
              "std         44.17323       21.78615       28.67206       63.09197   \n",
              "min        -25.29093       10.62375       18.58582     -131.53041   \n",
              "25%         12.06992       18.69814       42.78796      -78.69090   \n",
              "50%         48.93818       26.90014       65.11013       -7.42975   \n",
              "75%         90.03439       49.85749       88.14114        1.47027   \n",
              "max        133.03699      101.59851      141.36288      131.46979   \n",
              "\n",
              "        stator_tooth    motor_speed            i_d            i_q  \\\n",
              "count  1330816.00000  1330816.00000  1330816.00000  1330816.00000   \n",
              "mean        56.87858     2202.08073      -68.71681       37.41278   \n",
              "std         22.95223     1859.66335       64.93323       92.18188   \n",
              "min         18.13398     -275.54914     -278.00363     -293.42679   \n",
              "25%         38.41601      317.11066     -115.40606        1.09586   \n",
              "50%         56.03635     1999.97668      -51.09376       15.77401   \n",
              "75%         75.58668     3760.63906       -2.97969      100.61215   \n",
              "max        111.94642     6000.01514        0.05190      301.70786   \n",
              "\n",
              "                  pm    stator_yoke        ambient         torque  \\\n",
              "count  1330816.00000  1330816.00000  1330816.00000  1330816.00000   \n",
              "mean        58.50678       48.18796       24.56526       31.10603   \n",
              "std         19.00150       19.99100        1.92952       77.13575   \n",
              "min         20.85696       18.07669        8.78348     -246.46666   \n",
              "25%         43.15158       31.99033       23.18480       -0.13743   \n",
              "50%         60.26629       45.62551       24.79733       10.86035   \n",
              "75%         72.00837       61.46083       26.21702       91.59718   \n",
              "max        113.60663      101.14796       30.71420      261.00571   \n",
              "\n",
              "          profile_id  \n",
              "count  1330816.00000  \n",
              "mean        40.79306  \n",
              "std         25.04549  \n",
              "min          2.00000  \n",
              "25%         17.00000  \n",
              "50%         43.00000  \n",
              "75%         65.00000  \n",
              "max         81.00000  "
            ],
            "text/html": [
              "\n",
              "  <div id=\"df-0d08c95f-b274-4d37-b5d4-9fdf2892c443\">\n",
              "    <div class=\"colab-df-container\">\n",
              "      <div>\n",
              "<style scoped>\n",
              "    .dataframe tbody tr th:only-of-type {\n",
              "        vertical-align: middle;\n",
              "    }\n",
              "\n",
              "    .dataframe tbody tr th {\n",
              "        vertical-align: top;\n",
              "    }\n",
              "\n",
              "    .dataframe thead th {\n",
              "        text-align: right;\n",
              "    }\n",
              "</style>\n",
              "<table border=\"1\" class=\"dataframe\">\n",
              "  <thead>\n",
              "    <tr style=\"text-align: right;\">\n",
              "      <th></th>\n",
              "      <th>u_q</th>\n",
              "      <th>coolant</th>\n",
              "      <th>stator_winding</th>\n",
              "      <th>u_d</th>\n",
              "      <th>stator_tooth</th>\n",
              "      <th>motor_speed</th>\n",
              "      <th>i_d</th>\n",
              "      <th>i_q</th>\n",
              "      <th>pm</th>\n",
              "      <th>stator_yoke</th>\n",
              "      <th>ambient</th>\n",
              "      <th>torque</th>\n",
              "      <th>profile_id</th>\n",
              "    </tr>\n",
              "  </thead>\n",
              "  <tbody>\n",
              "    <tr>\n",
              "      <th>count</th>\n",
              "      <td>1330816.00000</td>\n",
              "      <td>1330816.00000</td>\n",
              "      <td>1330816.00000</td>\n",
              "      <td>1330816.00000</td>\n",
              "      <td>1330816.00000</td>\n",
              "      <td>1330816.00000</td>\n",
              "      <td>1330816.00000</td>\n",
              "      <td>1330816.00000</td>\n",
              "      <td>1330816.00000</td>\n",
              "      <td>1330816.00000</td>\n",
              "      <td>1330816.00000</td>\n",
              "      <td>1330816.00000</td>\n",
              "      <td>1330816.00000</td>\n",
              "    </tr>\n",
              "    <tr>\n",
              "      <th>mean</th>\n",
              "      <td>54.27900</td>\n",
              "      <td>36.22999</td>\n",
              "      <td>66.34275</td>\n",
              "      <td>-25.13381</td>\n",
              "      <td>56.87858</td>\n",
              "      <td>2202.08073</td>\n",
              "      <td>-68.71681</td>\n",
              "      <td>37.41278</td>\n",
              "      <td>58.50678</td>\n",
              "      <td>48.18796</td>\n",
              "      <td>24.56526</td>\n",
              "      <td>31.10603</td>\n",
              "      <td>40.79306</td>\n",
              "    </tr>\n",
              "    <tr>\n",
              "      <th>std</th>\n",
              "      <td>44.17323</td>\n",
              "      <td>21.78615</td>\n",
              "      <td>28.67206</td>\n",
              "      <td>63.09197</td>\n",
              "      <td>22.95223</td>\n",
              "      <td>1859.66335</td>\n",
              "      <td>64.93323</td>\n",
              "      <td>92.18188</td>\n",
              "      <td>19.00150</td>\n",
              "      <td>19.99100</td>\n",
              "      <td>1.92952</td>\n",
              "      <td>77.13575</td>\n",
              "      <td>25.04549</td>\n",
              "    </tr>\n",
              "    <tr>\n",
              "      <th>min</th>\n",
              "      <td>-25.29093</td>\n",
              "      <td>10.62375</td>\n",
              "      <td>18.58582</td>\n",
              "      <td>-131.53041</td>\n",
              "      <td>18.13398</td>\n",
              "      <td>-275.54914</td>\n",
              "      <td>-278.00363</td>\n",
              "      <td>-293.42679</td>\n",
              "      <td>20.85696</td>\n",
              "      <td>18.07669</td>\n",
              "      <td>8.78348</td>\n",
              "      <td>-246.46666</td>\n",
              "      <td>2.00000</td>\n",
              "    </tr>\n",
              "    <tr>\n",
              "      <th>25%</th>\n",
              "      <td>12.06992</td>\n",
              "      <td>18.69814</td>\n",
              "      <td>42.78796</td>\n",
              "      <td>-78.69090</td>\n",
              "      <td>38.41601</td>\n",
              "      <td>317.11066</td>\n",
              "      <td>-115.40606</td>\n",
              "      <td>1.09586</td>\n",
              "      <td>43.15158</td>\n",
              "      <td>31.99033</td>\n",
              "      <td>23.18480</td>\n",
              "      <td>-0.13743</td>\n",
              "      <td>17.00000</td>\n",
              "    </tr>\n",
              "    <tr>\n",
              "      <th>50%</th>\n",
              "      <td>48.93818</td>\n",
              "      <td>26.90014</td>\n",
              "      <td>65.11013</td>\n",
              "      <td>-7.42975</td>\n",
              "      <td>56.03635</td>\n",
              "      <td>1999.97668</td>\n",
              "      <td>-51.09376</td>\n",
              "      <td>15.77401</td>\n",
              "      <td>60.26629</td>\n",
              "      <td>45.62551</td>\n",
              "      <td>24.79733</td>\n",
              "      <td>10.86035</td>\n",
              "      <td>43.00000</td>\n",
              "    </tr>\n",
              "    <tr>\n",
              "      <th>75%</th>\n",
              "      <td>90.03439</td>\n",
              "      <td>49.85749</td>\n",
              "      <td>88.14114</td>\n",
              "      <td>1.47027</td>\n",
              "      <td>75.58668</td>\n",
              "      <td>3760.63906</td>\n",
              "      <td>-2.97969</td>\n",
              "      <td>100.61215</td>\n",
              "      <td>72.00837</td>\n",
              "      <td>61.46083</td>\n",
              "      <td>26.21702</td>\n",
              "      <td>91.59718</td>\n",
              "      <td>65.00000</td>\n",
              "    </tr>\n",
              "    <tr>\n",
              "      <th>max</th>\n",
              "      <td>133.03699</td>\n",
              "      <td>101.59851</td>\n",
              "      <td>141.36288</td>\n",
              "      <td>131.46979</td>\n",
              "      <td>111.94642</td>\n",
              "      <td>6000.01514</td>\n",
              "      <td>0.05190</td>\n",
              "      <td>301.70786</td>\n",
              "      <td>113.60663</td>\n",
              "      <td>101.14796</td>\n",
              "      <td>30.71420</td>\n",
              "      <td>261.00571</td>\n",
              "      <td>81.00000</td>\n",
              "    </tr>\n",
              "  </tbody>\n",
              "</table>\n",
              "</div>\n",
              "      <button class=\"colab-df-convert\" onclick=\"convertToInteractive('df-0d08c95f-b274-4d37-b5d4-9fdf2892c443')\"\n",
              "              title=\"Convert this dataframe to an interactive table.\"\n",
              "              style=\"display:none;\">\n",
              "        \n",
              "  <svg xmlns=\"http://www.w3.org/2000/svg\" height=\"24px\"viewBox=\"0 0 24 24\"\n",
              "       width=\"24px\">\n",
              "    <path d=\"M0 0h24v24H0V0z\" fill=\"none\"/>\n",
              "    <path d=\"M18.56 5.44l.94 2.06.94-2.06 2.06-.94-2.06-.94-.94-2.06-.94 2.06-2.06.94zm-11 1L8.5 8.5l.94-2.06 2.06-.94-2.06-.94L8.5 2.5l-.94 2.06-2.06.94zm10 10l.94 2.06.94-2.06 2.06-.94-2.06-.94-.94-2.06-.94 2.06-2.06.94z\"/><path d=\"M17.41 7.96l-1.37-1.37c-.4-.4-.92-.59-1.43-.59-.52 0-1.04.2-1.43.59L10.3 9.45l-7.72 7.72c-.78.78-.78 2.05 0 2.83L4 21.41c.39.39.9.59 1.41.59.51 0 1.02-.2 1.41-.59l7.78-7.78 2.81-2.81c.8-.78.8-2.07 0-2.86zM5.41 20L4 18.59l7.72-7.72 1.47 1.35L5.41 20z\"/>\n",
              "  </svg>\n",
              "      </button>\n",
              "      \n",
              "  <style>\n",
              "    .colab-df-container {\n",
              "      display:flex;\n",
              "      flex-wrap:wrap;\n",
              "      gap: 12px;\n",
              "    }\n",
              "\n",
              "    .colab-df-convert {\n",
              "      background-color: #E8F0FE;\n",
              "      border: none;\n",
              "      border-radius: 50%;\n",
              "      cursor: pointer;\n",
              "      display: none;\n",
              "      fill: #1967D2;\n",
              "      height: 32px;\n",
              "      padding: 0 0 0 0;\n",
              "      width: 32px;\n",
              "    }\n",
              "\n",
              "    .colab-df-convert:hover {\n",
              "      background-color: #E2EBFA;\n",
              "      box-shadow: 0px 1px 2px rgba(60, 64, 67, 0.3), 0px 1px 3px 1px rgba(60, 64, 67, 0.15);\n",
              "      fill: #174EA6;\n",
              "    }\n",
              "\n",
              "    [theme=dark] .colab-df-convert {\n",
              "      background-color: #3B4455;\n",
              "      fill: #D2E3FC;\n",
              "    }\n",
              "\n",
              "    [theme=dark] .colab-df-convert:hover {\n",
              "      background-color: #434B5C;\n",
              "      box-shadow: 0px 1px 3px 1px rgba(0, 0, 0, 0.15);\n",
              "      filter: drop-shadow(0px 1px 2px rgba(0, 0, 0, 0.3));\n",
              "      fill: #FFFFFF;\n",
              "    }\n",
              "  </style>\n",
              "\n",
              "      <script>\n",
              "        const buttonEl =\n",
              "          document.querySelector('#df-0d08c95f-b274-4d37-b5d4-9fdf2892c443 button.colab-df-convert');\n",
              "        buttonEl.style.display =\n",
              "          google.colab.kernel.accessAllowed ? 'block' : 'none';\n",
              "\n",
              "        async function convertToInteractive(key) {\n",
              "          const element = document.querySelector('#df-0d08c95f-b274-4d37-b5d4-9fdf2892c443');\n",
              "          const dataTable =\n",
              "            await google.colab.kernel.invokeFunction('convertToInteractive',\n",
              "                                                     [key], {});\n",
              "          if (!dataTable) return;\n",
              "\n",
              "          const docLinkHtml = 'Like what you see? Visit the ' +\n",
              "            '<a target=\"_blank\" href=https://colab.research.google.com/notebooks/data_table.ipynb>data table notebook</a>'\n",
              "            + ' to learn more about interactive tables.';\n",
              "          element.innerHTML = '';\n",
              "          dataTable['output_type'] = 'display_data';\n",
              "          await google.colab.output.renderOutput(dataTable, element);\n",
              "          const docLink = document.createElement('div');\n",
              "          docLink.innerHTML = docLinkHtml;\n",
              "          element.appendChild(docLink);\n",
              "        }\n",
              "      </script>\n",
              "    </div>\n",
              "  </div>\n",
              "  "
            ]
          },
          "metadata": {},
          "execution_count": 11
        }
      ],
      "source": [
        "data.describe().apply(lambda s: s.apply('{0:.5f}'.format))"
      ]
    },
    {
      "cell_type": "markdown",
      "metadata": {
        "id": "CddwXx-OYvRU"
      },
      "source": [
        "Rilevando le informazioni principali sul dataset, ricaviamo che il numero di istanze è `1.330.816` e per ogni feature possiamo osservare la **media**, il **minimo**, il **massimo**, la **deviazione standard** e infine i **percentili**.\n",
        "\n",
        "Se consideriamo ad esempio la variabile target `pm`, che indica la temperatura del motore a magneti permanenti, essa ha un minimo di circa 21°C e un massimo di circa 114°C, con una media di 59°C.\n",
        "\n"
      ]
    },
    {
      "cell_type": "markdown",
      "metadata": {
        "id": "Vk2P6qjtXviL"
      },
      "source": [
        "###Rimozione valori nulli e identificatori"
      ]
    },
    {
      "cell_type": "markdown",
      "metadata": {
        "id": "SdhkO-qGMfvR"
      },
      "source": [
        "Tra le feature sopra elencate vi è un **identificatore** della misurazione `profile_id` che si riferisce all'id univoco della misurazione, può di conseguenza essere rimosso in quanto non rilevante per il nostro caso di studio."
      ]
    },
    {
      "cell_type": "code",
      "execution_count": null,
      "metadata": {
        "id": "ydyEr_3SMe7G"
      },
      "outputs": [],
      "source": [
        "data = data.drop(\"profile_id\",axis=1)"
      ]
    },
    {
      "cell_type": "markdown",
      "metadata": {
        "id": "9FWfpcjdcXv_"
      },
      "source": [
        "Procedendo è necessario verificare se sono presenti valori **nulli** all'interno del dataset."
      ]
    },
    {
      "cell_type": "code",
      "execution_count": null,
      "metadata": {
        "colab": {
          "base_uri": "https://localhost:8080/"
        },
        "id": "u8zAXwAEYMbn",
        "outputId": "f89f3afc-2cdd-4c62-e637-fee19d18e7c1"
      },
      "outputs": [
        {
          "output_type": "execute_result",
          "data": {
            "text/plain": [
              "u_q               0\n",
              "coolant           0\n",
              "stator_winding    0\n",
              "u_d               0\n",
              "stator_tooth      0\n",
              "motor_speed       0\n",
              "i_d               0\n",
              "i_q               0\n",
              "pm                0\n",
              "stator_yoke       0\n",
              "ambient           0\n",
              "torque            0\n",
              "dtype: int64"
            ]
          },
          "metadata": {},
          "execution_count": 13
        }
      ],
      "source": [
        "data.isna().sum()"
      ]
    },
    {
      "cell_type": "markdown",
      "metadata": {
        "id": "uCpbz9HHeSGx"
      },
      "source": [
        "All'interno del dataset non sono presenti valori nulli, non è quindi necessario gestirli."
      ]
    },
    {
      "cell_type": "code",
      "source": [
        "data.nunique().sort_values()"
      ],
      "metadata": {
        "colab": {
          "base_uri": "https://localhost:8080/"
        },
        "id": "dSff9k8KVPbc",
        "outputId": "8812ddde-40f5-45b1-ed95-fdfbf4d216c7"
      },
      "execution_count": null,
      "outputs": [
        {
          "output_type": "execute_result",
          "data": {
            "text/plain": [
              "motor_speed        777565\n",
              "i_q               1024944\n",
              "i_d               1047491\n",
              "coolant           1110491\n",
              "torque            1157267\n",
              "ambient           1193868\n",
              "stator_yoke       1228430\n",
              "stator_tooth      1229028\n",
              "stator_winding    1262752\n",
              "u_q               1271775\n",
              "u_d               1295778\n",
              "pm                1316978\n",
              "dtype: int64"
            ]
          },
          "metadata": {},
          "execution_count": 14
        }
      ]
    },
    {
      "cell_type": "markdown",
      "source": [
        "Esaminando il **numero di valori distinti** delle feature notiamo (come ci aspettavamo, essendo tutte variabili continue) un numero di valori distinti molto elevato e abbastanza uniforme."
      ],
      "metadata": {
        "id": "AWIeL6azVgaJ"
      }
    },
    {
      "cell_type": "markdown",
      "metadata": {
        "id": "fKiuiblF68Av"
      },
      "source": [
        "##Correlazione tra le feature"
      ]
    },
    {
      "cell_type": "markdown",
      "metadata": {
        "id": "0kTuQ_0r7IFH"
      },
      "source": [
        "Ora è necessario esaminare alcune coppie di feature per verificare che ci sia effettivamente una **correlazione**, quindi una dipendenza, tra di esse. Questo permette anche di analizzare meglio il dominio del dataset, che in questo caso presenta feature molto tecniche e non di immediata comprensione per chi non conosce l'argomento.\n",
        "\n",
        "Dal momento che il dataset presenta un'elevata quantità di istanze, è necessario prelevare un **campione casuale** dei dati per rendere più leggibili i grafici a dispersione."
      ]
    },
    {
      "cell_type": "code",
      "execution_count": null,
      "metadata": {
        "id": "TGioZFaL8LZ9"
      },
      "outputs": [],
      "source": [
        "sample = data.sample(n=1000, random_state=1)"
      ]
    },
    {
      "cell_type": "markdown",
      "metadata": {
        "id": "2KRph0co8H74"
      },
      "source": [
        "Di seguito verranno illustrati vari grafici a dispersione che mostrano la correlazione presente tra alcune coppie di feature, in particolare anche riguardanti la variabile target da predire `pm`."
      ]
    },
    {
      "cell_type": "code",
      "execution_count": null,
      "metadata": {
        "colab": {
          "base_uri": "https://localhost:8080/",
          "height": 328
        },
        "id": "tO5YdKD8Nqey",
        "outputId": "41e4263c-e006-43d7-e5e4-ce327342b086"
      },
      "outputs": [
        {
          "output_type": "execute_result",
          "data": {
            "text/plain": [
              "Text(0.5, 0, 'motor_speed')"
            ]
          },
          "metadata": {},
          "execution_count": 16
        },
        {
          "output_type": "display_data",
          "data": {
            "text/plain": [
              "<Figure size 1440x720 with 3 Axes>"
            ],
            "image/png": "[encoded data removed]"
          },
          "metadata": {
            "needs_background": "light"
          }
        }
      ],
      "source": [
        "plt.figure(figsize=(20, 10))\n",
        "\n",
        "plt.subplot(2, 3, 1)\n",
        "plt.title('Correlazione diretta')\n",
        "plt.scatter(sample['stator_tooth'],sample['pm'],s=10,c='red')\n",
        "plt.ylabel('pm')\n",
        "plt.xlabel('stator_tooth')\n",
        "\n",
        "plt.subplot(2, 3, 2)\n",
        "plt.title('Correlazione inversa')\n",
        "plt.scatter(sample['i_d'],sample['stator_winding'],s=10,c='blue')\n",
        "plt.ylabel('stator_winding')\n",
        "plt.xlabel('i_d')\n",
        "\n",
        "plt.subplot(2, 3, 3)\n",
        "plt.title('Nessuna correlazione')\n",
        "plt.scatter(sample['coolant'],sample['motor_speed'],s=10,c='green')\n",
        "plt.ylabel('coolant')\n",
        "plt.xlabel('motor_speed')"
      ]
    },
    {
      "cell_type": "markdown",
      "metadata": {
        "id": "xyGssuXQCbcP"
      },
      "source": [
        "Con i grafici a dispersione risulta chiaro che in questo caso di studio sono presenti tutti e tre i tipi di correlazione tra feature:\n",
        "\n",
        "1.   **Correlazione diretta**: la temperatura del motore è direttamente proporzionale alla dimensione del dente dello statore. \n",
        "\n",
        "2.   **Correlazione inversa**: meno corrente arriva al componente d, più aumenta la temperatura della bobina dello statore.\n",
        "\n",
        "3.   **Assenza di correlazione**: esaminando il grafico si nota che la velocità del motore non è correlata con la temperatura del liquido di raffreddamento.\n"
      ]
    },
    {
      "cell_type": "markdown",
      "metadata": {
        "id": "JwZVxEAmkO20"
      },
      "source": [
        "###Distribuzione delle variabili"
      ]
    },
    {
      "cell_type": "markdown",
      "metadata": {
        "id": "jFjU-BVOYd8i"
      },
      "source": [
        "Di seguito vengono mostrati degli **istogrammi** che chiarificano la distribuzione di alcune feature (già identificate come variabili continue) nel range di valori [min, max] già esaminato in precedenza."
      ]
    },
    {
      "cell_type": "code",
      "execution_count": null,
      "metadata": {
        "colab": {
          "base_uri": "https://localhost:8080/",
          "height": 241
        },
        "id": "CO2XiJEVdB2z",
        "outputId": "64c1b3a3-b274-4836-b145-8039107cf404"
      },
      "outputs": [
        {
          "output_type": "execute_result",
          "data": {
            "text/plain": [
              "Text(0.5, 0, 'ambient')"
            ]
          },
          "metadata": {},
          "execution_count": 17
        },
        {
          "output_type": "display_data",
          "data": {
            "text/plain": [
              "<Figure size 1440x720 with 3 Axes>"
            ],
            "image/png": "[encoded data removed]"
          },
          "metadata": {
            "needs_background": "light"
          }
        }
      ],
      "source": [
        "plt.figure(figsize=(20, 10))\n",
        "\n",
        "plt.subplot(3, 3, 1)\n",
        "plt.title('Temperatura Motore')\n",
        "plt.hist(data['pm'], bins=20, color = 'salmon')\n",
        "plt.ylabel('measurement')\n",
        "plt.xlabel('pm')\n",
        "\n",
        "plt.subplot(3, 3, 2)\n",
        "plt.title('Temperatura Liquido di raffreddamento')\n",
        "plt.hist(data['coolant'], bins=20, color = 'peachpuff')\n",
        "plt.ylabel('measurement')\n",
        "plt.xlabel('coolant')\n",
        "\n",
        "plt.subplot(3, 3, 3)\n",
        "plt.title('Temperatura dell\\'ambiente')\n",
        "plt.hist(data['ambient'], bins=20, color = 'papayawhip')\n",
        "plt.ylabel('measurement')\n",
        "plt.xlabel('ambient')"
      ]
    },
    {
      "cell_type": "code",
      "execution_count": null,
      "metadata": {
        "colab": {
          "base_uri": "https://localhost:8080/",
          "height": 242
        },
        "id": "QHbQP5aXhy3H",
        "outputId": "1a29265f-c21e-4cb4-f7d7-9958681eb52a"
      },
      "outputs": [
        {
          "output_type": "execute_result",
          "data": {
            "text/plain": [
              "Text(0.5, 0, 'stator_yoke')"
            ]
          },
          "metadata": {},
          "execution_count": 18
        },
        {
          "output_type": "display_data",
          "data": {
            "text/plain": [
              "<Figure size 1440x720 with 3 Axes>"
            ],
            "image/png": "[encoded data removed]"
          },
          "metadata": {
            "needs_background": "light"
          }
        }
      ],
      "source": [
        "plt.figure(figsize=(20, 10))\n",
        "\n",
        "plt.subplot(3, 3, 1)\n",
        "plt.title('Temperatura Motore')\n",
        "plt.hist(data['pm'], bins=20, color = 'lightgreen')\n",
        "plt.ylabel('measurement')\n",
        "plt.xlabel('pm')\n",
        "\n",
        "plt.subplot(3, 3, 2)\n",
        "plt.title('Dimensione del dente dello statore')\n",
        "plt.hist(data['stator_tooth'], bins=20, color = 'lightseagreen')\n",
        "plt.ylabel('measurement')\n",
        "plt.xlabel('stator_tooth')\n",
        "\n",
        "plt.subplot(3, 3, 3)\n",
        "plt.title('Giogo dello statore')\n",
        "plt.hist(data['stator_yoke'], bins=20, color = 'lightblue')\n",
        "plt.ylabel('measurement')\n",
        "plt.xlabel('stator_yoke')"
      ]
    },
    {
      "cell_type": "code",
      "execution_count": null,
      "metadata": {
        "colab": {
          "base_uri": "https://localhost:8080/",
          "height": 242
        },
        "id": "N16Pi2rEh-ya",
        "outputId": "dc1261d9-e464-4907-f4ca-5f9263d70407"
      },
      "outputs": [
        {
          "output_type": "execute_result",
          "data": {
            "text/plain": [
              "Text(0.5, 0, 'motor_speed')"
            ]
          },
          "metadata": {},
          "execution_count": 19
        },
        {
          "output_type": "display_data",
          "data": {
            "text/plain": [
              "<Figure size 1440x720 with 3 Axes>"
            ],
            "image/png": "[encoded data removed]"
          },
          "metadata": {
            "needs_background": "light"
          }
        }
      ],
      "source": [
        "plt.figure(figsize=(20, 10))\n",
        "\n",
        "plt.subplot(3, 3, 1)\n",
        "plt.title('Corrente componente d')\n",
        "plt.hist(data['i_d'], bins=20, color = 'lightsteelblue')\n",
        "plt.ylabel('measurement')\n",
        "plt.xlabel('i_d')\n",
        "\n",
        "plt.subplot(3, 3, 2)\n",
        "plt.title('Voltaggio componente q')\n",
        "plt.hist(data['u_q'], bins=20, color = 'lightgray')\n",
        "plt.ylabel('measurement')\n",
        "plt.xlabel('u_q')\n",
        "\n",
        "plt.subplot(3, 3, 3)\n",
        "plt.title('Velocità del motore')\n",
        "plt.hist(data['motor_speed'], bins=20, color = 'rosybrown')\n",
        "plt.ylabel('measurement')\n",
        "plt.xlabel('motor_speed')"
      ]
    },
    {
      "cell_type": "markdown",
      "metadata": {
        "id": "ZDdVfsQqka3Y"
      },
      "source": [
        "###Controllo outliers"
      ]
    },
    {
      "cell_type": "markdown",
      "metadata": {
        "id": "0U7pdVHpj8h0"
      },
      "source": [
        "Di seguito si procede a visualizzare le distribuzioni delle variabili tramite **boxplot** per verificare la presenza di eventuali **outlier**."
      ]
    },
    {
      "cell_type": "code",
      "execution_count": null,
      "metadata": {
        "colab": {
          "base_uri": "https://localhost:8080/",
          "height": 720
        },
        "id": "oYWvTIMCmSLf",
        "outputId": "1749a434-6132-4f86-f537-7094db734134"
      },
      "outputs": [
        {
          "output_type": "execute_result",
          "data": {
            "text/plain": [
              "{'boxes': [<matplotlib.lines.Line2D at 0x7f96d823c490>],\n",
              " 'caps': [<matplotlib.lines.Line2D at 0x7f96d82444d0>,\n",
              "  <matplotlib.lines.Line2D at 0x7f96d8244a10>],\n",
              " 'fliers': [<matplotlib.lines.Line2D at 0x7f96d81cc510>],\n",
              " 'means': [],\n",
              " 'medians': [<matplotlib.lines.Line2D at 0x7f96d8244f90>],\n",
              " 'whiskers': [<matplotlib.lines.Line2D at 0x7f96d823ca10>,\n",
              "  <matplotlib.lines.Line2D at 0x7f96d823cf50>]}"
            ]
          },
          "metadata": {},
          "execution_count": 20
        },
        {
          "output_type": "display_data",
          "data": {
            "text/plain": [
              "<Figure size 1440x720 with 9 Axes>"
            ],
            "image/png": "[encoded data removed]"
          },
          "metadata": {
            "needs_background": "light"
          }
        }
      ],
      "source": [
        "plt.figure(figsize=(20, 10))\n",
        "\n",
        "plt.subplot(3, 3, 1)\n",
        "plt.title('Temperatura Motore')\n",
        "plt.boxplot(data['pm'])\n",
        "\n",
        "plt.subplot(3, 3, 2)\n",
        "plt.title('Temperatura Liquido di raffreddamento')\n",
        "plt.boxplot(data['coolant'])\n",
        "\n",
        "plt.subplot(3, 3, 3)\n",
        "plt.title('Temperatura dell\\'ambiente')\n",
        "plt.boxplot(data['ambient'])\n",
        "\n",
        "plt.subplot(3, 3, 4)\n",
        "plt.title('Dimensione del dente dello statore')\n",
        "plt.boxplot(data['stator_tooth'])\n",
        "\n",
        "plt.subplot(3, 3, 5)\n",
        "plt.title('Giogo dello statore')\n",
        "plt.boxplot(data['stator_yoke'])\n",
        "\n",
        "plt.subplot(3, 3, 6)\n",
        "plt.title('Temperatura della bobina dello statore')\n",
        "plt.boxplot(data['stator_winding'])\n",
        "\n",
        "plt.subplot(3, 3, 7)\n",
        "plt.title('i_d')\n",
        "plt.boxplot(data['i_d'])\n",
        "\n",
        "plt.subplot(3, 3, 8)\n",
        "plt.title('u_q')\n",
        "plt.boxplot(data['u_q'])\n",
        "\n",
        "plt.subplot(3, 3, 9)\n",
        "plt.title('motor_speed')\n",
        "plt.boxplot(data['motor_speed'])"
      ]
    },
    {
      "cell_type": "markdown",
      "metadata": {
        "id": "dYwusvHCbEub"
      },
      "source": [
        "Visualizzando le distribuzioni delle feature tramite `boxplot` notiamo che sono presenti alcuni **outliers** nella feature `ambient` che riguarda la temperatura dell'ambiente. Notiamo però che sono distribuiti abbastanza uniformemente e si trovano in corrispondenza di valori accettabili di temperatura.\n"
      ]
    },
    {
      "cell_type": "markdown",
      "metadata": {
        "id": "4F4OeqIkkmqh"
      },
      "source": [
        "###Matrice di correlazione"
      ]
    },
    {
      "cell_type": "markdown",
      "metadata": {
        "id": "H8zjD_zBfNB8"
      },
      "source": [
        "Procediamo di seguito a visualizzare la **matrice di correlazione** tra tutte le coppie di feature, ricavandone una visione d'insieme."
      ]
    },
    {
      "cell_type": "code",
      "execution_count": null,
      "metadata": {
        "id": "M3giWXlThD67"
      },
      "outputs": [],
      "source": [
        "def plot_correlation(dataset):\n",
        "    cmap = sns.diverging_palette(30, 240, as_cmap=True)\n",
        "    # Generate a mask for the upper triangle\n",
        "    mask = np.zeros_like(dataset, dtype=np.bool)\n",
        "    mask[np.triu_indices_from(mask)] = True\n",
        "\n",
        "    # Set up the matplotlib figure\n",
        "    f, ax = plt.subplots(figsize=(11, 9))\n",
        "    # Draw the heatmap with the mask and correct aspect ratio\n",
        "    sns.heatmap(dataset, mask=mask, cmap=cmap, vmax=.3, center=0,annot = True, square=True, linewidths=.5, cbar_kws={\"shrink\": .5});"
      ]
    },
    {
      "cell_type": "code",
      "execution_count": null,
      "metadata": {
        "colab": {
          "base_uri": "https://localhost:8080/",
          "height": 673
        },
        "id": "qXev0fSweDv1",
        "outputId": "b4325c0b-6622-4426-87ee-f59a5f9fe660"
      },
      "outputs": [
        {
          "output_type": "stream",
          "name": "stderr",
          "text": [
            "/usr/local/lib/python3.7/dist-packages/ipykernel_launcher.py:4: DeprecationWarning: `np.bool` is a deprecated alias for the builtin `bool`. To silence this warning, use `bool` by itself. Doing this will not modify any behavior and is safe. If you specifically wanted the numpy scalar type, use `np.bool_` here.\n",
            "Deprecated in NumPy 1.20; for more details and guidance: https://numpy.org/devdocs/release/1.20.0-notes.html#deprecations\n",
            "  after removing the cwd from sys.path.\n"
          ]
        },
        {
          "output_type": "display_data",
          "data": {
            "text/plain": [
              "<Figure size 792x648 with 2 Axes>"
            ],
            "image/png": "[encoded data removed]"
          },
          "metadata": {
            "needs_background": "light"
          }
        }
      ],
      "source": [
        "plot_correlation(data.corr())"
      ]
    },
    {
      "cell_type": "markdown",
      "metadata": {
        "id": "GUR5u7fGfepE"
      },
      "source": [
        "Si noti come in generale ci sono più feature che riguardano lo stesso componente (es. lo statore) e che quindi hanno una correlazione forte tra di loro.\n",
        "\n",
        "*   `stator_yoke` e `stator_winding` : la temperatura della bobina dello statore e del suo giogo sono fortemente correlate, facendo parte dello stesso componente.\n",
        "\n",
        "*   `stator_yoke` e `stator_tooth`: allo stesso modo, la temperatura del dente dello statore influenza fortemente temperatura del suo giogo.\n",
        "\n",
        "*   `ambient` e `pm`: c'è una discreta correlazione tra la temperatura dell'ambiente di sperimentazione e la temperatura del motore a magneti permanenti.\n",
        "\n",
        "*   `pm`, `stator_winding`, `stator_yoke` e `stator_tooth`: la temperatura del rotore del motore a magneti permanenti (ovvero la variabile target) è fortemente influenzata da tutte le feature che riguardano lo statore. Questo è riconducibile al fatto che lo statore e il rotore sono le due componenti fondamentali di un motore elettrico e lavorano a stretto contatto.\n"
      ]
    },
    {
      "cell_type": "markdown",
      "metadata": {
        "id": "78io8AIZzzsg"
      },
      "source": [
        "##Normalizzazione e standardizzazione"
      ]
    },
    {
      "cell_type": "markdown",
      "metadata": {
        "id": "3U7eF4PeZBwK"
      },
      "source": [
        "In questa fase è necessario iniziare a valutare il comportamento di alcuni semplici modelli di regressione sul dataset, per poter determinare l'efficacia della **standardizzazione** delle feature e dell'individuazione di quelle meno rilevanti. Verrà inoltre valutato se la rimozione di alcune feature possa rendere più performanti i modelli utilizzati."
      ]
    },
    {
      "cell_type": "code",
      "execution_count": null,
      "metadata": {
        "id": "OoF1-efAXLzH"
      },
      "outputs": [],
      "source": [
        "from sklearn.model_selection import train_test_split\n",
        "from sklearn.metrics import mean_squared_error, r2_score"
      ]
    },
    {
      "cell_type": "markdown",
      "metadata": {
        "id": "RrXMWCb6A8SR"
      },
      "source": [
        "Di seguito sono definite due funzioni utili rispettivamente per determinare l'errore relativo e stampare le valutazioni sul modello passato in input."
      ]
    },
    {
      "cell_type": "code",
      "execution_count": null,
      "metadata": {
        "id": "tTVqUcnQA5zN"
      },
      "outputs": [],
      "source": [
        "def relative_error(y_true, y_pred):\n",
        "    return np.mean(np.abs((y_true - y_pred) / y_true))\n",
        "\n",
        "def print_eval(X, y, model):\n",
        "    preds = model.predict(X)\n",
        "    mse = mean_squared_error(y, preds)\n",
        "    re = relative_error(y, preds)\n",
        "    r2 = r2_score(y, preds)\n",
        "    print(f\"   Mean squared error: {mse:.5}\")\n",
        "    print(f\"       Relative error: {re:.5%}\")\n",
        "    print(f\"R-squared coefficient: {r2:.5}\")"
      ]
    },
    {
      "cell_type": "markdown",
      "metadata": {
        "id": "23MKW93u0tKf"
      },
      "source": [
        "###Standardizzazione"
      ]
    },
    {
      "cell_type": "code",
      "execution_count": null,
      "metadata": {
        "id": "A8wwhVaIW5qr"
      },
      "outputs": [],
      "source": [
        "from sklearn.pipeline import Pipeline\n",
        "from sklearn.preprocessing import PolynomialFeatures, StandardScaler\n",
        "from sklearn.linear_model import LinearRegression,Lasso, Ridge\n",
        "from sklearn.kernel_ridge import KernelRidge"
      ]
    },
    {
      "cell_type": "markdown",
      "metadata": {
        "id": "XTB-KWPJBLEC"
      },
      "source": [
        "Procedendo è necessario effettuare una prima semplice divisione del dataset in training set e validation set, per poter addestrare un semplice modello di regressione lineare. \n",
        "\n",
        "Si procede inoltre a definire come X l'insieme delle feature note mentre come y la variabile target da predire `pm`."
      ]
    },
    {
      "cell_type": "code",
      "execution_count": null,
      "metadata": {
        "id": "k8ZB5r5-1MVh"
      },
      "outputs": [],
      "source": [
        "y = data[\"pm\"]\n",
        "X = data.drop(columns=\"pm\")"
      ]
    },
    {
      "cell_type": "code",
      "execution_count": null,
      "metadata": {
        "id": "QkcVm72P1bWu"
      },
      "outputs": [],
      "source": [
        "X_train, X_val, y_train, y_val = train_test_split(X, y, test_size=1/3, random_state=42)"
      ]
    },
    {
      "cell_type": "code",
      "execution_count": null,
      "metadata": {
        "colab": {
          "base_uri": "https://localhost:8080/"
        },
        "id": "ODL64ozTg-m7",
        "outputId": "51f6fe2e-69ca-4a1e-e575-dbbf161d5e95"
      },
      "outputs": [
        {
          "output_type": "stream",
          "name": "stdout",
          "text": [
            "   Mean squared error: 52.506\n",
            "       Relative error: 10.48681%\n",
            "R-squared coefficient: 0.85477\n"
          ]
        }
      ],
      "source": [
        "simpleModel = Pipeline([\n",
        "    (\"lr\", LinearRegression())\n",
        "])\n",
        "simpleModel.fit(X_train, y_train)\n",
        "print_eval(X_val, y_val, simpleModel)"
      ]
    },
    {
      "cell_type": "markdown",
      "metadata": {
        "id": "K_fghh4DDDYZ"
      },
      "source": [
        "Addestrando un semplice modello di regressione lineare senza normalizzazione o feature non lineari, otteniamo comunque un coefficiente **R-squared** abbastanza elevato. Notiamo però che l'errore quadratico medio è oltre il 50%."
      ]
    },
    {
      "cell_type": "code",
      "execution_count": null,
      "metadata": {
        "colab": {
          "base_uri": "https://localhost:8080/"
        },
        "id": "tdB2xd15Cf1m",
        "outputId": "92d39540-e6db-4123-8c1e-1160053be492"
      },
      "outputs": [
        {
          "output_type": "execute_result",
          "data": {
            "text/plain": [
              "u_q              -0.131387\n",
              "coolant          -0.188153\n",
              "stator_winding   -1.601563\n",
              "u_d              -0.019191\n",
              "stator_tooth      3.967936\n",
              "motor_speed       0.002932\n",
              "i_d               0.042736\n",
              "i_q              -0.010221\n",
              "stator_yoke      -1.567858\n",
              "ambient           1.764148\n",
              "torque            0.005360\n",
              "dtype: float64"
            ]
          },
          "metadata": {},
          "execution_count": 29
        }
      ],
      "source": [
        "pd.Series(simpleModel.named_steps[\"lr\"].coef_, X.columns)"
      ]
    },
    {
      "cell_type": "markdown",
      "metadata": {
        "id": "nbXXd66fDkw_"
      },
      "source": [
        "Analizzando i coefficienti determinati dal modello notiamo come la dimensione del dente dello statore sia la feature che più influenza la variabile target, viene inoltre confermato ciò che era stato dedotto in precedenza, le feature riguardanti lo statore sono quelle che hanno il coefficiente di peso maggiore essendo esso a stretto contatto con il rotore."
      ]
    },
    {
      "cell_type": "markdown",
      "metadata": {
        "id": "EY97Q823uap2"
      },
      "source": [
        "Ora procediamo ad aggiungere alla PipeLine la funzione `StandardScaler()` continuando comunque ad utilizzare un modello di regressione lineare semplice, per **standardizzare** e **scalare** le feature."
      ]
    },
    {
      "cell_type": "code",
      "execution_count": null,
      "metadata": {
        "colab": {
          "base_uri": "https://localhost:8080/"
        },
        "id": "6RW750iS2G_h",
        "outputId": "de79d6f9-dcd8-49f4-9562-ab33060ecc93"
      },
      "outputs": [
        {
          "output_type": "stream",
          "name": "stdout",
          "text": [
            "   Mean squared error: 52.506\n",
            "       Relative error: 10.48681%\n",
            "R-squared coefficient: 0.85477\n"
          ]
        }
      ],
      "source": [
        "simpleModelScaled = Pipeline([\n",
        "    (\"scale\", StandardScaler()),\n",
        "    (\"lr\", LinearRegression())\n",
        "])\n",
        "simpleModelScaled.fit(X_train, y_train)\n",
        "print_eval(X_val, y_val, simpleModelScaled)"
      ]
    },
    {
      "cell_type": "code",
      "execution_count": null,
      "metadata": {
        "colab": {
          "base_uri": "https://localhost:8080/"
        },
        "id": "NqhNNGh-7Kwm",
        "outputId": "e5e2b556-cb4a-4d65-df19-152551dcbc42"
      },
      "outputs": [
        {
          "output_type": "execute_result",
          "data": {
            "text/plain": [
              "u_q               -5.802005\n",
              "coolant           -4.098601\n",
              "stator_winding   -45.920585\n",
              "u_d               -1.211314\n",
              "stator_tooth      91.071627\n",
              "motor_speed        5.452752\n",
              "i_d                2.775532\n",
              "i_q               -0.942190\n",
              "stator_yoke      -31.346429\n",
              "ambient            3.404513\n",
              "torque             0.413476\n",
              "dtype: float64"
            ]
          },
          "metadata": {},
          "execution_count": 31
        }
      ],
      "source": [
        "pd.Series(simpleModelScaled.named_steps[\"lr\"].coef_, X.columns)"
      ]
    },
    {
      "cell_type": "markdown",
      "metadata": {
        "id": "vlyGtH5VdMNZ"
      },
      "source": [
        "###Individuazione delle feature meno rilevanti"
      ]
    },
    {
      "cell_type": "markdown",
      "metadata": {
        "id": "t5LxwO8Lvned"
      },
      "source": [
        "Una volta standardizzate le feature è richiesto di verificare, tramite la regressione **Lasso**, la presenza di **multicollinearità** tra di esse e controllare se la loro rimozione incide sull'errore del modello e in quale misura.\n",
        "\n",
        "Applichiamo la regressione Lasso con un **iperparametro** arbitrario ma accettabile, in quanto ci occuperemo in seguito di determinarne il valore ottimale tramite **Grid Search**."
      ]
    },
    {
      "cell_type": "code",
      "execution_count": null,
      "metadata": {
        "id": "qxBPL1m_wGJr",
        "colab": {
          "base_uri": "https://localhost:8080/"
        },
        "outputId": "d980e6be-a6d4-4ec5-d028-cc101db34cad"
      },
      "outputs": [
        {
          "output_type": "stream",
          "name": "stdout",
          "text": [
            "   Mean squared error: 65.68\n",
            "       Relative error: 11.92933%\n",
            "R-squared coefficient: 0.81833\n"
          ]
        }
      ],
      "source": [
        "modelLasso = Pipeline([\n",
        "    (\"scale\", StandardScaler()),\n",
        "    (\"lasso\", Lasso(alpha=0.2))\n",
        "])\n",
        "modelLasso.fit(X_train, y_train);\n",
        "print_eval(X_val, y_val, modelLasso)\n"
      ]
    },
    {
      "cell_type": "code",
      "execution_count": null,
      "metadata": {
        "id": "GE_U0Ot7wRZv",
        "colab": {
          "base_uri": "https://localhost:8080/"
        },
        "outputId": "17a92c7d-f64e-4b18-985f-40a404c55ceb"
      },
      "outputs": [
        {
          "output_type": "execute_result",
          "data": {
            "text/plain": [
              "u_q               -3.953253\n",
              "coolant           -4.683511\n",
              "stator_winding    -0.000000\n",
              "u_d               -2.974777\n",
              "stator_tooth      16.612941\n",
              "motor_speed        6.574117\n",
              "i_d                4.824844\n",
              "i_q               -0.000000\n",
              "stator_yoke        0.000000\n",
              "ambient            4.116509\n",
              "torque            -2.808296\n",
              "dtype: float64"
            ]
          },
          "metadata": {},
          "execution_count": 33
        }
      ],
      "source": [
        "pd.Series(modelLasso.named_steps[\"lasso\"].coef_, X.columns)"
      ]
    },
    {
      "cell_type": "markdown",
      "metadata": {
        "id": "d8386spowk8G"
      },
      "source": [
        "Notiamo che come previsto c'è una diminuzione dell'accuratezza misurata da **R-squared**, dovuta alla rimozione di alcune feature.\n",
        "Consideriamo anche il fatto che le feature che sono state annullate da Lasso (`stator_winding`, `stator_yoke`, `i_q`) avevano una forte dipendenza tra loro essendo feature correlate allo stesso componente, lo statore, del quale è rimasta la dimensione del dente (`stator_tooth`)."
      ]
    },
    {
      "cell_type": "markdown",
      "metadata": {
        "id": "2kaR7NNQTmy4"
      },
      "source": [
        "Addestriamo ora un modello più complesso, utilizzando feature non lineari, per cercare di abbassare l'**MSE**, permettendo al modello di approssimare meglio i dati. Anche qui scegliamo l'iperparametro del grado del polinomio in modo arbitrario, ci occuperemo in seguito di selezionarne il valore ottimale, per ora è importante capire se con l'utilizzo di feature non lineari le prestazioni migliorano."
      ]
    },
    {
      "cell_type": "code",
      "execution_count": null,
      "metadata": {
        "colab": {
          "base_uri": "https://localhost:8080/"
        },
        "id": "GnXLMq188Wrm",
        "outputId": "7a0c66d8-9bfa-479f-92ed-71de315e77bb"
      },
      "outputs": [
        {
          "output_type": "stream",
          "name": "stdout",
          "text": [
            "   Mean squared error: 22.518\n",
            "       Relative error: 6.01983%\n",
            "R-squared coefficient: 0.93772\n"
          ]
        }
      ],
      "source": [
        "model2 = Pipeline([\n",
        "    (\"poly\", PolynomialFeatures(degree=3, include_bias=False)),\n",
        "    (\"std\",  StandardScaler()),\n",
        "    (\"lr\", LinearRegression())\n",
        "])\n",
        "model2.fit(X_train, y_train)\n",
        "print_eval(X_val, y_val, model2)"
      ]
    },
    {
      "cell_type": "markdown",
      "metadata": {
        "id": "aqzNGw_WTWqk"
      },
      "source": [
        "Utilizzando le feature polinomiali l'**MSE** viene ridotto come ci si auspicava, a discapito però dei tempi di esecuzione, avendo il dataset oltre 1.000.000 di istanze i tempi risultano penalizzanti."
      ]
    },
    {
      "cell_type": "markdown",
      "metadata": {
        "id": "V0ooyJPVUnde"
      },
      "source": [
        "Proviamo ora ad abbassare i tempi di esecuzione rimuovendo le variabili azzerate da Lasso e verifichiamo quanta accuratezza sulle predizioni viene persa."
      ]
    },
    {
      "cell_type": "code",
      "execution_count": null,
      "metadata": {
        "id": "Kz8LxzV3kutB"
      },
      "outputs": [],
      "source": [
        "X_train, X_val, y_train, y_val = X_train.drop(columns=[\"stator_winding\",\"stator_yoke\",\"i_q\"]), X_val.drop(columns=[\"stator_winding\",\"stator_yoke\",\"i_q\"]), y_train.drop(columns=[\"stator_winding\",\"stator_yoke\",\"i_q\"]),y_val.drop(columns=[\"stator_winding\",\"stator_yoke\",\"i_q\"])"
      ]
    },
    {
      "cell_type": "code",
      "execution_count": null,
      "metadata": {
        "colab": {
          "base_uri": "https://localhost:8080/"
        },
        "id": "Zg4eqqaFk1Z-",
        "outputId": "99d5ad42-2a44-44a4-ccbe-6dd5d002b8e8"
      },
      "outputs": [
        {
          "output_type": "stream",
          "name": "stdout",
          "text": [
            "   Mean squared error: 30.244\n",
            "       Relative error: 7.06565%\n",
            "R-squared coefficient: 0.91634\n"
          ]
        }
      ],
      "source": [
        "simpleModelScaled = Pipeline([\n",
        "    (\"poly\", PolynomialFeatures(degree=3, include_bias=False)),\n",
        "    (\"scale\", StandardScaler()),\n",
        "    (\"lr\", LinearRegression())\n",
        "])\n",
        "simpleModelScaled.fit(X_train, y_train)\n",
        "print_eval(X_val, y_val, simpleModelScaled)"
      ]
    },
    {
      "cell_type": "markdown",
      "metadata": {
        "id": "t27TaiWpRQO1"
      },
      "source": [
        "Il coefficiente **R-squared** è diminuito di un valore trascurabile (circa 0.02) ma abbiamo **dimezzato** il tempo di addestramento del modello.\n",
        "\n",
        "Di conseguenza possiamo rimuovere le 3 feature collineari individuate da Lasso e procedere ad addestrare modelli più performanti, determinandone gli iperparametri tramite **Grid-Search**."
      ]
    },
    {
      "cell_type": "code",
      "execution_count": null,
      "metadata": {
        "id": "VqKfRG-ubaz4"
      },
      "outputs": [],
      "source": [
        "data = data.drop(columns=[\"stator_winding\",\"stator_yoke\",\"i_q\"])"
      ]
    },
    {
      "cell_type": "markdown",
      "metadata": {
        "id": "e1nctSWP39BR"
      },
      "source": [
        "##Addestramento modelli di regressione"
      ]
    },
    {
      "cell_type": "code",
      "execution_count": null,
      "metadata": {
        "id": "QoAYS1SCXG_L"
      },
      "outputs": [],
      "source": [
        "from sklearn.model_selection import GridSearchCV\n",
        "from sklearn.model_selection import KFold"
      ]
    },
    {
      "cell_type": "markdown",
      "metadata": {
        "id": "EvSFmyvX4VmT"
      },
      "source": [
        "In questa sezione ci occuperemo di addestrare vari modelli di regressione e di valutare quale tra quelli utilizzati risulta più accurato."
      ]
    },
    {
      "cell_type": "markdown",
      "metadata": {
        "id": "RnHF12Gr4gtp"
      },
      "source": [
        "Ora utilizzando la **Grid Search** e la **Nested K-Fold** validation determiniamo i migliori iperparametri per i modelli.\n",
        "\n",
        "Come precedentemente accennato, il dataset presenta un numero veramente elevato di istanze, perciò è necessario prelevarne un campione per effetturare le varie Grid Search in tempi ragionevoli. Una volta stabiliti gli iperparametri ottimali, il modello migliore verrà addestrato e testato sull'intero dataset."
      ]
    },
    {
      "cell_type": "code",
      "execution_count": null,
      "metadata": {
        "id": "jyQY_xvKSXRB"
      },
      "outputs": [],
      "source": [
        "dataSample = data.sample(n=10000, random_state=1)\n",
        "y = dataSample[\"pm\"]\n",
        "X = dataSample.drop(columns=\"pm\")\n",
        "X_train, X_val, y_train, y_val = train_test_split(X, y, test_size=1/3, random_state=42)"
      ]
    },
    {
      "cell_type": "code",
      "execution_count": null,
      "metadata": {
        "id": "8Y8HHe1I4Aqp"
      },
      "outputs": [],
      "source": [
        "kf = KFold(5, shuffle=True, random_state=42)"
      ]
    },
    {
      "cell_type": "markdown",
      "metadata": {
        "id": "lDYGsyZcbRWc"
      },
      "source": [
        "Viene prelevato un campione casuale composto da 10000 istanze, vengono riassegnate le variabili corrispondenti al training e al validation set e viene infine creato un oggetto **K-fold**, che verrà utilizzato dalle Grid-Search, composto da 5 fold."
      ]
    },
    {
      "cell_type": "markdown",
      "metadata": {
        "id": "WM_Nm7wLb-ia"
      },
      "source": [
        "Notiamo che nella fase precedente, l'aggiunta di feature non lineari (nello specifico l'utilizzo di un polinomio di terzo grado) ha portato significative variazioni sui parametri di valutazione dei modelli:"
      ]
    },
    {
      "cell_type": "markdown",
      "metadata": {
        "id": "Wf25jW6SdPMm"
      },
      "source": [
        "**Regressione Lineare:**\n",
        "*   Mean squared error: 65.68\n",
        "*   Relative error: 11.92933%\n",
        "*   R-squared coefficient: 0.81833"
      ]
    },
    {
      "cell_type": "markdown",
      "metadata": {
        "id": "Yo4U-JiGdSMM"
      },
      "source": [
        "\n",
        "**Regressione non Lineare:**\n",
        "*   Mean squared error: 22.518\n",
        "*   Relative error: 6.01983%\n",
        "*   R-squared coefficient:  0.93772"
      ]
    },
    {
      "cell_type": "markdown",
      "metadata": {
        "id": "SEBZYhovda6b"
      },
      "source": [
        "Notiamo quindi un abbassamento dell'**MSE** di oltre 40 unità, un abbassamento dell'**errore relativo** circa del 6% e un aumento del coefficiente **R-squared** di oltre 0.12.\n",
        "\n",
        "Possiamo quindi non considerare modelli di regressione lineare e occuparci direttamente di modelli che contengono **feature polinomiali**. Ricordiamoci inoltre che sono state rimosse le tre feature individuate da Lasso, di conseguenza i coefficienti di errore visualizzati potrebbero essere leggermente inferiori a quelli riportati sopra, a differenza dei tempi di esecuzione che saranno più performanti."
      ]
    },
    {
      "cell_type": "markdown",
      "metadata": {
        "id": "wdwVpB27jqbm"
      },
      "source": [
        "###Regressione Polinomiale, Ridge e Kernel Ridge"
      ]
    },
    {
      "cell_type": "code",
      "execution_count": null,
      "metadata": {
        "colab": {
          "base_uri": "https://localhost:8080/"
        },
        "id": "WHoR5lqEOD_C",
        "outputId": "b939744c-46bd-4fbf-e847-05db8bf7d36a"
      },
      "outputs": [
        {
          "output_type": "stream",
          "name": "stdout",
          "text": [
            "Best param: {'poly__degree': 3}\n",
            "   Mean squared error: 32.118\n",
            "       Relative error: 7.16393%\n",
            "R-squared coefficient: 0.91326\n"
          ]
        }
      ],
      "source": [
        "polyModel = Pipeline([\n",
        "    (\"poly\",  PolynomialFeatures(include_bias=False)),\n",
        "    (\"scale\", StandardScaler()),\n",
        "    (\"regr\", LinearRegression())\n",
        "])\n",
        "polyGrid = {\n",
        "    \"poly__degree\": [2, 3, 4],\n",
        "}\n",
        "gs = GridSearchCV(polyModel, polyGrid, cv=kf)\n",
        "gs.fit(X_train, y_train)\n",
        "print('Best param: '+str(gs.best_params_))\n",
        "print_eval(X_val, y_val, gs)"
      ]
    },
    {
      "cell_type": "markdown",
      "metadata": {
        "id": "6MZMNMkGfCeD"
      },
      "source": [
        "Effettuando una prima Grid-Search su un modello non lineare viene determinato come iperparametro ottimale un polinomio di grado 3, vengono inoltre mostrati i vari coefficienti d'errore."
      ]
    },
    {
      "cell_type": "markdown",
      "metadata": {
        "id": "vWszAaszfoOE"
      },
      "source": [
        "Proviamo ora ad applicare al modello la regolarizzazione con **norma L2**, applicando la regressione **Ridge**, in modo da ridurre i coefficienti del polinomio e verificare se in questo caso di studio porta dei vantaggi."
      ]
    },
    {
      "cell_type": "code",
      "execution_count": null,
      "metadata": {
        "colab": {
          "base_uri": "https://localhost:8080/"
        },
        "id": "C23SGLpKN9zw",
        "outputId": "0d1754c5-4ee5-47d0-dce0-458634f37033"
      },
      "outputs": [
        {
          "output_type": "stream",
          "name": "stdout",
          "text": [
            "Best param: {'poly__degree': 3, 'regr__alpha': 0.01}\n",
            "   Mean squared error: 32.599\n",
            "       Relative error: 7.23109%\n",
            "R-squared coefficient: 0.91197\n"
          ]
        }
      ],
      "source": [
        "modelRidge = Pipeline([\n",
        "    (\"poly\",  PolynomialFeatures(include_bias=False)),\n",
        "    (\"scale\", StandardScaler()),\n",
        "    (\"regr\", Ridge())\n",
        "])\n",
        "ridgeGrid = {\n",
        "    \"poly__degree\": [2, 3],\n",
        "    \"regr__alpha\":  [0.001, 0.01, 0.1]\n",
        "}\n",
        "gs = GridSearchCV(modelRidge, ridgeGrid, cv=kf)\n",
        "gs.fit(X_train, y_train)\n",
        "print('Best param: '+str(gs.best_params_))\n",
        "print_eval(X_val, y_val, gs)"
      ]
    },
    {
      "cell_type": "markdown",
      "metadata": {
        "id": "DSlEOFdIfiMm"
      },
      "source": [
        "La Grid-Search ha restituito come peso ottimale della regolarizzazione 0.01 e come grado del polinomio sempre 3. Notiamo però che tutti e tre i coefficienti d'errore sono **leggermente peggiori** di quelli ottenuti senza regolarizzazione."
      ]
    },
    {
      "cell_type": "markdown",
      "metadata": {
        "id": "y9IVY2Dgg9NU"
      },
      "source": [
        "A questo punto è possibile provare ad effettuare un addestramento su un modello **Kernel Ridge** per verificarne l'accuratezza."
      ]
    },
    {
      "cell_type": "code",
      "execution_count": null,
      "metadata": {
        "id": "AX_Z1lnIOENZ",
        "colab": {
          "base_uri": "https://localhost:8080/"
        },
        "outputId": "2361dc28-1cfa-4ba2-f5a2-05f02ec5387c"
      },
      "outputs": [
        {
          "output_type": "stream",
          "name": "stdout",
          "text": [
            "Best param: {'regr__alpha': 0.01, 'regr__degree': 4}\n",
            "   Mean squared error: 26.374\n",
            "       Relative error: 6.36214%\n",
            "R-squared coefficient: 0.92878\n"
          ]
        }
      ],
      "source": [
        "modelKernel = Pipeline([\n",
        "    (\"scale\", StandardScaler()),\n",
        "    (\"regr\", KernelRidge(kernel=\"poly\"))\n",
        "])\n",
        "kernelGrid = {\n",
        "    \"regr__degree\": range(3, 5),\n",
        "    \"regr__alpha\": [0.01, 1],\n",
        "}\n",
        "\n",
        "gs = GridSearchCV(modelKernel, kernelGrid, cv=kf)\n",
        "gs.fit(X_train, y_train)\n",
        "print('Best param: '+str(gs.best_params_))\n",
        "print_eval(X_val, y_val, gs)"
      ]
    },
    {
      "cell_type": "markdown",
      "metadata": {
        "id": "KzGk6reahRrM"
      },
      "source": [
        "Notiamo che la Grid-Search stabilisce come migliori iperparametri un polinomio di grado 4 e un peso della regolarizzazione pari a 0.01.\n",
        "\n",
        "Questo modello rispetto ai tre precedentemente esaminati è sicuramente quello che meglio si adatta al problema, notiamo però che i **tempi** di esecuzione sono abbastanza **lunghi** nonostante venga addestrato su un campione del dataset.\n",
        "\n",
        "Questo potrebbe essere un problema, considerando che il caso di studio presenta un **numero molto elevato di istanze**."
      ]
    },
    {
      "cell_type": "markdown",
      "metadata": {
        "id": "12FcHIlrVqHZ"
      },
      "source": [
        "##Alberi di regressione"
      ]
    },
    {
      "cell_type": "markdown",
      "metadata": {
        "id": "zk7di47w5kfM"
      },
      "source": [
        "A questo punto è possibile provare ad utilizzare gli alberi di regressione visti durante il corso e comparare le loro prestazioni con i modelli addestrati nelle fasi precedenti."
      ]
    },
    {
      "cell_type": "markdown",
      "metadata": {
        "id": "4Mo5jkWzZqGl"
      },
      "source": [
        "###LightGBM"
      ]
    },
    {
      "cell_type": "code",
      "execution_count": null,
      "metadata": {
        "id": "tw1mHdorZv4Z"
      },
      "outputs": [],
      "source": [
        "from lightgbm import LGBMRegressor"
      ]
    },
    {
      "cell_type": "markdown",
      "metadata": {
        "id": "xVi9MmQI6beD"
      },
      "source": [
        "Il primo albero su cui andiamo ad effettuare l'addestramento è il **Light Gradient Boosting Machine** dal quale ci aspettiamo una discreta velocità di addestramento."
      ]
    },
    {
      "cell_type": "code",
      "execution_count": null,
      "metadata": {
        "colab": {
          "base_uri": "https://localhost:8080/"
        },
        "id": "5dcaPkVRZ0WU",
        "outputId": "020c845d-8dda-42cd-bf7c-00413060c458"
      },
      "outputs": [
        {
          "output_type": "execute_result",
          "data": {
            "text/plain": [
              "LGBMRegressor()"
            ]
          },
          "metadata": {},
          "execution_count": 45
        }
      ],
      "source": [
        "lgbm = LGBMRegressor()\n",
        "lgbm.fit(X_train, y_train)"
      ]
    },
    {
      "cell_type": "code",
      "execution_count": null,
      "metadata": {
        "colab": {
          "base_uri": "https://localhost:8080/"
        },
        "id": "AH1Psc4xZ2yi",
        "outputId": "79736b05-bac4-4104-c3f8-ed2a796f8019"
      },
      "outputs": [
        {
          "output_type": "stream",
          "name": "stdout",
          "text": [
            "   Mean squared error: 21.863\n",
            "       Relative error: 5.69853%\n",
            "R-squared coefficient: 0.94096\n"
          ]
        }
      ],
      "source": [
        "print_eval(X_val, y_val, lgbm)"
      ]
    },
    {
      "cell_type": "markdown",
      "metadata": {
        "id": "I1WRugpT6qpd"
      },
      "source": [
        "Come previsto l'addestramento del modello è avvenuto molto velocemente e i coefficienti d'errore risultano **migliori** persino di **Kernel Ridge**."
      ]
    },
    {
      "cell_type": "markdown",
      "metadata": {
        "id": "wLknS54oXpTg"
      },
      "source": [
        "###XGBoost"
      ]
    },
    {
      "cell_type": "code",
      "execution_count": null,
      "metadata": {
        "id": "csZ_evwCVpD1"
      },
      "outputs": [],
      "source": [
        "from xgboost import XGBRegressor"
      ]
    },
    {
      "cell_type": "markdown",
      "metadata": {
        "id": "A1Z72lje7G4D"
      },
      "source": [
        "Il secondo albero di regressione che esaminiamo è **XGBoost** che implementa l'algoritmo **eXtreme Gradient Boosting**."
      ]
    },
    {
      "cell_type": "code",
      "execution_count": null,
      "metadata": {
        "colab": {
          "base_uri": "https://localhost:8080/"
        },
        "id": "p9YZUggZWb9n",
        "outputId": "22056ca3-9bc2-4490-fd64-009cb25e94d9"
      },
      "outputs": [
        {
          "output_type": "execute_result",
          "data": {
            "text/plain": [
              "XGBRegressor(n_estimators=200, objective='reg:squarederror', reg_alpha=0.0,\n",
              "             reg_lambda=1.0, verbose_eval=True)"
            ]
          },
          "metadata": {},
          "execution_count": 48
        }
      ],
      "source": [
        "xgbm = XGBRegressor(objective='reg:squarederror', reg_alpha=0.0, reg_lambda=1.0, n_estimators=200, verbose_eval=True)\n",
        "xgbm.fit(X_train, y_train)"
      ]
    },
    {
      "cell_type": "code",
      "execution_count": null,
      "metadata": {
        "colab": {
          "base_uri": "https://localhost:8080/"
        },
        "id": "xWrY6YuKXVCC",
        "outputId": "5b39fb67-7e34-49fa-e1a4-c24ce309ec1e"
      },
      "outputs": [
        {
          "output_type": "stream",
          "name": "stdout",
          "text": [
            "   Mean squared error: 31.267\n",
            "       Relative error: 7.32453%\n",
            "R-squared coefficient: 0.91556\n"
          ]
        }
      ],
      "source": [
        "print_eval(X_val, y_val, xgbm)"
      ]
    },
    {
      "cell_type": "markdown",
      "metadata": {
        "id": "TFnzPrfO7UZT"
      },
      "source": [
        "Il tempo di addestramento di questo modello è leggermente maggiore di LightGBM e notiamo che i coefficienti d'errore sono peggiori, perciò XGBoost riesce a modellare il problema in maniera molto buona (R-squared: 0.91) ma inferiore a LightGBM."
      ]
    },
    {
      "cell_type": "markdown",
      "metadata": {
        "id": "2iBMwyNhaMyU"
      },
      "source": [
        "###CatBoost"
      ]
    },
    {
      "cell_type": "markdown",
      "metadata": {
        "id": "MnEQtgwT8InU"
      },
      "source": [
        "Come ultimo albero di regressione esaminiamo **CatBoost** che implementa il **Category Gradient Boosting**."
      ]
    },
    {
      "cell_type": "code",
      "execution_count": null,
      "metadata": {
        "colab": {
          "base_uri": "https://localhost:8080/"
        },
        "id": "A28SHqQsaVfk",
        "outputId": "f0a75ceb-9801-4a35-b4cc-161e5819d0fe"
      },
      "outputs": [
        {
          "output_type": "stream",
          "name": "stdout",
          "text": [
            "Looking in indexes: https://pypi.org/simple, https://us-python.pkg.dev/colab-wheels/public/simple/\n",
            "Collecting catboost\n",
            "  Downloading catboost-1.0.6-cp37-none-manylinux1_x86_64.whl (76.6 MB)\n",
            "\u001b[K     |████████████████████████████████| 76.6 MB 1.1 MB/s \n",
            "\u001b[?25hRequirement already satisfied: six in /usr/local/lib/python3.7/dist-packages (from catboost) (1.15.0)\n",
            "Requirement already satisfied: graphviz in /usr/local/lib/python3.7/dist-packages (from catboost) (0.10.1)\n",
            "Requirement already satisfied: plotly in /usr/local/lib/python3.7/dist-packages (from catboost) (5.5.0)\n",
            "Requirement already satisfied: matplotlib in /usr/local/lib/python3.7/dist-packages (from catboost) (3.2.2)\n",
            "Requirement already satisfied: scipy in /usr/local/lib/python3.7/dist-packages (from catboost) (1.4.1)\n",
            "Requirement already satisfied: pandas>=0.24.0 in /usr/local/lib/python3.7/dist-packages (from catboost) (1.3.5)\n",
            "Requirement already satisfied: numpy>=1.16.0 in /usr/local/lib/python3.7/dist-packages (from catboost) (1.21.6)\n",
            "Requirement already satisfied: pytz>=2017.3 in /usr/local/lib/python3.7/dist-packages (from pandas>=0.24.0->catboost) (2022.1)\n",
            "Requirement already satisfied: python-dateutil>=2.7.3 in /usr/local/lib/python3.7/dist-packages (from pandas>=0.24.0->catboost) (2.8.2)\n",
            "Requirement already satisfied: pyparsing!=2.0.4,!=2.1.2,!=2.1.6,>=2.0.1 in /usr/local/lib/python3.7/dist-packages (from matplotlib->catboost) (3.0.9)\n",
            "Requirement already satisfied: cycler>=0.10 in /usr/local/lib/python3.7/dist-packages (from matplotlib->catboost) (0.11.0)\n",
            "Requirement already satisfied: kiwisolver>=1.0.1 in /usr/local/lib/python3.7/dist-packages (from matplotlib->catboost) (1.4.2)\n",
            "Requirement already satisfied: typing-extensions in /usr/local/lib/python3.7/dist-packages (from kiwisolver>=1.0.1->matplotlib->catboost) (4.2.0)\n",
            "Requirement already satisfied: tenacity>=6.2.0 in /usr/local/lib/python3.7/dist-packages (from plotly->catboost) (8.0.1)\n",
            "Installing collected packages: catboost\n",
            "Successfully installed catboost-1.0.6\n"
          ]
        }
      ],
      "source": [
        "%pip install catboost"
      ]
    },
    {
      "cell_type": "markdown",
      "metadata": {
        "id": "k98uMObA8VSU"
      },
      "source": [
        "Per utilizzarlo è necessario installare e importare la libreria `catboost`"
      ]
    },
    {
      "cell_type": "code",
      "execution_count": null,
      "metadata": {
        "id": "Pn8-L5XKaQ7H"
      },
      "outputs": [],
      "source": [
        "import catboost\n",
        "from catboost import CatBoostRegressor"
      ]
    },
    {
      "cell_type": "code",
      "execution_count": null,
      "metadata": {
        "id": "JgH0lSaeadz-",
        "colab": {
          "base_uri": "https://localhost:8080/"
        },
        "outputId": "d5c5608d-5cd1-4bf9-9838-61b9572958de"
      },
      "outputs": [
        {
          "output_type": "stream",
          "name": "stdout",
          "text": [
            "Learning rate set to 0.055252\n",
            "0:\tlearn: 18.0995381\ttotal: 52ms\tremaining: 51.9s\n",
            "1:\tlearn: 17.4164768\ttotal: 55.2ms\tremaining: 27.5s\n",
            "2:\tlearn: 16.7422885\ttotal: 58.4ms\tremaining: 19.4s\n",
            "3:\tlearn: 16.1226368\ttotal: 61.6ms\tremaining: 15.3s\n",
            "4:\tlearn: 15.5499491\ttotal: 64.7ms\tremaining: 12.9s\n",
            "5:\tlearn: 15.0040929\ttotal: 67.7ms\tremaining: 11.2s\n",
            "6:\tlearn: 14.5083114\ttotal: 72.8ms\tremaining: 10.3s\n",
            "7:\tlearn: 14.0362760\ttotal: 79.1ms\tremaining: 9.81s\n",
            "8:\tlearn: 13.5913454\ttotal: 82.4ms\tremaining: 9.08s\n",
            "9:\tlearn: 13.1792210\ttotal: 85.8ms\tremaining: 8.5s\n",
            "10:\tlearn: 12.7882436\ttotal: 89.1ms\tremaining: 8.01s\n",
            "11:\tlearn: 12.4380730\ttotal: 92.3ms\tremaining: 7.6s\n",
            "12:\tlearn: 12.0944725\ttotal: 95.5ms\tremaining: 7.25s\n",
            "13:\tlearn: 11.7783198\ttotal: 98.7ms\tremaining: 6.95s\n",
            "14:\tlearn: 11.4695783\ttotal: 102ms\tremaining: 6.69s\n",
            "15:\tlearn: 11.1881371\ttotal: 105ms\tremaining: 6.47s\n",
            "16:\tlearn: 10.9239618\ttotal: 108ms\tremaining: 6.27s\n",
            "17:\tlearn: 10.6625094\ttotal: 112ms\tremaining: 6.1s\n",
            "18:\tlearn: 10.4256011\ttotal: 116ms\tremaining: 5.96s\n",
            "19:\tlearn: 10.2161989\ttotal: 119ms\tremaining: 5.83s\n",
            "20:\tlearn: 10.0084950\ttotal: 124ms\tremaining: 5.76s\n",
            "21:\tlearn: 9.8094714\ttotal: 127ms\tremaining: 5.66s\n",
            "22:\tlearn: 9.6151085\ttotal: 131ms\tremaining: 5.55s\n",
            "23:\tlearn: 9.4388919\ttotal: 134ms\tremaining: 5.45s\n",
            "24:\tlearn: 9.2824384\ttotal: 137ms\tremaining: 5.35s\n",
            "25:\tlearn: 9.1361137\ttotal: 141ms\tremaining: 5.28s\n",
            "26:\tlearn: 8.9843290\ttotal: 144ms\tremaining: 5.2s\n",
            "27:\tlearn: 8.8684616\ttotal: 148ms\tremaining: 5.12s\n",
            "28:\tlearn: 8.7460795\ttotal: 151ms\tremaining: 5.05s\n",
            "29:\tlearn: 8.6349515\ttotal: 154ms\tremaining: 4.98s\n",
            "30:\tlearn: 8.5375335\ttotal: 157ms\tremaining: 4.92s\n",
            "31:\tlearn: 8.4399954\ttotal: 161ms\tremaining: 4.86s\n",
            "32:\tlearn: 8.3322870\ttotal: 164ms\tremaining: 4.82s\n",
            "33:\tlearn: 8.2416742\ttotal: 168ms\tremaining: 4.77s\n",
            "34:\tlearn: 8.1390621\ttotal: 171ms\tremaining: 4.72s\n",
            "35:\tlearn: 8.0640737\ttotal: 174ms\tremaining: 4.67s\n",
            "36:\tlearn: 7.9881525\ttotal: 178ms\tremaining: 4.62s\n",
            "37:\tlearn: 7.9209370\ttotal: 181ms\tremaining: 4.57s\n",
            "38:\tlearn: 7.8444435\ttotal: 184ms\tremaining: 4.53s\n",
            "39:\tlearn: 7.7792160\ttotal: 193ms\tremaining: 4.63s\n",
            "40:\tlearn: 7.7152880\ttotal: 197ms\tremaining: 4.6s\n",
            "41:\tlearn: 7.6403375\ttotal: 201ms\tremaining: 4.57s\n",
            "42:\tlearn: 7.5878480\ttotal: 204ms\tremaining: 4.53s\n",
            "43:\tlearn: 7.5339109\ttotal: 207ms\tremaining: 4.49s\n",
            "44:\tlearn: 7.4681007\ttotal: 210ms\tremaining: 4.46s\n",
            "45:\tlearn: 7.4161741\ttotal: 213ms\tremaining: 4.42s\n",
            "46:\tlearn: 7.3731508\ttotal: 216ms\tremaining: 4.39s\n",
            "47:\tlearn: 7.3244732\ttotal: 220ms\tremaining: 4.35s\n",
            "48:\tlearn: 7.2812464\ttotal: 223ms\tremaining: 4.33s\n",
            "49:\tlearn: 7.2357748\ttotal: 226ms\tremaining: 4.3s\n",
            "50:\tlearn: 7.2030667\ttotal: 230ms\tremaining: 4.27s\n",
            "51:\tlearn: 7.1599768\ttotal: 233ms\tremaining: 4.24s\n",
            "52:\tlearn: 7.1163411\ttotal: 236ms\tremaining: 4.22s\n",
            "53:\tlearn: 7.0709646\ttotal: 244ms\tremaining: 4.28s\n",
            "54:\tlearn: 7.0337330\ttotal: 248ms\tremaining: 4.26s\n",
            "55:\tlearn: 6.9996664\ttotal: 251ms\tremaining: 4.24s\n",
            "56:\tlearn: 6.9708036\ttotal: 254ms\tremaining: 4.21s\n",
            "57:\tlearn: 6.9478203\ttotal: 258ms\tremaining: 4.18s\n",
            "58:\tlearn: 6.9213804\ttotal: 261ms\tremaining: 4.16s\n",
            "59:\tlearn: 6.8931877\ttotal: 264ms\tremaining: 4.13s\n",
            "60:\tlearn: 6.8697600\ttotal: 267ms\tremaining: 4.11s\n",
            "61:\tlearn: 6.8430272\ttotal: 270ms\tremaining: 4.08s\n",
            "62:\tlearn: 6.8149847\ttotal: 273ms\tremaining: 4.06s\n",
            "63:\tlearn: 6.7784602\ttotal: 276ms\tremaining: 4.04s\n",
            "64:\tlearn: 6.7556471\ttotal: 279ms\tremaining: 4.02s\n",
            "65:\tlearn: 6.7306532\ttotal: 282ms\tremaining: 3.99s\n",
            "66:\tlearn: 6.7008398\ttotal: 285ms\tremaining: 3.97s\n",
            "67:\tlearn: 6.6841419\ttotal: 289ms\tremaining: 3.95s\n",
            "68:\tlearn: 6.6654403\ttotal: 292ms\tremaining: 3.94s\n",
            "69:\tlearn: 6.6506158\ttotal: 295ms\tremaining: 3.92s\n",
            "70:\tlearn: 6.6171720\ttotal: 298ms\tremaining: 3.9s\n",
            "71:\tlearn: 6.5966010\ttotal: 302ms\tremaining: 3.89s\n",
            "72:\tlearn: 6.5733594\ttotal: 305ms\tremaining: 3.87s\n",
            "73:\tlearn: 6.5406989\ttotal: 308ms\tremaining: 3.85s\n",
            "74:\tlearn: 6.5204486\ttotal: 313ms\tremaining: 3.86s\n",
            "75:\tlearn: 6.4982031\ttotal: 318ms\tremaining: 3.86s\n",
            "76:\tlearn: 6.4799528\ttotal: 321ms\tremaining: 3.85s\n",
            "77:\tlearn: 6.4616631\ttotal: 324ms\tremaining: 3.83s\n",
            "78:\tlearn: 6.4500575\ttotal: 327ms\tremaining: 3.81s\n",
            "79:\tlearn: 6.4230815\ttotal: 330ms\tremaining: 3.79s\n",
            "80:\tlearn: 6.4001343\ttotal: 333ms\tremaining: 3.78s\n",
            "81:\tlearn: 6.3729777\ttotal: 337ms\tremaining: 3.77s\n",
            "82:\tlearn: 6.3546701\ttotal: 340ms\tremaining: 3.75s\n",
            "83:\tlearn: 6.3371554\ttotal: 343ms\tremaining: 3.74s\n",
            "84:\tlearn: 6.3168527\ttotal: 346ms\tremaining: 3.73s\n",
            "85:\tlearn: 6.2951374\ttotal: 349ms\tremaining: 3.71s\n",
            "86:\tlearn: 6.2806154\ttotal: 353ms\tremaining: 3.7s\n",
            "87:\tlearn: 6.2711108\ttotal: 356ms\tremaining: 3.69s\n",
            "88:\tlearn: 6.2557897\ttotal: 360ms\tremaining: 3.68s\n",
            "89:\tlearn: 6.2456781\ttotal: 364ms\tremaining: 3.68s\n",
            "90:\tlearn: 6.2320656\ttotal: 367ms\tremaining: 3.67s\n",
            "91:\tlearn: 6.2147228\ttotal: 370ms\tremaining: 3.65s\n",
            "92:\tlearn: 6.2007147\ttotal: 373ms\tremaining: 3.64s\n",
            "93:\tlearn: 6.1890509\ttotal: 377ms\tremaining: 3.63s\n",
            "94:\tlearn: 6.1749979\ttotal: 380ms\tremaining: 3.62s\n",
            "95:\tlearn: 6.1453300\ttotal: 388ms\tremaining: 3.66s\n",
            "96:\tlearn: 6.1310831\ttotal: 392ms\tremaining: 3.65s\n",
            "97:\tlearn: 6.1221633\ttotal: 396ms\tremaining: 3.64s\n",
            "98:\tlearn: 6.1136520\ttotal: 399ms\tremaining: 3.63s\n",
            "99:\tlearn: 6.0987704\ttotal: 402ms\tremaining: 3.62s\n",
            "100:\tlearn: 6.0840660\ttotal: 405ms\tremaining: 3.61s\n",
            "101:\tlearn: 6.0739249\ttotal: 408ms\tremaining: 3.59s\n",
            "102:\tlearn: 6.0550195\ttotal: 412ms\tremaining: 3.58s\n",
            "103:\tlearn: 6.0405095\ttotal: 415ms\tremaining: 3.57s\n",
            "104:\tlearn: 6.0304178\ttotal: 421ms\tremaining: 3.59s\n",
            "105:\tlearn: 6.0204259\ttotal: 426ms\tremaining: 3.59s\n",
            "106:\tlearn: 6.0059315\ttotal: 430ms\tremaining: 3.59s\n",
            "107:\tlearn: 5.9968087\ttotal: 437ms\tremaining: 3.61s\n",
            "108:\tlearn: 5.9768198\ttotal: 440ms\tremaining: 3.6s\n",
            "109:\tlearn: 5.9620456\ttotal: 446ms\tremaining: 3.61s\n",
            "110:\tlearn: 5.9519856\ttotal: 452ms\tremaining: 3.62s\n",
            "111:\tlearn: 5.9379830\ttotal: 455ms\tremaining: 3.61s\n",
            "112:\tlearn: 5.9257368\ttotal: 459ms\tremaining: 3.6s\n",
            "113:\tlearn: 5.9175064\ttotal: 462ms\tremaining: 3.59s\n",
            "114:\tlearn: 5.9009736\ttotal: 465ms\tremaining: 3.58s\n",
            "115:\tlearn: 5.8917978\ttotal: 468ms\tremaining: 3.57s\n",
            "116:\tlearn: 5.8828793\ttotal: 472ms\tremaining: 3.56s\n",
            "117:\tlearn: 5.8740791\ttotal: 475ms\tremaining: 3.55s\n",
            "118:\tlearn: 5.8654124\ttotal: 478ms\tremaining: 3.54s\n",
            "119:\tlearn: 5.8564728\ttotal: 481ms\tremaining: 3.53s\n",
            "120:\tlearn: 5.8457417\ttotal: 484ms\tremaining: 3.52s\n",
            "121:\tlearn: 5.8329521\ttotal: 488ms\tremaining: 3.51s\n",
            "122:\tlearn: 5.8228836\ttotal: 491ms\tremaining: 3.5s\n",
            "123:\tlearn: 5.8138635\ttotal: 494ms\tremaining: 3.49s\n",
            "124:\tlearn: 5.8019284\ttotal: 498ms\tremaining: 3.48s\n",
            "125:\tlearn: 5.7881379\ttotal: 501ms\tremaining: 3.47s\n",
            "126:\tlearn: 5.7788399\ttotal: 504ms\tremaining: 3.46s\n",
            "127:\tlearn: 5.7696212\ttotal: 507ms\tremaining: 3.45s\n",
            "128:\tlearn: 5.7572279\ttotal: 510ms\tremaining: 3.44s\n",
            "129:\tlearn: 5.7379323\ttotal: 513ms\tremaining: 3.44s\n",
            "130:\tlearn: 5.7288127\ttotal: 517ms\tremaining: 3.43s\n",
            "131:\tlearn: 5.7197618\ttotal: 520ms\tremaining: 3.42s\n",
            "132:\tlearn: 5.7038984\ttotal: 523ms\tremaining: 3.41s\n",
            "133:\tlearn: 5.6896288\ttotal: 526ms\tremaining: 3.4s\n",
            "134:\tlearn: 5.6735527\ttotal: 529ms\tremaining: 3.39s\n",
            "135:\tlearn: 5.6598502\ttotal: 538ms\tremaining: 3.42s\n",
            "136:\tlearn: 5.6478380\ttotal: 548ms\tremaining: 3.45s\n",
            "137:\tlearn: 5.6412963\ttotal: 552ms\tremaining: 3.45s\n",
            "138:\tlearn: 5.6284039\ttotal: 555ms\tremaining: 3.44s\n",
            "139:\tlearn: 5.6201316\ttotal: 558ms\tremaining: 3.43s\n",
            "140:\tlearn: 5.6093635\ttotal: 562ms\tremaining: 3.42s\n",
            "141:\tlearn: 5.6040517\ttotal: 565ms\tremaining: 3.41s\n",
            "142:\tlearn: 5.5962519\ttotal: 568ms\tremaining: 3.4s\n",
            "143:\tlearn: 5.5888166\ttotal: 571ms\tremaining: 3.4s\n",
            "144:\tlearn: 5.5836918\ttotal: 574ms\tremaining: 3.39s\n",
            "145:\tlearn: 5.5749810\ttotal: 581ms\tremaining: 3.4s\n",
            "146:\tlearn: 5.5663394\ttotal: 584ms\tremaining: 3.39s\n",
            "147:\tlearn: 5.5607122\ttotal: 587ms\tremaining: 3.38s\n",
            "148:\tlearn: 5.5502617\ttotal: 590ms\tremaining: 3.37s\n",
            "149:\tlearn: 5.5392973\ttotal: 593ms\tremaining: 3.36s\n",
            "150:\tlearn: 5.5308004\ttotal: 596ms\tremaining: 3.35s\n",
            "151:\tlearn: 5.5256498\ttotal: 599ms\tremaining: 3.34s\n",
            "152:\tlearn: 5.5178164\ttotal: 602ms\tremaining: 3.33s\n",
            "153:\tlearn: 5.5055588\ttotal: 606ms\tremaining: 3.33s\n",
            "154:\tlearn: 5.4954998\ttotal: 609ms\tremaining: 3.32s\n",
            "155:\tlearn: 5.4873473\ttotal: 612ms\tremaining: 3.31s\n",
            "156:\tlearn: 5.4786340\ttotal: 615ms\tremaining: 3.3s\n",
            "157:\tlearn: 5.4682473\ttotal: 619ms\tremaining: 3.3s\n",
            "158:\tlearn: 5.4626872\ttotal: 624ms\tremaining: 3.3s\n",
            "159:\tlearn: 5.4521720\ttotal: 627ms\tremaining: 3.29s\n",
            "160:\tlearn: 5.4412972\ttotal: 630ms\tremaining: 3.29s\n",
            "161:\tlearn: 5.4368233\ttotal: 633ms\tremaining: 3.28s\n",
            "162:\tlearn: 5.4271817\ttotal: 636ms\tremaining: 3.27s\n",
            "163:\tlearn: 5.4178482\ttotal: 639ms\tremaining: 3.26s\n",
            "164:\tlearn: 5.4041871\ttotal: 642ms\tremaining: 3.25s\n",
            "165:\tlearn: 5.3956360\ttotal: 646ms\tremaining: 3.24s\n",
            "166:\tlearn: 5.3891668\ttotal: 649ms\tremaining: 3.23s\n",
            "167:\tlearn: 5.3778598\ttotal: 652ms\tremaining: 3.23s\n",
            "168:\tlearn: 5.3731623\ttotal: 655ms\tremaining: 3.22s\n",
            "169:\tlearn: 5.3655387\ttotal: 658ms\tremaining: 3.21s\n",
            "170:\tlearn: 5.3518866\ttotal: 661ms\tremaining: 3.21s\n",
            "171:\tlearn: 5.3448952\ttotal: 664ms\tremaining: 3.2s\n",
            "172:\tlearn: 5.3333972\ttotal: 668ms\tremaining: 3.19s\n",
            "173:\tlearn: 5.3276367\ttotal: 671ms\tremaining: 3.18s\n",
            "174:\tlearn: 5.3189051\ttotal: 674ms\tremaining: 3.18s\n",
            "175:\tlearn: 5.3087384\ttotal: 678ms\tremaining: 3.17s\n",
            "176:\tlearn: 5.3000877\ttotal: 682ms\tremaining: 3.17s\n",
            "177:\tlearn: 5.2928715\ttotal: 685ms\tremaining: 3.16s\n",
            "178:\tlearn: 5.2863940\ttotal: 688ms\tremaining: 3.15s\n",
            "179:\tlearn: 5.2795607\ttotal: 691ms\tremaining: 3.15s\n",
            "180:\tlearn: 5.2716404\ttotal: 694ms\tremaining: 3.14s\n",
            "181:\tlearn: 5.2658370\ttotal: 697ms\tremaining: 3.13s\n",
            "182:\tlearn: 5.2549813\ttotal: 700ms\tremaining: 3.13s\n",
            "183:\tlearn: 5.2487979\ttotal: 703ms\tremaining: 3.12s\n",
            "184:\tlearn: 5.2413956\ttotal: 706ms\tremaining: 3.11s\n",
            "185:\tlearn: 5.2297552\ttotal: 710ms\tremaining: 3.1s\n",
            "186:\tlearn: 5.2180990\ttotal: 713ms\tremaining: 3.1s\n",
            "187:\tlearn: 5.2145408\ttotal: 716ms\tremaining: 3.09s\n",
            "188:\tlearn: 5.2081846\ttotal: 720ms\tremaining: 3.09s\n",
            "189:\tlearn: 5.2027364\ttotal: 723ms\tremaining: 3.08s\n",
            "190:\tlearn: 5.1918637\ttotal: 726ms\tremaining: 3.07s\n",
            "191:\tlearn: 5.1850680\ttotal: 731ms\tremaining: 3.08s\n",
            "192:\tlearn: 5.1772349\ttotal: 735ms\tremaining: 3.07s\n",
            "193:\tlearn: 5.1727921\ttotal: 738ms\tremaining: 3.06s\n",
            "194:\tlearn: 5.1638166\ttotal: 741ms\tremaining: 3.06s\n",
            "195:\tlearn: 5.1538503\ttotal: 744ms\tremaining: 3.05s\n",
            "196:\tlearn: 5.1471651\ttotal: 747ms\tremaining: 3.04s\n",
            "197:\tlearn: 5.1396610\ttotal: 750ms\tremaining: 3.04s\n",
            "198:\tlearn: 5.1305481\ttotal: 753ms\tremaining: 3.03s\n",
            "199:\tlearn: 5.1234567\ttotal: 756ms\tremaining: 3.02s\n",
            "200:\tlearn: 5.1166359\ttotal: 759ms\tremaining: 3.02s\n",
            "201:\tlearn: 5.1102441\ttotal: 765ms\tremaining: 3.02s\n",
            "202:\tlearn: 5.1004871\ttotal: 769ms\tremaining: 3.02s\n",
            "203:\tlearn: 5.0952498\ttotal: 772ms\tremaining: 3.01s\n",
            "204:\tlearn: 5.0891749\ttotal: 775ms\tremaining: 3s\n",
            "205:\tlearn: 5.0807600\ttotal: 778ms\tremaining: 3s\n",
            "206:\tlearn: 5.0736617\ttotal: 781ms\tremaining: 2.99s\n",
            "207:\tlearn: 5.0627700\ttotal: 784ms\tremaining: 2.98s\n",
            "208:\tlearn: 5.0557435\ttotal: 787ms\tremaining: 2.98s\n",
            "209:\tlearn: 5.0474287\ttotal: 790ms\tremaining: 2.97s\n",
            "210:\tlearn: 5.0371747\ttotal: 793ms\tremaining: 2.97s\n",
            "211:\tlearn: 5.0320707\ttotal: 796ms\tremaining: 2.96s\n",
            "212:\tlearn: 5.0228178\ttotal: 803ms\tremaining: 2.96s\n",
            "213:\tlearn: 5.0126011\ttotal: 807ms\tremaining: 2.96s\n",
            "214:\tlearn: 5.0040130\ttotal: 810ms\tremaining: 2.96s\n",
            "215:\tlearn: 4.9992385\ttotal: 813ms\tremaining: 2.95s\n",
            "216:\tlearn: 4.9927898\ttotal: 816ms\tremaining: 2.94s\n",
            "217:\tlearn: 4.9866980\ttotal: 819ms\tremaining: 2.94s\n",
            "218:\tlearn: 4.9810868\ttotal: 822ms\tremaining: 2.93s\n",
            "219:\tlearn: 4.9724759\ttotal: 825ms\tremaining: 2.92s\n",
            "220:\tlearn: 4.9670827\ttotal: 828ms\tremaining: 2.92s\n",
            "221:\tlearn: 4.9546660\ttotal: 831ms\tremaining: 2.91s\n",
            "222:\tlearn: 4.9497187\ttotal: 834ms\tremaining: 2.91s\n",
            "223:\tlearn: 4.9435481\ttotal: 837ms\tremaining: 2.9s\n",
            "224:\tlearn: 4.9384729\ttotal: 841ms\tremaining: 2.9s\n",
            "225:\tlearn: 4.9341981\ttotal: 847ms\tremaining: 2.9s\n",
            "226:\tlearn: 4.9293254\ttotal: 853ms\tremaining: 2.9s\n",
            "227:\tlearn: 4.9241235\ttotal: 859ms\tremaining: 2.91s\n",
            "228:\tlearn: 4.9190201\ttotal: 869ms\tremaining: 2.92s\n",
            "229:\tlearn: 4.9089206\ttotal: 875ms\tremaining: 2.93s\n",
            "230:\tlearn: 4.9045700\ttotal: 879ms\tremaining: 2.93s\n",
            "231:\tlearn: 4.8968234\ttotal: 884ms\tremaining: 2.93s\n",
            "232:\tlearn: 4.8872016\ttotal: 897ms\tremaining: 2.95s\n",
            "233:\tlearn: 4.8807110\ttotal: 916ms\tremaining: 3s\n",
            "234:\tlearn: 4.8757067\ttotal: 927ms\tremaining: 3.02s\n",
            "235:\tlearn: 4.8682091\ttotal: 940ms\tremaining: 3.04s\n",
            "236:\tlearn: 4.8639288\ttotal: 950ms\tremaining: 3.06s\n",
            "237:\tlearn: 4.8594886\ttotal: 954ms\tremaining: 3.06s\n",
            "238:\tlearn: 4.8541364\ttotal: 960ms\tremaining: 3.06s\n",
            "239:\tlearn: 4.8498355\ttotal: 968ms\tremaining: 3.06s\n",
            "240:\tlearn: 4.8453728\ttotal: 972ms\tremaining: 3.06s\n",
            "241:\tlearn: 4.8405866\ttotal: 977ms\tremaining: 3.06s\n",
            "242:\tlearn: 4.8345865\ttotal: 981ms\tremaining: 3.06s\n",
            "243:\tlearn: 4.8266612\ttotal: 986ms\tremaining: 3.06s\n",
            "244:\tlearn: 4.8203613\ttotal: 991ms\tremaining: 3.06s\n",
            "245:\tlearn: 4.8155708\ttotal: 996ms\tremaining: 3.05s\n",
            "246:\tlearn: 4.8088256\ttotal: 1s\tremaining: 3.05s\n",
            "247:\tlearn: 4.8049520\ttotal: 1s\tremaining: 3.05s\n",
            "248:\tlearn: 4.7996543\ttotal: 1.01s\tremaining: 3.05s\n",
            "249:\tlearn: 4.7949109\ttotal: 1.01s\tremaining: 3.04s\n",
            "250:\tlearn: 4.7888421\ttotal: 1.02s\tremaining: 3.04s\n",
            "251:\tlearn: 4.7856511\ttotal: 1.02s\tremaining: 3.04s\n",
            "252:\tlearn: 4.7813560\ttotal: 1.03s\tremaining: 3.04s\n",
            "253:\tlearn: 4.7769958\ttotal: 1.03s\tremaining: 3.03s\n",
            "254:\tlearn: 4.7685957\ttotal: 1.04s\tremaining: 3.03s\n",
            "255:\tlearn: 4.7621445\ttotal: 1.04s\tremaining: 3.03s\n",
            "256:\tlearn: 4.7577300\ttotal: 1.05s\tremaining: 3.02s\n",
            "257:\tlearn: 4.7533007\ttotal: 1.05s\tremaining: 3.02s\n",
            "258:\tlearn: 4.7437247\ttotal: 1.05s\tremaining: 3.02s\n",
            "259:\tlearn: 4.7391246\ttotal: 1.06s\tremaining: 3.02s\n",
            "260:\tlearn: 4.7342189\ttotal: 1.06s\tremaining: 3.02s\n",
            "261:\tlearn: 4.7270157\ttotal: 1.07s\tremaining: 3.01s\n",
            "262:\tlearn: 4.7206400\ttotal: 1.07s\tremaining: 3.01s\n",
            "263:\tlearn: 4.7153239\ttotal: 1.08s\tremaining: 3s\n",
            "264:\tlearn: 4.7082007\ttotal: 1.08s\tremaining: 3s\n",
            "265:\tlearn: 4.7004978\ttotal: 1.09s\tremaining: 3s\n",
            "266:\tlearn: 4.6953673\ttotal: 1.1s\tremaining: 3.01s\n",
            "267:\tlearn: 4.6915427\ttotal: 1.11s\tremaining: 3.04s\n",
            "268:\tlearn: 4.6882538\ttotal: 1.12s\tremaining: 3.05s\n",
            "269:\tlearn: 4.6831675\ttotal: 1.14s\tremaining: 3.07s\n",
            "270:\tlearn: 4.6801913\ttotal: 1.15s\tremaining: 3.09s\n",
            "271:\tlearn: 4.6733403\ttotal: 1.16s\tremaining: 3.1s\n",
            "272:\tlearn: 4.6698167\ttotal: 1.17s\tremaining: 3.12s\n",
            "273:\tlearn: 4.6627631\ttotal: 1.18s\tremaining: 3.12s\n",
            "274:\tlearn: 4.6579668\ttotal: 1.18s\tremaining: 3.12s\n",
            "275:\tlearn: 4.6533995\ttotal: 1.19s\tremaining: 3.11s\n",
            "276:\tlearn: 4.6474055\ttotal: 1.19s\tremaining: 3.1s\n",
            "277:\tlearn: 4.6413706\ttotal: 1.19s\tremaining: 3.09s\n",
            "278:\tlearn: 4.6368275\ttotal: 1.19s\tremaining: 3.09s\n",
            "279:\tlearn: 4.6310338\ttotal: 1.2s\tremaining: 3.08s\n",
            "280:\tlearn: 4.6277399\ttotal: 1.2s\tremaining: 3.07s\n",
            "281:\tlearn: 4.6214975\ttotal: 1.2s\tremaining: 3.06s\n",
            "282:\tlearn: 4.6168693\ttotal: 1.21s\tremaining: 3.06s\n",
            "283:\tlearn: 4.6100323\ttotal: 1.21s\tremaining: 3.05s\n",
            "284:\tlearn: 4.6060074\ttotal: 1.21s\tremaining: 3.04s\n",
            "285:\tlearn: 4.6006157\ttotal: 1.22s\tremaining: 3.04s\n",
            "286:\tlearn: 4.5959379\ttotal: 1.22s\tremaining: 3.03s\n",
            "287:\tlearn: 4.5903817\ttotal: 1.22s\tremaining: 3.02s\n",
            "288:\tlearn: 4.5828103\ttotal: 1.23s\tremaining: 3.02s\n",
            "289:\tlearn: 4.5769934\ttotal: 1.23s\tremaining: 3.01s\n",
            "290:\tlearn: 4.5714021\ttotal: 1.23s\tremaining: 3s\n",
            "291:\tlearn: 4.5680593\ttotal: 1.24s\tremaining: 3s\n",
            "292:\tlearn: 4.5607249\ttotal: 1.24s\tremaining: 2.99s\n",
            "293:\tlearn: 4.5553678\ttotal: 1.24s\tremaining: 2.98s\n",
            "294:\tlearn: 4.5518366\ttotal: 1.25s\tremaining: 2.98s\n",
            "295:\tlearn: 4.5450818\ttotal: 1.25s\tremaining: 2.97s\n",
            "296:\tlearn: 4.5414783\ttotal: 1.25s\tremaining: 2.96s\n",
            "297:\tlearn: 4.5378415\ttotal: 1.25s\tremaining: 2.96s\n",
            "298:\tlearn: 4.5324320\ttotal: 1.26s\tremaining: 2.95s\n",
            "299:\tlearn: 4.5264430\ttotal: 1.26s\tremaining: 2.95s\n",
            "300:\tlearn: 4.5230693\ttotal: 1.27s\tremaining: 2.94s\n",
            "301:\tlearn: 4.5212511\ttotal: 1.27s\tremaining: 2.93s\n",
            "302:\tlearn: 4.5172978\ttotal: 1.27s\tremaining: 2.93s\n",
            "303:\tlearn: 4.5123844\ttotal: 1.27s\tremaining: 2.92s\n",
            "304:\tlearn: 4.5086798\ttotal: 1.28s\tremaining: 2.91s\n",
            "305:\tlearn: 4.5048087\ttotal: 1.28s\tremaining: 2.91s\n",
            "306:\tlearn: 4.5002970\ttotal: 1.28s\tremaining: 2.9s\n",
            "307:\tlearn: 4.4958253\ttotal: 1.29s\tremaining: 2.89s\n",
            "308:\tlearn: 4.4930564\ttotal: 1.29s\tremaining: 2.89s\n",
            "309:\tlearn: 4.4882012\ttotal: 1.29s\tremaining: 2.88s\n",
            "310:\tlearn: 4.4828336\ttotal: 1.3s\tremaining: 2.87s\n",
            "311:\tlearn: 4.4755615\ttotal: 1.3s\tremaining: 2.88s\n",
            "312:\tlearn: 4.4710081\ttotal: 1.31s\tremaining: 2.87s\n",
            "313:\tlearn: 4.4683908\ttotal: 1.31s\tremaining: 2.86s\n",
            "314:\tlearn: 4.4657702\ttotal: 1.31s\tremaining: 2.86s\n",
            "315:\tlearn: 4.4617313\ttotal: 1.32s\tremaining: 2.85s\n",
            "316:\tlearn: 4.4569698\ttotal: 1.32s\tremaining: 2.84s\n",
            "317:\tlearn: 4.4524557\ttotal: 1.32s\tremaining: 2.84s\n",
            "318:\tlearn: 4.4493116\ttotal: 1.33s\tremaining: 2.83s\n",
            "319:\tlearn: 4.4437774\ttotal: 1.33s\tremaining: 2.84s\n",
            "320:\tlearn: 4.4412404\ttotal: 1.34s\tremaining: 2.83s\n",
            "321:\tlearn: 4.4374894\ttotal: 1.34s\tremaining: 2.83s\n",
            "322:\tlearn: 4.4323661\ttotal: 1.34s\tremaining: 2.82s\n",
            "323:\tlearn: 4.4276940\ttotal: 1.35s\tremaining: 2.81s\n",
            "324:\tlearn: 4.4232965\ttotal: 1.35s\tremaining: 2.81s\n",
            "325:\tlearn: 4.4193268\ttotal: 1.35s\tremaining: 2.8s\n",
            "326:\tlearn: 4.4153298\ttotal: 1.36s\tremaining: 2.8s\n",
            "327:\tlearn: 4.4087627\ttotal: 1.36s\tremaining: 2.79s\n",
            "328:\tlearn: 4.4054435\ttotal: 1.37s\tremaining: 2.79s\n",
            "329:\tlearn: 4.3998493\ttotal: 1.37s\tremaining: 2.79s\n",
            "330:\tlearn: 4.3956369\ttotal: 1.38s\tremaining: 2.78s\n",
            "331:\tlearn: 4.3897971\ttotal: 1.38s\tremaining: 2.78s\n",
            "332:\tlearn: 4.3839796\ttotal: 1.38s\tremaining: 2.77s\n",
            "333:\tlearn: 4.3788883\ttotal: 1.39s\tremaining: 2.77s\n",
            "334:\tlearn: 4.3769179\ttotal: 1.39s\tremaining: 2.76s\n",
            "335:\tlearn: 4.3748358\ttotal: 1.39s\tremaining: 2.75s\n",
            "336:\tlearn: 4.3679947\ttotal: 1.4s\tremaining: 2.75s\n",
            "337:\tlearn: 4.3614770\ttotal: 1.4s\tremaining: 2.75s\n",
            "338:\tlearn: 4.3588080\ttotal: 1.41s\tremaining: 2.75s\n",
            "339:\tlearn: 4.3549833\ttotal: 1.41s\tremaining: 2.74s\n",
            "340:\tlearn: 4.3495552\ttotal: 1.41s\tremaining: 2.73s\n",
            "341:\tlearn: 4.3445413\ttotal: 1.42s\tremaining: 2.73s\n",
            "342:\tlearn: 4.3414941\ttotal: 1.42s\tremaining: 2.72s\n",
            "343:\tlearn: 4.3380474\ttotal: 1.42s\tremaining: 2.71s\n",
            "344:\tlearn: 4.3361289\ttotal: 1.43s\tremaining: 2.71s\n",
            "345:\tlearn: 4.3311404\ttotal: 1.43s\tremaining: 2.7s\n",
            "346:\tlearn: 4.3279836\ttotal: 1.43s\tremaining: 2.7s\n",
            "347:\tlearn: 4.3245007\ttotal: 1.44s\tremaining: 2.69s\n",
            "348:\tlearn: 4.3198413\ttotal: 1.44s\tremaining: 2.69s\n",
            "349:\tlearn: 4.3166695\ttotal: 1.44s\tremaining: 2.68s\n",
            "350:\tlearn: 4.3121230\ttotal: 1.45s\tremaining: 2.67s\n",
            "351:\tlearn: 4.3062637\ttotal: 1.45s\tremaining: 2.67s\n",
            "352:\tlearn: 4.3001750\ttotal: 1.45s\tremaining: 2.66s\n",
            "353:\tlearn: 4.2973788\ttotal: 1.46s\tremaining: 2.66s\n",
            "354:\tlearn: 4.2929764\ttotal: 1.46s\tremaining: 2.66s\n",
            "355:\tlearn: 4.2893348\ttotal: 1.47s\tremaining: 2.66s\n",
            "356:\tlearn: 4.2864943\ttotal: 1.48s\tremaining: 2.66s\n",
            "357:\tlearn: 4.2829475\ttotal: 1.48s\tremaining: 2.66s\n",
            "358:\tlearn: 4.2771391\ttotal: 1.49s\tremaining: 2.65s\n",
            "359:\tlearn: 4.2708128\ttotal: 1.49s\tremaining: 2.65s\n",
            "360:\tlearn: 4.2664513\ttotal: 1.49s\tremaining: 2.64s\n",
            "361:\tlearn: 4.2606925\ttotal: 1.5s\tremaining: 2.64s\n",
            "362:\tlearn: 4.2568297\ttotal: 1.5s\tremaining: 2.63s\n",
            "363:\tlearn: 4.2512455\ttotal: 1.5s\tremaining: 2.63s\n",
            "364:\tlearn: 4.2473580\ttotal: 1.51s\tremaining: 2.62s\n",
            "365:\tlearn: 4.2424125\ttotal: 1.51s\tremaining: 2.62s\n",
            "366:\tlearn: 4.2395737\ttotal: 1.51s\tremaining: 2.61s\n",
            "367:\tlearn: 4.2354873\ttotal: 1.52s\tremaining: 2.6s\n",
            "368:\tlearn: 4.2320696\ttotal: 1.52s\tremaining: 2.6s\n",
            "369:\tlearn: 4.2264428\ttotal: 1.54s\tremaining: 2.62s\n",
            "370:\tlearn: 4.2234357\ttotal: 1.54s\tremaining: 2.61s\n",
            "371:\tlearn: 4.2206208\ttotal: 1.54s\tremaining: 2.61s\n",
            "372:\tlearn: 4.2168278\ttotal: 1.55s\tremaining: 2.6s\n",
            "373:\tlearn: 4.2121527\ttotal: 1.55s\tremaining: 2.6s\n",
            "374:\tlearn: 4.2098736\ttotal: 1.55s\tremaining: 2.59s\n",
            "375:\tlearn: 4.2041182\ttotal: 1.56s\tremaining: 2.58s\n",
            "376:\tlearn: 4.2012287\ttotal: 1.56s\tremaining: 2.58s\n",
            "377:\tlearn: 4.1988349\ttotal: 1.57s\tremaining: 2.58s\n",
            "378:\tlearn: 4.1946154\ttotal: 1.57s\tremaining: 2.58s\n",
            "379:\tlearn: 4.1911429\ttotal: 1.57s\tremaining: 2.57s\n",
            "380:\tlearn: 4.1886069\ttotal: 1.58s\tremaining: 2.56s\n",
            "381:\tlearn: 4.1857354\ttotal: 1.58s\tremaining: 2.56s\n",
            "382:\tlearn: 4.1835926\ttotal: 1.59s\tremaining: 2.56s\n",
            "383:\tlearn: 4.1789538\ttotal: 1.59s\tremaining: 2.55s\n",
            "384:\tlearn: 4.1749560\ttotal: 1.59s\tremaining: 2.54s\n",
            "385:\tlearn: 4.1723291\ttotal: 1.59s\tremaining: 2.54s\n",
            "386:\tlearn: 4.1696546\ttotal: 1.6s\tremaining: 2.53s\n",
            "387:\tlearn: 4.1635221\ttotal: 1.6s\tremaining: 2.53s\n",
            "388:\tlearn: 4.1605782\ttotal: 1.6s\tremaining: 2.52s\n",
            "389:\tlearn: 4.1584514\ttotal: 1.61s\tremaining: 2.52s\n",
            "390:\tlearn: 4.1575139\ttotal: 1.61s\tremaining: 2.51s\n",
            "391:\tlearn: 4.1527706\ttotal: 1.61s\tremaining: 2.5s\n",
            "392:\tlearn: 4.1490247\ttotal: 1.62s\tremaining: 2.5s\n",
            "393:\tlearn: 4.1441969\ttotal: 1.62s\tremaining: 2.49s\n",
            "394:\tlearn: 4.1417084\ttotal: 1.63s\tremaining: 2.49s\n",
            "395:\tlearn: 4.1381339\ttotal: 1.64s\tremaining: 2.5s\n",
            "396:\tlearn: 4.1344553\ttotal: 1.64s\tremaining: 2.49s\n",
            "397:\tlearn: 4.1311436\ttotal: 1.65s\tremaining: 2.49s\n",
            "398:\tlearn: 4.1275085\ttotal: 1.65s\tremaining: 2.49s\n",
            "399:\tlearn: 4.1242339\ttotal: 1.65s\tremaining: 2.48s\n",
            "400:\tlearn: 4.1189658\ttotal: 1.66s\tremaining: 2.48s\n",
            "401:\tlearn: 4.1142316\ttotal: 1.66s\tremaining: 2.47s\n",
            "402:\tlearn: 4.1090212\ttotal: 1.66s\tremaining: 2.46s\n",
            "403:\tlearn: 4.1054924\ttotal: 1.67s\tremaining: 2.46s\n",
            "404:\tlearn: 4.1015147\ttotal: 1.67s\tremaining: 2.45s\n",
            "405:\tlearn: 4.0975817\ttotal: 1.67s\tremaining: 2.45s\n",
            "406:\tlearn: 4.0936805\ttotal: 1.68s\tremaining: 2.44s\n",
            "407:\tlearn: 4.0899440\ttotal: 1.68s\tremaining: 2.44s\n",
            "408:\tlearn: 4.0868738\ttotal: 1.68s\tremaining: 2.43s\n",
            "409:\tlearn: 4.0844744\ttotal: 1.69s\tremaining: 2.43s\n",
            "410:\tlearn: 4.0806032\ttotal: 1.69s\tremaining: 2.42s\n",
            "411:\tlearn: 4.0778029\ttotal: 1.69s\tremaining: 2.42s\n",
            "412:\tlearn: 4.0753812\ttotal: 1.7s\tremaining: 2.41s\n",
            "413:\tlearn: 4.0729024\ttotal: 1.7s\tremaining: 2.4s\n",
            "414:\tlearn: 4.0682005\ttotal: 1.7s\tremaining: 2.4s\n",
            "415:\tlearn: 4.0647092\ttotal: 1.71s\tremaining: 2.4s\n",
            "416:\tlearn: 4.0607339\ttotal: 1.71s\tremaining: 2.39s\n",
            "417:\tlearn: 4.0579348\ttotal: 1.71s\tremaining: 2.39s\n",
            "418:\tlearn: 4.0564809\ttotal: 1.72s\tremaining: 2.38s\n",
            "419:\tlearn: 4.0540557\ttotal: 1.72s\tremaining: 2.38s\n",
            "420:\tlearn: 4.0518467\ttotal: 1.72s\tremaining: 2.37s\n",
            "421:\tlearn: 4.0494533\ttotal: 1.73s\tremaining: 2.37s\n",
            "422:\tlearn: 4.0455041\ttotal: 1.74s\tremaining: 2.37s\n",
            "423:\tlearn: 4.0412683\ttotal: 1.74s\tremaining: 2.36s\n",
            "424:\tlearn: 4.0369213\ttotal: 1.74s\tremaining: 2.36s\n",
            "425:\tlearn: 4.0335759\ttotal: 1.75s\tremaining: 2.36s\n",
            "426:\tlearn: 4.0279366\ttotal: 1.75s\tremaining: 2.36s\n",
            "427:\tlearn: 4.0244095\ttotal: 1.76s\tremaining: 2.35s\n",
            "428:\tlearn: 4.0217594\ttotal: 1.76s\tremaining: 2.35s\n",
            "429:\tlearn: 4.0184255\ttotal: 1.77s\tremaining: 2.34s\n",
            "430:\tlearn: 4.0152988\ttotal: 1.77s\tremaining: 2.34s\n",
            "431:\tlearn: 4.0116750\ttotal: 1.77s\tremaining: 2.33s\n",
            "432:\tlearn: 4.0077281\ttotal: 1.78s\tremaining: 2.33s\n",
            "433:\tlearn: 4.0056119\ttotal: 1.78s\tremaining: 2.32s\n",
            "434:\tlearn: 4.0027353\ttotal: 1.78s\tremaining: 2.32s\n",
            "435:\tlearn: 3.9994253\ttotal: 1.79s\tremaining: 2.31s\n",
            "436:\tlearn: 3.9963211\ttotal: 1.79s\tremaining: 2.31s\n",
            "437:\tlearn: 3.9943689\ttotal: 1.79s\tremaining: 2.3s\n",
            "438:\tlearn: 3.9911781\ttotal: 1.8s\tremaining: 2.3s\n",
            "439:\tlearn: 3.9881430\ttotal: 1.8s\tremaining: 2.29s\n",
            "440:\tlearn: 3.9857344\ttotal: 1.8s\tremaining: 2.29s\n",
            "441:\tlearn: 3.9841087\ttotal: 1.81s\tremaining: 2.28s\n",
            "442:\tlearn: 3.9817234\ttotal: 1.81s\tremaining: 2.28s\n",
            "443:\tlearn: 3.9788464\ttotal: 1.81s\tremaining: 2.27s\n",
            "444:\tlearn: 3.9756778\ttotal: 1.82s\tremaining: 2.27s\n",
            "445:\tlearn: 3.9731139\ttotal: 1.82s\tremaining: 2.26s\n",
            "446:\tlearn: 3.9694152\ttotal: 1.82s\tremaining: 2.25s\n",
            "447:\tlearn: 3.9664947\ttotal: 1.83s\tremaining: 2.25s\n",
            "448:\tlearn: 3.9621371\ttotal: 1.83s\tremaining: 2.25s\n",
            "449:\tlearn: 3.9578335\ttotal: 1.83s\tremaining: 2.24s\n",
            "450:\tlearn: 3.9551781\ttotal: 1.84s\tremaining: 2.23s\n",
            "451:\tlearn: 3.9526325\ttotal: 1.84s\tremaining: 2.23s\n",
            "452:\tlearn: 3.9495184\ttotal: 1.84s\tremaining: 2.22s\n",
            "453:\tlearn: 3.9467102\ttotal: 1.84s\tremaining: 2.22s\n",
            "454:\tlearn: 3.9424432\ttotal: 1.85s\tremaining: 2.21s\n",
            "455:\tlearn: 3.9390204\ttotal: 1.85s\tremaining: 2.21s\n",
            "456:\tlearn: 3.9361965\ttotal: 1.85s\tremaining: 2.2s\n",
            "457:\tlearn: 3.9332984\ttotal: 1.86s\tremaining: 2.2s\n",
            "458:\tlearn: 3.9302158\ttotal: 1.87s\tremaining: 2.2s\n",
            "459:\tlearn: 3.9276173\ttotal: 1.87s\tremaining: 2.19s\n",
            "460:\tlearn: 3.9250285\ttotal: 1.87s\tremaining: 2.19s\n",
            "461:\tlearn: 3.9229880\ttotal: 1.88s\tremaining: 2.18s\n",
            "462:\tlearn: 3.9212710\ttotal: 1.88s\tremaining: 2.18s\n",
            "463:\tlearn: 3.9201234\ttotal: 1.88s\tremaining: 2.17s\n",
            "464:\tlearn: 3.9171387\ttotal: 1.89s\tremaining: 2.17s\n",
            "465:\tlearn: 3.9139255\ttotal: 1.89s\tremaining: 2.16s\n",
            "466:\tlearn: 3.9102695\ttotal: 1.89s\tremaining: 2.16s\n",
            "467:\tlearn: 3.9081410\ttotal: 1.9s\tremaining: 2.15s\n",
            "468:\tlearn: 3.9052619\ttotal: 1.9s\tremaining: 2.15s\n",
            "469:\tlearn: 3.9014905\ttotal: 1.9s\tremaining: 2.14s\n",
            "470:\tlearn: 3.8982647\ttotal: 1.9s\tremaining: 2.14s\n",
            "471:\tlearn: 3.8967224\ttotal: 1.91s\tremaining: 2.13s\n",
            "472:\tlearn: 3.8941493\ttotal: 1.91s\tremaining: 2.13s\n",
            "473:\tlearn: 3.8918755\ttotal: 1.91s\tremaining: 2.12s\n",
            "474:\tlearn: 3.8893171\ttotal: 1.92s\tremaining: 2.12s\n",
            "475:\tlearn: 3.8847804\ttotal: 1.93s\tremaining: 2.12s\n",
            "476:\tlearn: 3.8825279\ttotal: 1.93s\tremaining: 2.12s\n",
            "477:\tlearn: 3.8806126\ttotal: 1.93s\tremaining: 2.11s\n",
            "478:\tlearn: 3.8782059\ttotal: 1.94s\tremaining: 2.11s\n",
            "479:\tlearn: 3.8765371\ttotal: 1.94s\tremaining: 2.1s\n",
            "480:\tlearn: 3.8726809\ttotal: 1.94s\tremaining: 2.1s\n",
            "481:\tlearn: 3.8707848\ttotal: 1.95s\tremaining: 2.1s\n",
            "482:\tlearn: 3.8664192\ttotal: 1.95s\tremaining: 2.09s\n",
            "483:\tlearn: 3.8632848\ttotal: 1.96s\tremaining: 2.09s\n",
            "484:\tlearn: 3.8608781\ttotal: 1.96s\tremaining: 2.08s\n",
            "485:\tlearn: 3.8576149\ttotal: 1.96s\tremaining: 2.08s\n",
            "486:\tlearn: 3.8541358\ttotal: 1.97s\tremaining: 2.07s\n",
            "487:\tlearn: 3.8520233\ttotal: 1.97s\tremaining: 2.07s\n",
            "488:\tlearn: 3.8502961\ttotal: 1.97s\tremaining: 2.06s\n",
            "489:\tlearn: 3.8463933\ttotal: 1.98s\tremaining: 2.06s\n",
            "490:\tlearn: 3.8438942\ttotal: 1.99s\tremaining: 2.06s\n",
            "491:\tlearn: 3.8411054\ttotal: 1.99s\tremaining: 2.05s\n",
            "492:\tlearn: 3.8376278\ttotal: 1.99s\tremaining: 2.05s\n",
            "493:\tlearn: 3.8346314\ttotal: 2s\tremaining: 2.04s\n",
            "494:\tlearn: 3.8313117\ttotal: 2s\tremaining: 2.04s\n",
            "495:\tlearn: 3.8285323\ttotal: 2s\tremaining: 2.03s\n",
            "496:\tlearn: 3.8270473\ttotal: 2s\tremaining: 2.03s\n",
            "497:\tlearn: 3.8258948\ttotal: 2.01s\tremaining: 2.02s\n",
            "498:\tlearn: 3.8236533\ttotal: 2.01s\tremaining: 2.02s\n",
            "499:\tlearn: 3.8209025\ttotal: 2.01s\tremaining: 2.01s\n",
            "500:\tlearn: 3.8173781\ttotal: 2.02s\tremaining: 2.01s\n",
            "501:\tlearn: 3.8137715\ttotal: 2.02s\tremaining: 2s\n",
            "502:\tlearn: 3.8118932\ttotal: 2.02s\tremaining: 2s\n",
            "503:\tlearn: 3.8094835\ttotal: 2.03s\tremaining: 2s\n",
            "504:\tlearn: 3.8073162\ttotal: 2.03s\tremaining: 1.99s\n",
            "505:\tlearn: 3.8039309\ttotal: 2.03s\tremaining: 1.99s\n",
            "506:\tlearn: 3.8014220\ttotal: 2.04s\tremaining: 1.98s\n",
            "507:\tlearn: 3.7993016\ttotal: 2.04s\tremaining: 1.98s\n",
            "508:\tlearn: 3.7963325\ttotal: 2.04s\tremaining: 1.97s\n",
            "509:\tlearn: 3.7927120\ttotal: 2.05s\tremaining: 1.97s\n",
            "510:\tlearn: 3.7904632\ttotal: 2.05s\tremaining: 1.96s\n",
            "511:\tlearn: 3.7876949\ttotal: 2.05s\tremaining: 1.96s\n",
            "512:\tlearn: 3.7851748\ttotal: 2.06s\tremaining: 1.95s\n",
            "513:\tlearn: 3.7827785\ttotal: 2.06s\tremaining: 1.95s\n",
            "514:\tlearn: 3.7806067\ttotal: 2.06s\tremaining: 1.94s\n",
            "515:\tlearn: 3.7790655\ttotal: 2.07s\tremaining: 1.94s\n",
            "516:\tlearn: 3.7761631\ttotal: 2.07s\tremaining: 1.93s\n",
            "517:\tlearn: 3.7737946\ttotal: 2.07s\tremaining: 1.93s\n",
            "518:\tlearn: 3.7720640\ttotal: 2.08s\tremaining: 1.92s\n",
            "519:\tlearn: 3.7702893\ttotal: 2.08s\tremaining: 1.92s\n",
            "520:\tlearn: 3.7666234\ttotal: 2.08s\tremaining: 1.92s\n",
            "521:\tlearn: 3.7653450\ttotal: 2.09s\tremaining: 1.91s\n",
            "522:\tlearn: 3.7615448\ttotal: 2.09s\tremaining: 1.91s\n",
            "523:\tlearn: 3.7584006\ttotal: 2.09s\tremaining: 1.9s\n",
            "524:\tlearn: 3.7565835\ttotal: 2.1s\tremaining: 1.9s\n",
            "525:\tlearn: 3.7552272\ttotal: 2.1s\tremaining: 1.9s\n",
            "526:\tlearn: 3.7522787\ttotal: 2.11s\tremaining: 1.9s\n",
            "527:\tlearn: 3.7507620\ttotal: 2.12s\tremaining: 1.9s\n",
            "528:\tlearn: 3.7475610\ttotal: 2.13s\tremaining: 1.9s\n",
            "529:\tlearn: 3.7456144\ttotal: 2.15s\tremaining: 1.91s\n",
            "530:\tlearn: 3.7434587\ttotal: 2.16s\tremaining: 1.91s\n",
            "531:\tlearn: 3.7421585\ttotal: 2.16s\tremaining: 1.9s\n",
            "532:\tlearn: 3.7392778\ttotal: 2.18s\tremaining: 1.91s\n",
            "533:\tlearn: 3.7367136\ttotal: 2.19s\tremaining: 1.91s\n",
            "534:\tlearn: 3.7344875\ttotal: 2.2s\tremaining: 1.91s\n",
            "535:\tlearn: 3.7329138\ttotal: 2.21s\tremaining: 1.91s\n",
            "536:\tlearn: 3.7306500\ttotal: 2.22s\tremaining: 1.91s\n",
            "537:\tlearn: 3.7285406\ttotal: 2.22s\tremaining: 1.91s\n",
            "538:\tlearn: 3.7264287\ttotal: 2.24s\tremaining: 1.91s\n",
            "539:\tlearn: 3.7232979\ttotal: 2.25s\tremaining: 1.91s\n",
            "540:\tlearn: 3.7208630\ttotal: 2.26s\tremaining: 1.92s\n",
            "541:\tlearn: 3.7182780\ttotal: 2.27s\tremaining: 1.92s\n",
            "542:\tlearn: 3.7155225\ttotal: 2.28s\tremaining: 1.92s\n",
            "543:\tlearn: 3.7143499\ttotal: 2.29s\tremaining: 1.92s\n",
            "544:\tlearn: 3.7118834\ttotal: 2.3s\tremaining: 1.92s\n",
            "545:\tlearn: 3.7089788\ttotal: 2.31s\tremaining: 1.92s\n",
            "546:\tlearn: 3.7055454\ttotal: 2.32s\tremaining: 1.92s\n",
            "547:\tlearn: 3.7027869\ttotal: 2.33s\tremaining: 1.92s\n",
            "548:\tlearn: 3.7005958\ttotal: 2.34s\tremaining: 1.93s\n",
            "549:\tlearn: 3.6987235\ttotal: 2.35s\tremaining: 1.93s\n",
            "550:\tlearn: 3.6971708\ttotal: 2.36s\tremaining: 1.93s\n",
            "551:\tlearn: 3.6923229\ttotal: 2.38s\tremaining: 1.93s\n",
            "552:\tlearn: 3.6894212\ttotal: 2.38s\tremaining: 1.92s\n",
            "553:\tlearn: 3.6869548\ttotal: 2.38s\tremaining: 1.92s\n",
            "554:\tlearn: 3.6855784\ttotal: 2.39s\tremaining: 1.92s\n",
            "555:\tlearn: 3.6826801\ttotal: 2.4s\tremaining: 1.91s\n",
            "556:\tlearn: 3.6812281\ttotal: 2.4s\tremaining: 1.91s\n",
            "557:\tlearn: 3.6784932\ttotal: 2.41s\tremaining: 1.91s\n",
            "558:\tlearn: 3.6755881\ttotal: 2.41s\tremaining: 1.9s\n",
            "559:\tlearn: 3.6736635\ttotal: 2.42s\tremaining: 1.9s\n",
            "560:\tlearn: 3.6709913\ttotal: 2.43s\tremaining: 1.9s\n",
            "561:\tlearn: 3.6680656\ttotal: 2.44s\tremaining: 1.9s\n",
            "562:\tlearn: 3.6665433\ttotal: 2.44s\tremaining: 1.89s\n",
            "563:\tlearn: 3.6639646\ttotal: 2.45s\tremaining: 1.89s\n",
            "564:\tlearn: 3.6609424\ttotal: 2.45s\tremaining: 1.89s\n",
            "565:\tlearn: 3.6598870\ttotal: 2.46s\tremaining: 1.88s\n",
            "566:\tlearn: 3.6580640\ttotal: 2.46s\tremaining: 1.88s\n",
            "567:\tlearn: 3.6559256\ttotal: 2.46s\tremaining: 1.87s\n",
            "568:\tlearn: 3.6546088\ttotal: 2.46s\tremaining: 1.87s\n",
            "569:\tlearn: 3.6514931\ttotal: 2.47s\tremaining: 1.86s\n",
            "570:\tlearn: 3.6494812\ttotal: 2.47s\tremaining: 1.86s\n",
            "571:\tlearn: 3.6475766\ttotal: 2.47s\tremaining: 1.85s\n",
            "572:\tlearn: 3.6448494\ttotal: 2.48s\tremaining: 1.85s\n",
            "573:\tlearn: 3.6426392\ttotal: 2.48s\tremaining: 1.84s\n",
            "574:\tlearn: 3.6384323\ttotal: 2.48s\tremaining: 1.84s\n",
            "575:\tlearn: 3.6371841\ttotal: 2.49s\tremaining: 1.83s\n",
            "576:\tlearn: 3.6352946\ttotal: 2.49s\tremaining: 1.82s\n",
            "577:\tlearn: 3.6316772\ttotal: 2.49s\tremaining: 1.82s\n",
            "578:\tlearn: 3.6301340\ttotal: 2.5s\tremaining: 1.82s\n",
            "579:\tlearn: 3.6277035\ttotal: 2.5s\tremaining: 1.81s\n",
            "580:\tlearn: 3.6257462\ttotal: 2.51s\tremaining: 1.81s\n",
            "581:\tlearn: 3.6241098\ttotal: 2.51s\tremaining: 1.8s\n",
            "582:\tlearn: 3.6215892\ttotal: 2.51s\tremaining: 1.8s\n",
            "583:\tlearn: 3.6198941\ttotal: 2.52s\tremaining: 1.79s\n",
            "584:\tlearn: 3.6180418\ttotal: 2.52s\tremaining: 1.79s\n",
            "585:\tlearn: 3.6161978\ttotal: 2.52s\tremaining: 1.78s\n",
            "586:\tlearn: 3.6140554\ttotal: 2.53s\tremaining: 1.78s\n",
            "587:\tlearn: 3.6099651\ttotal: 2.54s\tremaining: 1.78s\n",
            "588:\tlearn: 3.6071355\ttotal: 2.54s\tremaining: 1.77s\n",
            "589:\tlearn: 3.6064706\ttotal: 2.54s\tremaining: 1.77s\n",
            "590:\tlearn: 3.6033033\ttotal: 2.55s\tremaining: 1.76s\n",
            "591:\tlearn: 3.6017750\ttotal: 2.55s\tremaining: 1.76s\n",
            "592:\tlearn: 3.5996674\ttotal: 2.55s\tremaining: 1.75s\n",
            "593:\tlearn: 3.5976787\ttotal: 2.56s\tremaining: 1.75s\n",
            "594:\tlearn: 3.5969550\ttotal: 2.56s\tremaining: 1.74s\n",
            "595:\tlearn: 3.5938387\ttotal: 2.56s\tremaining: 1.74s\n",
            "596:\tlearn: 3.5917047\ttotal: 2.57s\tremaining: 1.73s\n",
            "597:\tlearn: 3.5897681\ttotal: 2.57s\tremaining: 1.73s\n",
            "598:\tlearn: 3.5883353\ttotal: 2.57s\tremaining: 1.72s\n",
            "599:\tlearn: 3.5847606\ttotal: 2.58s\tremaining: 1.72s\n",
            "600:\tlearn: 3.5825111\ttotal: 2.58s\tremaining: 1.71s\n",
            "601:\tlearn: 3.5808594\ttotal: 2.58s\tremaining: 1.71s\n",
            "602:\tlearn: 3.5778495\ttotal: 2.59s\tremaining: 1.7s\n",
            "603:\tlearn: 3.5754232\ttotal: 2.59s\tremaining: 1.7s\n",
            "604:\tlearn: 3.5732146\ttotal: 2.59s\tremaining: 1.69s\n",
            "605:\tlearn: 3.5711189\ttotal: 2.6s\tremaining: 1.69s\n",
            "606:\tlearn: 3.5680488\ttotal: 2.6s\tremaining: 1.68s\n",
            "607:\tlearn: 3.5649389\ttotal: 2.6s\tremaining: 1.68s\n",
            "608:\tlearn: 3.5617497\ttotal: 2.61s\tremaining: 1.67s\n",
            "609:\tlearn: 3.5606899\ttotal: 2.61s\tremaining: 1.67s\n",
            "610:\tlearn: 3.5568520\ttotal: 2.61s\tremaining: 1.66s\n",
            "611:\tlearn: 3.5545813\ttotal: 2.62s\tremaining: 1.66s\n",
            "612:\tlearn: 3.5514847\ttotal: 2.62s\tremaining: 1.65s\n",
            "613:\tlearn: 3.5486929\ttotal: 2.62s\tremaining: 1.65s\n",
            "614:\tlearn: 3.5465612\ttotal: 2.63s\tremaining: 1.64s\n",
            "615:\tlearn: 3.5438168\ttotal: 2.63s\tremaining: 1.64s\n",
            "616:\tlearn: 3.5417590\ttotal: 2.63s\tremaining: 1.63s\n",
            "617:\tlearn: 3.5404891\ttotal: 2.63s\tremaining: 1.63s\n",
            "618:\tlearn: 3.5389049\ttotal: 2.64s\tremaining: 1.62s\n",
            "619:\tlearn: 3.5372555\ttotal: 2.64s\tremaining: 1.62s\n",
            "620:\tlearn: 3.5349422\ttotal: 2.65s\tremaining: 1.61s\n",
            "621:\tlearn: 3.5329294\ttotal: 2.65s\tremaining: 1.61s\n",
            "622:\tlearn: 3.5311119\ttotal: 2.65s\tremaining: 1.6s\n",
            "623:\tlearn: 3.5286961\ttotal: 2.66s\tremaining: 1.6s\n",
            "624:\tlearn: 3.5278052\ttotal: 2.67s\tremaining: 1.6s\n",
            "625:\tlearn: 3.5256988\ttotal: 2.67s\tremaining: 1.59s\n",
            "626:\tlearn: 3.5231957\ttotal: 2.67s\tremaining: 1.59s\n",
            "627:\tlearn: 3.5202847\ttotal: 2.68s\tremaining: 1.58s\n",
            "628:\tlearn: 3.5176840\ttotal: 2.68s\tremaining: 1.58s\n",
            "629:\tlearn: 3.5159040\ttotal: 2.68s\tremaining: 1.58s\n",
            "630:\tlearn: 3.5131095\ttotal: 2.69s\tremaining: 1.57s\n",
            "631:\tlearn: 3.5110504\ttotal: 2.7s\tremaining: 1.57s\n",
            "632:\tlearn: 3.5093466\ttotal: 2.7s\tremaining: 1.56s\n",
            "633:\tlearn: 3.5066836\ttotal: 2.7s\tremaining: 1.56s\n",
            "634:\tlearn: 3.5048006\ttotal: 2.71s\tremaining: 1.55s\n",
            "635:\tlearn: 3.5032131\ttotal: 2.71s\tremaining: 1.55s\n",
            "636:\tlearn: 3.4999209\ttotal: 2.71s\tremaining: 1.54s\n",
            "637:\tlearn: 3.4977932\ttotal: 2.71s\tremaining: 1.54s\n",
            "638:\tlearn: 3.4949809\ttotal: 2.72s\tremaining: 1.53s\n",
            "639:\tlearn: 3.4932643\ttotal: 2.73s\tremaining: 1.53s\n",
            "640:\tlearn: 3.4916428\ttotal: 2.73s\tremaining: 1.53s\n",
            "641:\tlearn: 3.4883943\ttotal: 2.73s\tremaining: 1.52s\n",
            "642:\tlearn: 3.4853570\ttotal: 2.74s\tremaining: 1.52s\n",
            "643:\tlearn: 3.4832911\ttotal: 2.74s\tremaining: 1.51s\n",
            "644:\tlearn: 3.4809209\ttotal: 2.74s\tremaining: 1.51s\n",
            "645:\tlearn: 3.4793134\ttotal: 2.75s\tremaining: 1.5s\n",
            "646:\tlearn: 3.4757955\ttotal: 2.75s\tremaining: 1.5s\n",
            "647:\tlearn: 3.4732786\ttotal: 2.75s\tremaining: 1.49s\n",
            "648:\tlearn: 3.4706069\ttotal: 2.75s\tremaining: 1.49s\n",
            "649:\tlearn: 3.4690187\ttotal: 2.76s\tremaining: 1.49s\n",
            "650:\tlearn: 3.4674091\ttotal: 2.76s\tremaining: 1.48s\n",
            "651:\tlearn: 3.4663988\ttotal: 2.76s\tremaining: 1.48s\n",
            "652:\tlearn: 3.4645869\ttotal: 2.77s\tremaining: 1.47s\n",
            "653:\tlearn: 3.4621195\ttotal: 2.77s\tremaining: 1.47s\n",
            "654:\tlearn: 3.4596475\ttotal: 2.78s\tremaining: 1.46s\n",
            "655:\tlearn: 3.4566138\ttotal: 2.78s\tremaining: 1.46s\n",
            "656:\tlearn: 3.4553659\ttotal: 2.78s\tremaining: 1.45s\n",
            "657:\tlearn: 3.4528741\ttotal: 2.79s\tremaining: 1.45s\n",
            "658:\tlearn: 3.4500897\ttotal: 2.79s\tremaining: 1.44s\n",
            "659:\tlearn: 3.4469195\ttotal: 2.79s\tremaining: 1.44s\n",
            "660:\tlearn: 3.4450419\ttotal: 2.8s\tremaining: 1.43s\n",
            "661:\tlearn: 3.4419772\ttotal: 2.8s\tremaining: 1.43s\n",
            "662:\tlearn: 3.4403534\ttotal: 2.8s\tremaining: 1.43s\n",
            "663:\tlearn: 3.4377523\ttotal: 2.81s\tremaining: 1.42s\n",
            "664:\tlearn: 3.4362416\ttotal: 2.81s\tremaining: 1.42s\n",
            "665:\tlearn: 3.4346862\ttotal: 2.81s\tremaining: 1.41s\n",
            "666:\tlearn: 3.4326721\ttotal: 2.82s\tremaining: 1.41s\n",
            "667:\tlearn: 3.4306109\ttotal: 2.82s\tremaining: 1.4s\n",
            "668:\tlearn: 3.4283685\ttotal: 2.82s\tremaining: 1.4s\n",
            "669:\tlearn: 3.4262813\ttotal: 2.83s\tremaining: 1.39s\n",
            "670:\tlearn: 3.4247014\ttotal: 2.83s\tremaining: 1.39s\n",
            "671:\tlearn: 3.4238478\ttotal: 2.83s\tremaining: 1.38s\n",
            "672:\tlearn: 3.4216468\ttotal: 2.83s\tremaining: 1.38s\n",
            "673:\tlearn: 3.4190361\ttotal: 2.84s\tremaining: 1.37s\n",
            "674:\tlearn: 3.4174971\ttotal: 2.84s\tremaining: 1.37s\n",
            "675:\tlearn: 3.4156234\ttotal: 2.85s\tremaining: 1.36s\n",
            "676:\tlearn: 3.4127409\ttotal: 2.85s\tremaining: 1.36s\n",
            "677:\tlearn: 3.4116379\ttotal: 2.85s\tremaining: 1.35s\n",
            "678:\tlearn: 3.4098429\ttotal: 2.85s\tremaining: 1.35s\n",
            "679:\tlearn: 3.4069757\ttotal: 2.86s\tremaining: 1.34s\n",
            "680:\tlearn: 3.4050056\ttotal: 2.86s\tremaining: 1.34s\n",
            "681:\tlearn: 3.4037768\ttotal: 2.86s\tremaining: 1.33s\n",
            "682:\tlearn: 3.4020483\ttotal: 2.87s\tremaining: 1.33s\n",
            "683:\tlearn: 3.4004916\ttotal: 2.87s\tremaining: 1.33s\n",
            "684:\tlearn: 3.3992090\ttotal: 2.87s\tremaining: 1.32s\n",
            "685:\tlearn: 3.3985009\ttotal: 2.88s\tremaining: 1.32s\n",
            "686:\tlearn: 3.3964462\ttotal: 2.89s\tremaining: 1.31s\n",
            "687:\tlearn: 3.3942586\ttotal: 2.89s\tremaining: 1.31s\n",
            "688:\tlearn: 3.3926862\ttotal: 2.89s\tremaining: 1.3s\n",
            "689:\tlearn: 3.3903400\ttotal: 2.9s\tremaining: 1.3s\n",
            "690:\tlearn: 3.3893126\ttotal: 2.9s\tremaining: 1.3s\n",
            "691:\tlearn: 3.3877091\ttotal: 2.9s\tremaining: 1.29s\n",
            "692:\tlearn: 3.3844265\ttotal: 2.9s\tremaining: 1.29s\n",
            "693:\tlearn: 3.3826455\ttotal: 2.91s\tremaining: 1.28s\n",
            "694:\tlearn: 3.3808809\ttotal: 2.92s\tremaining: 1.28s\n",
            "695:\tlearn: 3.3779677\ttotal: 2.92s\tremaining: 1.27s\n",
            "696:\tlearn: 3.3753904\ttotal: 2.92s\tremaining: 1.27s\n",
            "697:\tlearn: 3.3740959\ttotal: 2.93s\tremaining: 1.27s\n",
            "698:\tlearn: 3.3724150\ttotal: 2.93s\tremaining: 1.26s\n",
            "699:\tlearn: 3.3710097\ttotal: 2.93s\tremaining: 1.26s\n",
            "700:\tlearn: 3.3678895\ttotal: 2.94s\tremaining: 1.25s\n",
            "701:\tlearn: 3.3660716\ttotal: 2.94s\tremaining: 1.25s\n",
            "702:\tlearn: 3.3635932\ttotal: 2.94s\tremaining: 1.24s\n",
            "703:\tlearn: 3.3606096\ttotal: 2.95s\tremaining: 1.24s\n",
            "704:\tlearn: 3.3595524\ttotal: 2.95s\tremaining: 1.23s\n",
            "705:\tlearn: 3.3559272\ttotal: 2.95s\tremaining: 1.23s\n",
            "706:\tlearn: 3.3523680\ttotal: 2.96s\tremaining: 1.22s\n",
            "707:\tlearn: 3.3509704\ttotal: 2.96s\tremaining: 1.22s\n",
            "708:\tlearn: 3.3487475\ttotal: 2.96s\tremaining: 1.22s\n",
            "709:\tlearn: 3.3473397\ttotal: 2.96s\tremaining: 1.21s\n",
            "710:\tlearn: 3.3459821\ttotal: 2.97s\tremaining: 1.21s\n",
            "711:\tlearn: 3.3437445\ttotal: 2.97s\tremaining: 1.2s\n",
            "712:\tlearn: 3.3420512\ttotal: 2.97s\tremaining: 1.2s\n",
            "713:\tlearn: 3.3401442\ttotal: 2.98s\tremaining: 1.19s\n",
            "714:\tlearn: 3.3376217\ttotal: 2.98s\tremaining: 1.19s\n",
            "715:\tlearn: 3.3351595\ttotal: 2.98s\tremaining: 1.18s\n",
            "716:\tlearn: 3.3344775\ttotal: 2.99s\tremaining: 1.18s\n",
            "717:\tlearn: 3.3312893\ttotal: 2.99s\tremaining: 1.17s\n",
            "718:\tlearn: 3.3298577\ttotal: 2.99s\tremaining: 1.17s\n",
            "719:\tlearn: 3.3284926\ttotal: 3s\tremaining: 1.17s\n",
            "720:\tlearn: 3.3271296\ttotal: 3s\tremaining: 1.16s\n",
            "721:\tlearn: 3.3257979\ttotal: 3s\tremaining: 1.16s\n",
            "722:\tlearn: 3.3248296\ttotal: 3.01s\tremaining: 1.15s\n",
            "723:\tlearn: 3.3232747\ttotal: 3.01s\tremaining: 1.15s\n",
            "724:\tlearn: 3.3213129\ttotal: 3.01s\tremaining: 1.14s\n",
            "725:\tlearn: 3.3185987\ttotal: 3.02s\tremaining: 1.14s\n",
            "726:\tlearn: 3.3174495\ttotal: 3.02s\tremaining: 1.13s\n",
            "727:\tlearn: 3.3153470\ttotal: 3.02s\tremaining: 1.13s\n",
            "728:\tlearn: 3.3126061\ttotal: 3.03s\tremaining: 1.12s\n",
            "729:\tlearn: 3.3104151\ttotal: 3.03s\tremaining: 1.12s\n",
            "730:\tlearn: 3.3079830\ttotal: 3.03s\tremaining: 1.11s\n",
            "731:\tlearn: 3.3062624\ttotal: 3.04s\tremaining: 1.11s\n",
            "732:\tlearn: 3.3043615\ttotal: 3.04s\tremaining: 1.11s\n",
            "733:\tlearn: 3.3020124\ttotal: 3.04s\tremaining: 1.1s\n",
            "734:\tlearn: 3.2999740\ttotal: 3.04s\tremaining: 1.1s\n",
            "735:\tlearn: 3.2983534\ttotal: 3.05s\tremaining: 1.09s\n",
            "736:\tlearn: 3.2969270\ttotal: 3.06s\tremaining: 1.09s\n",
            "737:\tlearn: 3.2943652\ttotal: 3.06s\tremaining: 1.09s\n",
            "738:\tlearn: 3.2930808\ttotal: 3.06s\tremaining: 1.08s\n",
            "739:\tlearn: 3.2915619\ttotal: 3.07s\tremaining: 1.08s\n",
            "740:\tlearn: 3.2895799\ttotal: 3.07s\tremaining: 1.07s\n",
            "741:\tlearn: 3.2874141\ttotal: 3.08s\tremaining: 1.07s\n",
            "742:\tlearn: 3.2851193\ttotal: 3.08s\tremaining: 1.07s\n",
            "743:\tlearn: 3.2834459\ttotal: 3.09s\tremaining: 1.06s\n",
            "744:\tlearn: 3.2813107\ttotal: 3.09s\tremaining: 1.06s\n",
            "745:\tlearn: 3.2787539\ttotal: 3.09s\tremaining: 1.05s\n",
            "746:\tlearn: 3.2770439\ttotal: 3.1s\tremaining: 1.05s\n",
            "747:\tlearn: 3.2754119\ttotal: 3.1s\tremaining: 1.04s\n",
            "748:\tlearn: 3.2737119\ttotal: 3.11s\tremaining: 1.04s\n",
            "749:\tlearn: 3.2724209\ttotal: 3.11s\tremaining: 1.04s\n",
            "750:\tlearn: 3.2696774\ttotal: 3.12s\tremaining: 1.03s\n",
            "751:\tlearn: 3.2683818\ttotal: 3.12s\tremaining: 1.03s\n",
            "752:\tlearn: 3.2663236\ttotal: 3.12s\tremaining: 1.02s\n",
            "753:\tlearn: 3.2638856\ttotal: 3.13s\tremaining: 1.02s\n",
            "754:\tlearn: 3.2611989\ttotal: 3.13s\tremaining: 1.01s\n",
            "755:\tlearn: 3.2594629\ttotal: 3.13s\tremaining: 1.01s\n",
            "756:\tlearn: 3.2577610\ttotal: 3.14s\tremaining: 1.01s\n",
            "757:\tlearn: 3.2560497\ttotal: 3.14s\tremaining: 1s\n",
            "758:\tlearn: 3.2544695\ttotal: 3.14s\tremaining: 998ms\n",
            "759:\tlearn: 3.2523823\ttotal: 3.15s\tremaining: 993ms\n",
            "760:\tlearn: 3.2512164\ttotal: 3.15s\tremaining: 989ms\n",
            "761:\tlearn: 3.2485326\ttotal: 3.15s\tremaining: 985ms\n",
            "762:\tlearn: 3.2474012\ttotal: 3.15s\tremaining: 980ms\n",
            "763:\tlearn: 3.2459162\ttotal: 3.16s\tremaining: 976ms\n",
            "764:\tlearn: 3.2444884\ttotal: 3.17s\tremaining: 973ms\n",
            "765:\tlearn: 3.2431067\ttotal: 3.17s\tremaining: 969ms\n",
            "766:\tlearn: 3.2405018\ttotal: 3.17s\tremaining: 964ms\n",
            "767:\tlearn: 3.2389373\ttotal: 3.18s\tremaining: 960ms\n",
            "768:\tlearn: 3.2371075\ttotal: 3.18s\tremaining: 955ms\n",
            "769:\tlearn: 3.2345522\ttotal: 3.18s\tremaining: 951ms\n",
            "770:\tlearn: 3.2331477\ttotal: 3.19s\tremaining: 946ms\n",
            "771:\tlearn: 3.2306605\ttotal: 3.19s\tremaining: 942ms\n",
            "772:\tlearn: 3.2286874\ttotal: 3.19s\tremaining: 938ms\n",
            "773:\tlearn: 3.2277141\ttotal: 3.2s\tremaining: 933ms\n",
            "774:\tlearn: 3.2262219\ttotal: 3.2s\tremaining: 929ms\n",
            "775:\tlearn: 3.2252073\ttotal: 3.2s\tremaining: 924ms\n",
            "776:\tlearn: 3.2230481\ttotal: 3.21s\tremaining: 920ms\n",
            "777:\tlearn: 3.2217087\ttotal: 3.21s\tremaining: 916ms\n",
            "778:\tlearn: 3.2204518\ttotal: 3.21s\tremaining: 911ms\n",
            "779:\tlearn: 3.2194721\ttotal: 3.21s\tremaining: 907ms\n",
            "780:\tlearn: 3.2179610\ttotal: 3.22s\tremaining: 903ms\n",
            "781:\tlearn: 3.2157024\ttotal: 3.22s\tremaining: 898ms\n",
            "782:\tlearn: 3.2146456\ttotal: 3.23s\tremaining: 894ms\n",
            "783:\tlearn: 3.2139547\ttotal: 3.23s\tremaining: 889ms\n",
            "784:\tlearn: 3.2123117\ttotal: 3.23s\tremaining: 885ms\n",
            "785:\tlearn: 3.2112331\ttotal: 3.23s\tremaining: 881ms\n",
            "786:\tlearn: 3.2100320\ttotal: 3.24s\tremaining: 876ms\n",
            "787:\tlearn: 3.2082776\ttotal: 3.24s\tremaining: 872ms\n",
            "788:\tlearn: 3.2071196\ttotal: 3.24s\tremaining: 868ms\n",
            "789:\tlearn: 3.2051444\ttotal: 3.25s\tremaining: 863ms\n",
            "790:\tlearn: 3.2038113\ttotal: 3.25s\tremaining: 859ms\n",
            "791:\tlearn: 3.2020398\ttotal: 3.25s\tremaining: 854ms\n",
            "792:\tlearn: 3.2001477\ttotal: 3.26s\tremaining: 850ms\n",
            "793:\tlearn: 3.1988651\ttotal: 3.26s\tremaining: 846ms\n",
            "794:\tlearn: 3.1983710\ttotal: 3.26s\tremaining: 841ms\n",
            "795:\tlearn: 3.1967522\ttotal: 3.27s\tremaining: 837ms\n",
            "796:\tlearn: 3.1956679\ttotal: 3.27s\tremaining: 834ms\n",
            "797:\tlearn: 3.1937727\ttotal: 3.28s\tremaining: 830ms\n",
            "798:\tlearn: 3.1927331\ttotal: 3.28s\tremaining: 826ms\n",
            "799:\tlearn: 3.1904480\ttotal: 3.28s\tremaining: 821ms\n",
            "800:\tlearn: 3.1889501\ttotal: 3.29s\tremaining: 817ms\n",
            "801:\tlearn: 3.1876178\ttotal: 3.29s\tremaining: 813ms\n",
            "802:\tlearn: 3.1857316\ttotal: 3.29s\tremaining: 808ms\n",
            "803:\tlearn: 3.1827765\ttotal: 3.3s\tremaining: 804ms\n",
            "804:\tlearn: 3.1808899\ttotal: 3.31s\tremaining: 801ms\n",
            "805:\tlearn: 3.1793978\ttotal: 3.31s\tremaining: 797ms\n",
            "806:\tlearn: 3.1780424\ttotal: 3.31s\tremaining: 792ms\n",
            "807:\tlearn: 3.1763165\ttotal: 3.32s\tremaining: 788ms\n",
            "808:\tlearn: 3.1746015\ttotal: 3.32s\tremaining: 784ms\n",
            "809:\tlearn: 3.1730738\ttotal: 3.32s\tremaining: 779ms\n",
            "810:\tlearn: 3.1708361\ttotal: 3.33s\tremaining: 775ms\n",
            "811:\tlearn: 3.1685232\ttotal: 3.33s\tremaining: 771ms\n",
            "812:\tlearn: 3.1674692\ttotal: 3.33s\tremaining: 766ms\n",
            "813:\tlearn: 3.1664432\ttotal: 3.33s\tremaining: 762ms\n",
            "814:\tlearn: 3.1657058\ttotal: 3.34s\tremaining: 758ms\n",
            "815:\tlearn: 3.1647464\ttotal: 3.34s\tremaining: 753ms\n",
            "816:\tlearn: 3.1639385\ttotal: 3.34s\tremaining: 749ms\n",
            "817:\tlearn: 3.1629453\ttotal: 3.35s\tremaining: 745ms\n",
            "818:\tlearn: 3.1615558\ttotal: 3.35s\tremaining: 741ms\n",
            "819:\tlearn: 3.1604647\ttotal: 3.35s\tremaining: 736ms\n",
            "820:\tlearn: 3.1569391\ttotal: 3.36s\tremaining: 732ms\n",
            "821:\tlearn: 3.1552920\ttotal: 3.36s\tremaining: 728ms\n",
            "822:\tlearn: 3.1546887\ttotal: 3.36s\tremaining: 724ms\n",
            "823:\tlearn: 3.1520486\ttotal: 3.37s\tremaining: 720ms\n",
            "824:\tlearn: 3.1509758\ttotal: 3.38s\tremaining: 716ms\n",
            "825:\tlearn: 3.1493699\ttotal: 3.38s\tremaining: 712ms\n",
            "826:\tlearn: 3.1469581\ttotal: 3.38s\tremaining: 708ms\n",
            "827:\tlearn: 3.1460509\ttotal: 3.39s\tremaining: 704ms\n",
            "828:\tlearn: 3.1440454\ttotal: 3.39s\tremaining: 699ms\n",
            "829:\tlearn: 3.1421445\ttotal: 3.39s\tremaining: 695ms\n",
            "830:\tlearn: 3.1401704\ttotal: 3.4s\tremaining: 691ms\n",
            "831:\tlearn: 3.1376902\ttotal: 3.4s\tremaining: 687ms\n",
            "832:\tlearn: 3.1365645\ttotal: 3.4s\tremaining: 682ms\n",
            "833:\tlearn: 3.1341020\ttotal: 3.41s\tremaining: 678ms\n",
            "834:\tlearn: 3.1330512\ttotal: 3.41s\tremaining: 674ms\n",
            "835:\tlearn: 3.1321040\ttotal: 3.41s\tremaining: 670ms\n",
            "836:\tlearn: 3.1298800\ttotal: 3.42s\tremaining: 665ms\n",
            "837:\tlearn: 3.1282075\ttotal: 3.42s\tremaining: 661ms\n",
            "838:\tlearn: 3.1271506\ttotal: 3.42s\tremaining: 657ms\n",
            "839:\tlearn: 3.1252072\ttotal: 3.42s\tremaining: 652ms\n",
            "840:\tlearn: 3.1232479\ttotal: 3.43s\tremaining: 648ms\n",
            "841:\tlearn: 3.1215593\ttotal: 3.43s\tremaining: 644ms\n",
            "842:\tlearn: 3.1204634\ttotal: 3.43s\tremaining: 640ms\n",
            "843:\tlearn: 3.1188220\ttotal: 3.44s\tremaining: 635ms\n",
            "844:\tlearn: 3.1181149\ttotal: 3.44s\tremaining: 631ms\n",
            "845:\tlearn: 3.1163729\ttotal: 3.44s\tremaining: 627ms\n",
            "846:\tlearn: 3.1156236\ttotal: 3.45s\tremaining: 623ms\n",
            "847:\tlearn: 3.1133528\ttotal: 3.46s\tremaining: 620ms\n",
            "848:\tlearn: 3.1111721\ttotal: 3.47s\tremaining: 617ms\n",
            "849:\tlearn: 3.1099706\ttotal: 3.48s\tremaining: 613ms\n",
            "850:\tlearn: 3.1081641\ttotal: 3.49s\tremaining: 611ms\n",
            "851:\tlearn: 3.1062603\ttotal: 3.5s\tremaining: 607ms\n",
            "852:\tlearn: 3.1047131\ttotal: 3.5s\tremaining: 604ms\n",
            "853:\tlearn: 3.1024699\ttotal: 3.51s\tremaining: 601ms\n",
            "854:\tlearn: 3.1016062\ttotal: 3.52s\tremaining: 597ms\n",
            "855:\tlearn: 3.1010738\ttotal: 3.52s\tremaining: 593ms\n",
            "856:\tlearn: 3.0995697\ttotal: 3.53s\tremaining: 589ms\n",
            "857:\tlearn: 3.0986627\ttotal: 3.53s\tremaining: 585ms\n",
            "858:\tlearn: 3.0976494\ttotal: 3.54s\tremaining: 580ms\n",
            "859:\tlearn: 3.0958120\ttotal: 3.54s\tremaining: 576ms\n",
            "860:\tlearn: 3.0949609\ttotal: 3.54s\tremaining: 572ms\n",
            "861:\tlearn: 3.0936622\ttotal: 3.56s\tremaining: 570ms\n",
            "862:\tlearn: 3.0926437\ttotal: 3.56s\tremaining: 566ms\n",
            "863:\tlearn: 3.0902687\ttotal: 3.57s\tremaining: 562ms\n",
            "864:\tlearn: 3.0886627\ttotal: 3.57s\tremaining: 558ms\n",
            "865:\tlearn: 3.0871223\ttotal: 3.58s\tremaining: 553ms\n",
            "866:\tlearn: 3.0854339\ttotal: 3.58s\tremaining: 549ms\n",
            "867:\tlearn: 3.0837926\ttotal: 3.58s\tremaining: 545ms\n",
            "868:\tlearn: 3.0827136\ttotal: 3.59s\tremaining: 541ms\n",
            "869:\tlearn: 3.0806763\ttotal: 3.6s\tremaining: 538ms\n",
            "870:\tlearn: 3.0786565\ttotal: 3.6s\tremaining: 534ms\n",
            "871:\tlearn: 3.0773406\ttotal: 3.61s\tremaining: 530ms\n",
            "872:\tlearn: 3.0764851\ttotal: 3.61s\tremaining: 526ms\n",
            "873:\tlearn: 3.0747260\ttotal: 3.62s\tremaining: 522ms\n",
            "874:\tlearn: 3.0727998\ttotal: 3.63s\tremaining: 518ms\n",
            "875:\tlearn: 3.0720469\ttotal: 3.63s\tremaining: 514ms\n",
            "876:\tlearn: 3.0698451\ttotal: 3.63s\tremaining: 510ms\n",
            "877:\tlearn: 3.0686468\ttotal: 3.65s\tremaining: 507ms\n",
            "878:\tlearn: 3.0677529\ttotal: 3.66s\tremaining: 504ms\n",
            "879:\tlearn: 3.0660022\ttotal: 3.66s\tremaining: 499ms\n",
            "880:\tlearn: 3.0638753\ttotal: 3.67s\tremaining: 496ms\n",
            "881:\tlearn: 3.0618491\ttotal: 3.69s\tremaining: 493ms\n",
            "882:\tlearn: 3.0600365\ttotal: 3.69s\tremaining: 490ms\n",
            "883:\tlearn: 3.0581042\ttotal: 3.7s\tremaining: 486ms\n",
            "884:\tlearn: 3.0561293\ttotal: 3.71s\tremaining: 483ms\n",
            "885:\tlearn: 3.0540573\ttotal: 3.73s\tremaining: 479ms\n",
            "886:\tlearn: 3.0531331\ttotal: 3.74s\tremaining: 476ms\n",
            "887:\tlearn: 3.0515925\ttotal: 3.75s\tremaining: 473ms\n",
            "888:\tlearn: 3.0496240\ttotal: 3.76s\tremaining: 469ms\n",
            "889:\tlearn: 3.0482936\ttotal: 3.77s\tremaining: 466ms\n",
            "890:\tlearn: 3.0464532\ttotal: 3.78s\tremaining: 462ms\n",
            "891:\tlearn: 3.0447778\ttotal: 3.79s\tremaining: 459ms\n",
            "892:\tlearn: 3.0433657\ttotal: 3.81s\tremaining: 456ms\n",
            "893:\tlearn: 3.0427782\ttotal: 3.81s\tremaining: 452ms\n",
            "894:\tlearn: 3.0414234\ttotal: 3.82s\tremaining: 448ms\n",
            "895:\tlearn: 3.0405071\ttotal: 3.82s\tremaining: 444ms\n",
            "896:\tlearn: 3.0387156\ttotal: 3.83s\tremaining: 440ms\n",
            "897:\tlearn: 3.0346778\ttotal: 3.83s\tremaining: 436ms\n",
            "898:\tlearn: 3.0324810\ttotal: 3.85s\tremaining: 432ms\n",
            "899:\tlearn: 3.0311587\ttotal: 3.85s\tremaining: 428ms\n",
            "900:\tlearn: 3.0296087\ttotal: 3.87s\tremaining: 425ms\n",
            "901:\tlearn: 3.0285060\ttotal: 3.88s\tremaining: 421ms\n",
            "902:\tlearn: 3.0273641\ttotal: 3.89s\tremaining: 418ms\n",
            "903:\tlearn: 3.0256818\ttotal: 3.9s\tremaining: 414ms\n",
            "904:\tlearn: 3.0249589\ttotal: 3.9s\tremaining: 409ms\n",
            "905:\tlearn: 3.0230252\ttotal: 3.9s\tremaining: 405ms\n",
            "906:\tlearn: 3.0214351\ttotal: 3.91s\tremaining: 401ms\n",
            "907:\tlearn: 3.0192383\ttotal: 3.91s\tremaining: 396ms\n",
            "908:\tlearn: 3.0170673\ttotal: 3.92s\tremaining: 392ms\n",
            "909:\tlearn: 3.0160977\ttotal: 3.92s\tremaining: 388ms\n",
            "910:\tlearn: 3.0140491\ttotal: 3.93s\tremaining: 384ms\n",
            "911:\tlearn: 3.0124993\ttotal: 3.94s\tremaining: 381ms\n",
            "912:\tlearn: 3.0112890\ttotal: 3.95s\tremaining: 377ms\n",
            "913:\tlearn: 3.0101323\ttotal: 3.96s\tremaining: 373ms\n",
            "914:\tlearn: 3.0095074\ttotal: 3.97s\tremaining: 369ms\n",
            "915:\tlearn: 3.0072887\ttotal: 3.98s\tremaining: 365ms\n",
            "916:\tlearn: 3.0059930\ttotal: 3.99s\tremaining: 361ms\n",
            "917:\tlearn: 3.0028200\ttotal: 4s\tremaining: 358ms\n",
            "918:\tlearn: 3.0015983\ttotal: 4.01s\tremaining: 353ms\n",
            "919:\tlearn: 3.0002468\ttotal: 4.02s\tremaining: 349ms\n",
            "920:\tlearn: 2.9991239\ttotal: 4.03s\tremaining: 346ms\n",
            "921:\tlearn: 2.9982449\ttotal: 4.04s\tremaining: 342ms\n",
            "922:\tlearn: 2.9975489\ttotal: 4.05s\tremaining: 338ms\n",
            "923:\tlearn: 2.9962026\ttotal: 4.07s\tremaining: 334ms\n",
            "924:\tlearn: 2.9948647\ttotal: 4.08s\tremaining: 331ms\n",
            "925:\tlearn: 2.9940461\ttotal: 4.1s\tremaining: 327ms\n",
            "926:\tlearn: 2.9918001\ttotal: 4.1s\tremaining: 323ms\n",
            "927:\tlearn: 2.9908762\ttotal: 4.1s\tremaining: 318ms\n",
            "928:\tlearn: 2.9897309\ttotal: 4.11s\tremaining: 314ms\n",
            "929:\tlearn: 2.9880786\ttotal: 4.11s\tremaining: 310ms\n",
            "930:\tlearn: 2.9872758\ttotal: 4.12s\tremaining: 305ms\n",
            "931:\tlearn: 2.9858067\ttotal: 4.12s\tremaining: 301ms\n",
            "932:\tlearn: 2.9845857\ttotal: 4.13s\tremaining: 296ms\n",
            "933:\tlearn: 2.9830064\ttotal: 4.13s\tremaining: 292ms\n",
            "934:\tlearn: 2.9815489\ttotal: 4.14s\tremaining: 288ms\n",
            "935:\tlearn: 2.9804898\ttotal: 4.14s\tremaining: 283ms\n",
            "936:\tlearn: 2.9797530\ttotal: 4.14s\tremaining: 279ms\n",
            "937:\tlearn: 2.9781702\ttotal: 4.15s\tremaining: 274ms\n",
            "938:\tlearn: 2.9762822\ttotal: 4.17s\tremaining: 271ms\n",
            "939:\tlearn: 2.9752903\ttotal: 4.17s\tremaining: 266ms\n",
            "940:\tlearn: 2.9735528\ttotal: 4.19s\tremaining: 263ms\n",
            "941:\tlearn: 2.9723362\ttotal: 4.2s\tremaining: 259ms\n",
            "942:\tlearn: 2.9706736\ttotal: 4.24s\tremaining: 256ms\n",
            "943:\tlearn: 2.9684788\ttotal: 4.25s\tremaining: 252ms\n",
            "944:\tlearn: 2.9677662\ttotal: 4.26s\tremaining: 248ms\n",
            "945:\tlearn: 2.9666749\ttotal: 4.27s\tremaining: 244ms\n",
            "946:\tlearn: 2.9644814\ttotal: 4.28s\tremaining: 239ms\n",
            "947:\tlearn: 2.9631095\ttotal: 4.28s\tremaining: 235ms\n",
            "948:\tlearn: 2.9616863\ttotal: 4.29s\tremaining: 231ms\n",
            "949:\tlearn: 2.9597733\ttotal: 4.31s\tremaining: 227ms\n",
            "950:\tlearn: 2.9586707\ttotal: 4.32s\tremaining: 223ms\n",
            "951:\tlearn: 2.9576284\ttotal: 4.33s\tremaining: 219ms\n",
            "952:\tlearn: 2.9561027\ttotal: 4.34s\tremaining: 214ms\n",
            "953:\tlearn: 2.9550029\ttotal: 4.35s\tremaining: 210ms\n",
            "954:\tlearn: 2.9538796\ttotal: 4.36s\tremaining: 206ms\n",
            "955:\tlearn: 2.9527760\ttotal: 4.37s\tremaining: 201ms\n",
            "956:\tlearn: 2.9515553\ttotal: 4.38s\tremaining: 197ms\n",
            "957:\tlearn: 2.9500383\ttotal: 4.39s\tremaining: 193ms\n",
            "958:\tlearn: 2.9490874\ttotal: 4.4s\tremaining: 188ms\n",
            "959:\tlearn: 2.9472901\ttotal: 4.41s\tremaining: 184ms\n",
            "960:\tlearn: 2.9460978\ttotal: 4.42s\tremaining: 180ms\n",
            "961:\tlearn: 2.9448316\ttotal: 4.44s\tremaining: 175ms\n",
            "962:\tlearn: 2.9430288\ttotal: 4.45s\tremaining: 171ms\n",
            "963:\tlearn: 2.9410363\ttotal: 4.46s\tremaining: 167ms\n",
            "964:\tlearn: 2.9391506\ttotal: 4.47s\tremaining: 162ms\n",
            "965:\tlearn: 2.9378183\ttotal: 4.48s\tremaining: 158ms\n",
            "966:\tlearn: 2.9370600\ttotal: 4.5s\tremaining: 153ms\n",
            "967:\tlearn: 2.9355322\ttotal: 4.5s\tremaining: 149ms\n",
            "968:\tlearn: 2.9346650\ttotal: 4.51s\tremaining: 144ms\n",
            "969:\tlearn: 2.9336235\ttotal: 4.52s\tremaining: 140ms\n",
            "970:\tlearn: 2.9318138\ttotal: 4.54s\tremaining: 136ms\n",
            "971:\tlearn: 2.9311577\ttotal: 4.55s\tremaining: 131ms\n",
            "972:\tlearn: 2.9304907\ttotal: 4.55s\tremaining: 126ms\n",
            "973:\tlearn: 2.9293349\ttotal: 4.56s\tremaining: 122ms\n",
            "974:\tlearn: 2.9277712\ttotal: 4.56s\tremaining: 117ms\n",
            "975:\tlearn: 2.9264267\ttotal: 4.57s\tremaining: 112ms\n",
            "976:\tlearn: 2.9254169\ttotal: 4.57s\tremaining: 108ms\n",
            "977:\tlearn: 2.9238693\ttotal: 4.58s\tremaining: 103ms\n",
            "978:\tlearn: 2.9224450\ttotal: 4.58s\tremaining: 98.3ms\n",
            "979:\tlearn: 2.9214530\ttotal: 4.58s\tremaining: 93.6ms\n",
            "980:\tlearn: 2.9202099\ttotal: 4.59s\tremaining: 88.9ms\n",
            "981:\tlearn: 2.9194591\ttotal: 4.59s\tremaining: 84.2ms\n",
            "982:\tlearn: 2.9181663\ttotal: 4.6s\tremaining: 79.5ms\n",
            "983:\tlearn: 2.9166766\ttotal: 4.6s\tremaining: 74.8ms\n",
            "984:\tlearn: 2.9156880\ttotal: 4.6s\tremaining: 70.1ms\n",
            "985:\tlearn: 2.9146459\ttotal: 4.61s\tremaining: 65.5ms\n",
            "986:\tlearn: 2.9135263\ttotal: 4.62s\tremaining: 60.8ms\n",
            "987:\tlearn: 2.9124675\ttotal: 4.62s\tremaining: 56.1ms\n",
            "988:\tlearn: 2.9096411\ttotal: 4.63s\tremaining: 51.5ms\n",
            "989:\tlearn: 2.9085829\ttotal: 4.64s\tremaining: 46.8ms\n",
            "990:\tlearn: 2.9069152\ttotal: 4.64s\tremaining: 42.1ms\n",
            "991:\tlearn: 2.9055409\ttotal: 4.65s\tremaining: 37.5ms\n",
            "992:\tlearn: 2.9036465\ttotal: 4.65s\tremaining: 32.8ms\n",
            "993:\tlearn: 2.9021832\ttotal: 4.66s\tremaining: 28.1ms\n",
            "994:\tlearn: 2.9009772\ttotal: 4.66s\tremaining: 23.4ms\n",
            "995:\tlearn: 2.9002303\ttotal: 4.67s\tremaining: 18.7ms\n",
            "996:\tlearn: 2.8984155\ttotal: 4.67s\tremaining: 14.1ms\n",
            "997:\tlearn: 2.8975942\ttotal: 4.67s\tremaining: 9.37ms\n",
            "998:\tlearn: 2.8970764\ttotal: 4.68s\tremaining: 4.68ms\n",
            "999:\tlearn: 2.8958557\ttotal: 4.68s\tremaining: 0us\n"
          ]
        },
        {
          "output_type": "execute_result",
          "data": {
            "text/plain": [
              "<catboost.core.CatBoostRegressor at 0x7f96bd1c0f90>"
            ]
          },
          "metadata": {},
          "execution_count": 52
        }
      ],
      "source": [
        "catbm = CatBoostRegressor(n_estimators=1000)\n",
        "catbm.fit(X_train, y_train)"
      ]
    },
    {
      "cell_type": "code",
      "execution_count": null,
      "metadata": {
        "id": "ozL-oA2lahyn",
        "colab": {
          "base_uri": "https://localhost:8080/"
        },
        "outputId": "eb13acca-7941-4283-fde0-6a1d29432913"
      },
      "outputs": [
        {
          "output_type": "stream",
          "name": "stdout",
          "text": [
            "   Mean squared error: 17.921\n",
            "       Relative error: 5.22525%\n",
            "R-squared coefficient: 0.9516\n"
          ]
        }
      ],
      "source": [
        "print_eval(X_val, y_val, catbm)"
      ]
    },
    {
      "cell_type": "markdown",
      "metadata": {
        "id": "OdrvBkUl8e9s"
      },
      "source": [
        "Quest'ultimo albero di regressione ottiene i risultati migliori, con un **MSE** di circa 18, un **errore relativo** del 5% e un coefficiente **R-squared** pari a 0.95."
      ]
    },
    {
      "cell_type": "markdown",
      "metadata": {
        "id": "LwsTKA2HU9jH"
      },
      "source": [
        "##Valutazione dei modelli di regressione"
      ]
    },
    {
      "cell_type": "markdown",
      "metadata": {
        "id": "rxdn5bqv9vra"
      },
      "source": [
        "###Nested Cross-Fold Validation"
      ]
    },
    {
      "cell_type": "markdown",
      "metadata": {
        "id": "EneGbjJLkdtQ"
      },
      "source": [
        "Di seguito viene implementata una funzione per effettuare la **Nested Cross-Fold Validation** sui modelli precedentemente addestrati, per vedere come si comportano con diverse suddivisioni del dataset ed esaminare lo **score** nelle varie casistiche."
      ]
    },
    {
      "cell_type": "code",
      "execution_count": null,
      "metadata": {
        "id": "LzOeClZii4Xf"
      },
      "outputs": [],
      "source": [
        "outer_cv = KFold(3, shuffle=True, random_state=40)\n",
        "inner_cv = KFold(5, shuffle=True, random_state=40)"
      ]
    },
    {
      "cell_type": "code",
      "execution_count": null,
      "metadata": {
        "id": "KeotDuTOVJeA"
      },
      "outputs": [],
      "source": [
        "def nested_cv(model, grid):\n",
        "    results = []\n",
        "    for train_indices, val_indices in outer_cv.split(X, y):\n",
        "        X_train, y_train = X.iloc[train_indices], y.iloc[train_indices]\n",
        "        X_val, y_val = X.iloc[val_indices], y.iloc[val_indices]\n",
        "        gs = GridSearchCV(model, grid, cv=inner_cv)\n",
        "        gs.fit(X_train, y_train)\n",
        "        score = gs.score(X_val, y_val)\n",
        "        results.append(score)\n",
        "    return results"
      ]
    },
    {
      "cell_type": "markdown",
      "metadata": {
        "id": "kQWy1Y449Cil"
      },
      "source": [
        "Per la validazione utilizziamo **3 fold** esterni e **5 fold** interni."
      ]
    },
    {
      "cell_type": "code",
      "execution_count": null,
      "metadata": {
        "id": "p7C4OE7HVKS2",
        "colab": {
          "base_uri": "https://localhost:8080/"
        },
        "outputId": "a4c32c5b-010d-42bb-82d8-5ca5e4679163"
      },
      "outputs": [
        {
          "output_type": "stream",
          "name": "stdout",
          "text": [
            "[0.9186486840487234, 0.8661616614676358, 0.9134615078294053]\n"
          ]
        }
      ],
      "source": [
        "print(nested_cv(polyModel, polyGrid))"
      ]
    },
    {
      "cell_type": "code",
      "execution_count": null,
      "metadata": {
        "id": "K165TNkKW9VS",
        "colab": {
          "base_uri": "https://localhost:8080/"
        },
        "outputId": "b82612e7-2da0-4f6c-ce98-20202f7844f3"
      },
      "outputs": [
        {
          "output_type": "stream",
          "name": "stdout",
          "text": [
            "[0.9194465194972621, 0.9144414866680655, 0.911642521015922]\n"
          ]
        }
      ],
      "source": [
        "print(nested_cv(modelRidge, ridgeGrid))"
      ]
    },
    {
      "cell_type": "code",
      "execution_count": null,
      "metadata": {
        "id": "NG0m-JwBXKRH"
      },
      "outputs": [],
      "source": [
        "#print(nested_cv(modelKernel, kernelGrid)) impiega più di 3 minuti"
      ]
    },
    {
      "cell_type": "markdown",
      "metadata": {
        "id": "Z33VvWS6e5_-"
      },
      "source": [
        "La Nested Cross Fold Validation applicata al modello Kernel Ridge (in questo caso di studio) ha tempi di esecuzione abbastanza elevati (è possibile verificarlo eseguendo l'istruzione nella cella antecedente)."
      ]
    },
    {
      "cell_type": "markdown",
      "metadata": {
        "id": "A4OEBcl51hMY"
      },
      "source": [
        "**Kernel Ridge** risulta comunque il modello più accurato rispetto alla **Regressione non Lineare** e alla **Regressione Lasso**. Presenta però problematiche nella gestione di questo dataset, dovute al numero elevato di istanze. Anche con il tuning degli iperparametri non riesce però a eguagliare **CatBoost** e **LightGBM**."
      ]
    },
    {
      "cell_type": "markdown",
      "metadata": {
        "id": "O17c3kjq91YR"
      },
      "source": [
        "###Test finale sul dataset"
      ]
    },
    {
      "cell_type": "markdown",
      "metadata": {
        "id": "MSc_bn1g99FV"
      },
      "source": [
        "Durante l'addestramento dei modelli di regressione è stato utilizzato un campione dei dati per poter rendere più gestibili i tempi di esecuzione delle Grid Search. \n",
        "\n",
        "Di seguito viene effettuato un **test finale** su tutto il dataset utilizzando i **tre migliori modelli** selezionati tra i sei presi in considerazione, in base ai migliori coefficienti di errore e ai risultati della Nested Cross-Fold Validation."
      ]
    },
    {
      "cell_type": "markdown",
      "metadata": {
        "id": "LuRDBPapfPaH"
      },
      "source": [
        "\n",
        "\n",
        "*   CatBoost\n",
        "*   Light BGM\n",
        "*   Kernel Ridge (non regge il dataset)\n",
        "*   Ridge\n",
        "\n",
        "\n",
        "\n"
      ]
    },
    {
      "cell_type": "markdown",
      "metadata": {
        "id": "mlNKzbvn-skG"
      },
      "source": [
        "Vengono perciò ridefinite le variabili di **training** e **validation** set facendo riferimento all'intero datatset."
      ]
    },
    {
      "cell_type": "code",
      "execution_count": null,
      "metadata": {
        "id": "BqrMcG2gfoLS"
      },
      "outputs": [],
      "source": [
        "y = data[\"pm\"]\n",
        "X = data.drop(columns=\"pm\")\n",
        "X_train, X_val, y_train, y_val = train_test_split(X, y, test_size=1/3, random_state=42)"
      ]
    },
    {
      "cell_type": "code",
      "execution_count": null,
      "metadata": {
        "colab": {
          "base_uri": "https://localhost:8080/"
        },
        "id": "0TQQTjsPfuwu",
        "outputId": "36224a18-e96c-4396-b11d-6acf07cfae62"
      },
      "outputs": [
        {
          "output_type": "stream",
          "name": "stdout",
          "text": [
            "Learning rate set to 0.119665\n",
            "0:\tlearn: 17.3012675\ttotal: 403ms\tremaining: 6m 43s\n",
            "1:\tlearn: 15.8541070\ttotal: 748ms\tremaining: 6m 13s\n",
            "2:\tlearn: 14.5997481\ttotal: 1.03s\tremaining: 5m 43s\n",
            "3:\tlearn: 13.4874724\ttotal: 1.27s\tremaining: 5m 17s\n",
            "4:\tlearn: 12.5384589\ttotal: 1.59s\tremaining: 5m 17s\n",
            "5:\tlearn: 11.7436552\ttotal: 1.8s\tremaining: 4m 58s\n",
            "6:\tlearn: 11.0717156\ttotal: 2.03s\tremaining: 4m 48s\n",
            "7:\tlearn: 10.4895003\ttotal: 2.3s\tremaining: 4m 45s\n",
            "8:\tlearn: 9.9772565\ttotal: 2.51s\tremaining: 4m 36s\n",
            "9:\tlearn: 9.5176426\ttotal: 2.93s\tremaining: 4m 50s\n",
            "10:\tlearn: 9.1245084\ttotal: 3.32s\tremaining: 4m 58s\n",
            "11:\tlearn: 8.7897179\ttotal: 3.64s\tremaining: 4m 59s\n",
            "12:\tlearn: 8.5151141\ttotal: 3.83s\tremaining: 4m 50s\n",
            "13:\tlearn: 8.2646434\ttotal: 4.04s\tremaining: 4m 44s\n",
            "14:\tlearn: 8.0507669\ttotal: 4.33s\tremaining: 4m 44s\n",
            "15:\tlearn: 7.8783389\ttotal: 4.56s\tremaining: 4m 40s\n",
            "16:\tlearn: 7.7196003\ttotal: 4.82s\tremaining: 4m 38s\n",
            "17:\tlearn: 7.5795671\ttotal: 5.09s\tremaining: 4m 37s\n",
            "18:\tlearn: 7.4305125\ttotal: 5.35s\tremaining: 4m 36s\n",
            "19:\tlearn: 7.3275122\ttotal: 5.66s\tremaining: 4m 37s\n",
            "20:\tlearn: 7.2371519\ttotal: 5.9s\tremaining: 4m 35s\n",
            "21:\tlearn: 7.1433298\ttotal: 6.17s\tremaining: 4m 34s\n",
            "22:\tlearn: 7.0589395\ttotal: 6.4s\tremaining: 4m 31s\n",
            "23:\tlearn: 6.9803157\ttotal: 6.64s\tremaining: 4m 29s\n",
            "24:\tlearn: 6.9044351\ttotal: 6.87s\tremaining: 4m 28s\n",
            "25:\tlearn: 6.8495823\ttotal: 7.07s\tremaining: 4m 24s\n",
            "26:\tlearn: 6.7711395\ttotal: 7.29s\tremaining: 4m 22s\n",
            "27:\tlearn: 6.7228398\ttotal: 7.65s\tremaining: 4m 25s\n",
            "28:\tlearn: 6.6693106\ttotal: 7.9s\tremaining: 4m 24s\n",
            "29:\tlearn: 6.6320151\ttotal: 8.12s\tremaining: 4m 22s\n",
            "30:\tlearn: 6.5713917\ttotal: 8.46s\tremaining: 4m 24s\n",
            "31:\tlearn: 6.5304234\ttotal: 8.68s\tremaining: 4m 22s\n",
            "32:\tlearn: 6.4665134\ttotal: 8.89s\tremaining: 4m 20s\n",
            "33:\tlearn: 6.4269045\ttotal: 9.14s\tremaining: 4m 19s\n",
            "34:\tlearn: 6.3824956\ttotal: 9.44s\tremaining: 4m 20s\n",
            "35:\tlearn: 6.3542070\ttotal: 9.71s\tremaining: 4m 20s\n",
            "36:\tlearn: 6.3258872\ttotal: 9.97s\tremaining: 4m 19s\n",
            "37:\tlearn: 6.2872245\ttotal: 10.2s\tremaining: 4m 18s\n",
            "38:\tlearn: 6.2518942\ttotal: 10.4s\tremaining: 4m 16s\n",
            "39:\tlearn: 6.2272370\ttotal: 10.6s\tremaining: 4m 15s\n",
            "40:\tlearn: 6.2047747\ttotal: 10.9s\tremaining: 4m 14s\n",
            "41:\tlearn: 6.1637790\ttotal: 11.1s\tremaining: 4m 14s\n",
            "42:\tlearn: 6.1392540\ttotal: 11.3s\tremaining: 4m 12s\n",
            "43:\tlearn: 6.1130477\ttotal: 11.6s\tremaining: 4m 11s\n",
            "44:\tlearn: 6.0865622\ttotal: 11.8s\tremaining: 4m 10s\n",
            "45:\tlearn: 6.0585732\ttotal: 12s\tremaining: 4m 8s\n",
            "46:\tlearn: 6.0342569\ttotal: 12.3s\tremaining: 4m 9s\n",
            "47:\tlearn: 6.0104690\ttotal: 12.5s\tremaining: 4m 7s\n",
            "48:\tlearn: 5.9931134\ttotal: 12.7s\tremaining: 4m 6s\n",
            "49:\tlearn: 5.9722361\ttotal: 12.9s\tremaining: 4m 5s\n",
            "50:\tlearn: 5.9348083\ttotal: 13.2s\tremaining: 4m 5s\n",
            "51:\tlearn: 5.9013894\ttotal: 13.4s\tremaining: 4m 3s\n",
            "52:\tlearn: 5.8769906\ttotal: 13.6s\tremaining: 4m 2s\n",
            "53:\tlearn: 5.8475718\ttotal: 13.8s\tremaining: 4m 1s\n",
            "54:\tlearn: 5.8330547\ttotal: 14s\tremaining: 4m\n",
            "55:\tlearn: 5.8110299\ttotal: 14.2s\tremaining: 3m 59s\n",
            "56:\tlearn: 5.7694151\ttotal: 14.5s\tremaining: 3m 59s\n",
            "57:\tlearn: 5.7555032\ttotal: 14.6s\tremaining: 3m 57s\n",
            "58:\tlearn: 5.7376701\ttotal: 14.7s\tremaining: 3m 55s\n",
            "59:\tlearn: 5.7100919\ttotal: 14.9s\tremaining: 3m 52s\n",
            "60:\tlearn: 5.6976005\ttotal: 15s\tremaining: 3m 50s\n",
            "61:\tlearn: 5.6723894\ttotal: 15.1s\tremaining: 3m 48s\n",
            "62:\tlearn: 5.6574314\ttotal: 15.2s\tremaining: 3m 46s\n",
            "63:\tlearn: 5.6411281\ttotal: 15.3s\tremaining: 3m 43s\n",
            "64:\tlearn: 5.6173286\ttotal: 15.4s\tremaining: 3m 41s\n",
            "65:\tlearn: 5.6055567\ttotal: 15.5s\tremaining: 3m 39s\n",
            "66:\tlearn: 5.5867007\ttotal: 15.7s\tremaining: 3m 38s\n",
            "67:\tlearn: 5.5763560\ttotal: 15.8s\tremaining: 3m 36s\n",
            "68:\tlearn: 5.5479792\ttotal: 15.9s\tremaining: 3m 34s\n",
            "69:\tlearn: 5.5339485\ttotal: 16s\tremaining: 3m 32s\n",
            "70:\tlearn: 5.5230456\ttotal: 16.1s\tremaining: 3m 31s\n",
            "71:\tlearn: 5.4945875\ttotal: 16.3s\tremaining: 3m 29s\n",
            "72:\tlearn: 5.4823501\ttotal: 16.4s\tremaining: 3m 27s\n",
            "73:\tlearn: 5.4676514\ttotal: 16.5s\tremaining: 3m 26s\n",
            "74:\tlearn: 5.4574622\ttotal: 16.6s\tremaining: 3m 24s\n",
            "75:\tlearn: 5.4435990\ttotal: 16.7s\tremaining: 3m 23s\n",
            "76:\tlearn: 5.4241833\ttotal: 16.8s\tremaining: 3m 21s\n",
            "77:\tlearn: 5.4091931\ttotal: 16.9s\tremaining: 3m 20s\n",
            "78:\tlearn: 5.3959649\ttotal: 17.1s\tremaining: 3m 18s\n",
            "79:\tlearn: 5.3739027\ttotal: 17.2s\tremaining: 3m 17s\n",
            "80:\tlearn: 5.3523662\ttotal: 17.3s\tremaining: 3m 16s\n",
            "81:\tlearn: 5.3414320\ttotal: 17.4s\tremaining: 3m 14s\n",
            "82:\tlearn: 5.3192857\ttotal: 17.5s\tremaining: 3m 13s\n",
            "83:\tlearn: 5.3019540\ttotal: 17.6s\tremaining: 3m 12s\n",
            "84:\tlearn: 5.2821339\ttotal: 17.8s\tremaining: 3m 11s\n",
            "85:\tlearn: 5.2714477\ttotal: 17.9s\tremaining: 3m 10s\n",
            "86:\tlearn: 5.2599947\ttotal: 18s\tremaining: 3m 8s\n",
            "87:\tlearn: 5.2450132\ttotal: 18.1s\tremaining: 3m 7s\n",
            "88:\tlearn: 5.2276067\ttotal: 18.2s\tremaining: 3m 6s\n",
            "89:\tlearn: 5.2137489\ttotal: 18.3s\tremaining: 3m 5s\n",
            "90:\tlearn: 5.1989947\ttotal: 18.5s\tremaining: 3m 4s\n",
            "91:\tlearn: 5.1744180\ttotal: 18.6s\tremaining: 3m 3s\n",
            "92:\tlearn: 5.1597075\ttotal: 18.7s\tremaining: 3m 2s\n",
            "93:\tlearn: 5.1480440\ttotal: 18.8s\tremaining: 3m 1s\n",
            "94:\tlearn: 5.1353979\ttotal: 18.9s\tremaining: 3m\n",
            "95:\tlearn: 5.1219328\ttotal: 19s\tremaining: 2m 59s\n",
            "96:\tlearn: 5.1015485\ttotal: 19.2s\tremaining: 2m 58s\n",
            "97:\tlearn: 5.0904425\ttotal: 19.3s\tremaining: 2m 57s\n",
            "98:\tlearn: 5.0751856\ttotal: 19.4s\tremaining: 2m 56s\n",
            "99:\tlearn: 5.0670956\ttotal: 19.5s\tremaining: 2m 55s\n",
            "100:\tlearn: 5.0544198\ttotal: 19.6s\tremaining: 2m 54s\n",
            "101:\tlearn: 5.0415471\ttotal: 19.7s\tremaining: 2m 53s\n",
            "102:\tlearn: 5.0280886\ttotal: 19.9s\tremaining: 2m 53s\n",
            "103:\tlearn: 5.0183644\ttotal: 20s\tremaining: 2m 52s\n",
            "104:\tlearn: 5.0061627\ttotal: 20.1s\tremaining: 2m 51s\n",
            "105:\tlearn: 4.9832346\ttotal: 20.2s\tremaining: 2m 50s\n",
            "106:\tlearn: 4.9711588\ttotal: 20.3s\tremaining: 2m 49s\n",
            "107:\tlearn: 4.9598792\ttotal: 20.4s\tremaining: 2m 48s\n",
            "108:\tlearn: 4.9519690\ttotal: 20.6s\tremaining: 2m 48s\n",
            "109:\tlearn: 4.9381464\ttotal: 20.7s\tremaining: 2m 47s\n",
            "110:\tlearn: 4.9253712\ttotal: 20.8s\tremaining: 2m 46s\n",
            "111:\tlearn: 4.9187338\ttotal: 20.9s\tremaining: 2m 45s\n",
            "112:\tlearn: 4.9084777\ttotal: 21s\tremaining: 2m 45s\n",
            "113:\tlearn: 4.8970454\ttotal: 21.1s\tremaining: 2m 44s\n",
            "114:\tlearn: 4.8871606\ttotal: 21.2s\tremaining: 2m 43s\n",
            "115:\tlearn: 4.8696928\ttotal: 21.4s\tremaining: 2m 42s\n",
            "116:\tlearn: 4.8596686\ttotal: 21.5s\tremaining: 2m 42s\n",
            "117:\tlearn: 4.8512469\ttotal: 21.6s\tremaining: 2m 41s\n",
            "118:\tlearn: 4.8431598\ttotal: 21.7s\tremaining: 2m 40s\n",
            "119:\tlearn: 4.8385295\ttotal: 21.8s\tremaining: 2m 39s\n",
            "120:\tlearn: 4.8273089\ttotal: 21.9s\tremaining: 2m 39s\n",
            "121:\tlearn: 4.8194059\ttotal: 22s\tremaining: 2m 38s\n",
            "122:\tlearn: 4.8097184\ttotal: 22.2s\tremaining: 2m 38s\n",
            "123:\tlearn: 4.7966931\ttotal: 22.3s\tremaining: 2m 37s\n",
            "124:\tlearn: 4.7848617\ttotal: 22.4s\tremaining: 2m 36s\n",
            "125:\tlearn: 4.7767897\ttotal: 22.5s\tremaining: 2m 36s\n",
            "126:\tlearn: 4.7619306\ttotal: 22.6s\tremaining: 2m 35s\n",
            "127:\tlearn: 4.7531087\ttotal: 22.8s\tremaining: 2m 34s\n",
            "128:\tlearn: 4.7442670\ttotal: 22.9s\tremaining: 2m 34s\n",
            "129:\tlearn: 4.7304357\ttotal: 23s\tremaining: 2m 33s\n",
            "130:\tlearn: 4.7199538\ttotal: 23.1s\tremaining: 2m 33s\n",
            "131:\tlearn: 4.7108248\ttotal: 23.2s\tremaining: 2m 32s\n",
            "132:\tlearn: 4.6997080\ttotal: 23.3s\tremaining: 2m 32s\n",
            "133:\tlearn: 4.6921354\ttotal: 23.5s\tremaining: 2m 31s\n",
            "134:\tlearn: 4.6848967\ttotal: 23.6s\tremaining: 2m 31s\n",
            "135:\tlearn: 4.6798879\ttotal: 23.7s\tremaining: 2m 30s\n",
            "136:\tlearn: 4.6716471\ttotal: 23.8s\tremaining: 2m 29s\n",
            "137:\tlearn: 4.6634682\ttotal: 23.9s\tremaining: 2m 29s\n",
            "138:\tlearn: 4.6510928\ttotal: 24s\tremaining: 2m 28s\n",
            "139:\tlearn: 4.6455606\ttotal: 24.1s\tremaining: 2m 28s\n",
            "140:\tlearn: 4.6407224\ttotal: 24.3s\tremaining: 2m 27s\n",
            "141:\tlearn: 4.6336253\ttotal: 24.4s\tremaining: 2m 27s\n",
            "142:\tlearn: 4.6229991\ttotal: 24.5s\tremaining: 2m 26s\n",
            "143:\tlearn: 4.6155106\ttotal: 24.6s\tremaining: 2m 26s\n",
            "144:\tlearn: 4.6099024\ttotal: 24.7s\tremaining: 2m 25s\n",
            "145:\tlearn: 4.5963019\ttotal: 24.8s\tremaining: 2m 25s\n",
            "146:\tlearn: 4.5917037\ttotal: 25s\tremaining: 2m 24s\n",
            "147:\tlearn: 4.5827784\ttotal: 25.1s\tremaining: 2m 24s\n",
            "148:\tlearn: 4.5713833\ttotal: 25.2s\tremaining: 2m 23s\n",
            "149:\tlearn: 4.5643129\ttotal: 25.3s\tremaining: 2m 23s\n",
            "150:\tlearn: 4.5584633\ttotal: 25.4s\tremaining: 2m 22s\n",
            "151:\tlearn: 4.5512563\ttotal: 25.5s\tremaining: 2m 22s\n",
            "152:\tlearn: 4.5423318\ttotal: 25.6s\tremaining: 2m 21s\n",
            "153:\tlearn: 4.5337284\ttotal: 25.8s\tremaining: 2m 21s\n",
            "154:\tlearn: 4.5273510\ttotal: 25.9s\tremaining: 2m 21s\n",
            "155:\tlearn: 4.5204012\ttotal: 26s\tremaining: 2m 20s\n",
            "156:\tlearn: 4.5123956\ttotal: 26.1s\tremaining: 2m 20s\n",
            "157:\tlearn: 4.5051535\ttotal: 26.3s\tremaining: 2m 19s\n",
            "158:\tlearn: 4.4939741\ttotal: 26.4s\tremaining: 2m 19s\n",
            "159:\tlearn: 4.4852314\ttotal: 26.5s\tremaining: 2m 19s\n",
            "160:\tlearn: 4.4783021\ttotal: 26.6s\tremaining: 2m 18s\n",
            "161:\tlearn: 4.4713017\ttotal: 26.7s\tremaining: 2m 18s\n",
            "162:\tlearn: 4.4655635\ttotal: 26.8s\tremaining: 2m 17s\n",
            "163:\tlearn: 4.4613334\ttotal: 26.9s\tremaining: 2m 17s\n",
            "164:\tlearn: 4.4571403\ttotal: 27.1s\tremaining: 2m 16s\n",
            "165:\tlearn: 4.4523451\ttotal: 27.2s\tremaining: 2m 16s\n",
            "166:\tlearn: 4.4439547\ttotal: 27.3s\tremaining: 2m 16s\n",
            "167:\tlearn: 4.4385556\ttotal: 27.4s\tremaining: 2m 15s\n",
            "168:\tlearn: 4.4319464\ttotal: 27.5s\tremaining: 2m 15s\n",
            "169:\tlearn: 4.4282970\ttotal: 27.6s\tremaining: 2m 14s\n",
            "170:\tlearn: 4.4232330\ttotal: 27.7s\tremaining: 2m 14s\n",
            "171:\tlearn: 4.4144722\ttotal: 27.8s\tremaining: 2m 14s\n",
            "172:\tlearn: 4.4068063\ttotal: 28s\tremaining: 2m 13s\n",
            "173:\tlearn: 4.4018733\ttotal: 28.1s\tremaining: 2m 13s\n",
            "174:\tlearn: 4.3951300\ttotal: 28.2s\tremaining: 2m 12s\n",
            "175:\tlearn: 4.3871230\ttotal: 28.3s\tremaining: 2m 12s\n",
            "176:\tlearn: 4.3834977\ttotal: 28.4s\tremaining: 2m 12s\n",
            "177:\tlearn: 4.3759798\ttotal: 28.6s\tremaining: 2m 11s\n",
            "178:\tlearn: 4.3699877\ttotal: 28.7s\tremaining: 2m 11s\n",
            "179:\tlearn: 4.3651550\ttotal: 28.8s\tremaining: 2m 11s\n",
            "180:\tlearn: 4.3590356\ttotal: 28.9s\tremaining: 2m 10s\n",
            "181:\tlearn: 4.3501583\ttotal: 29.1s\tremaining: 2m 10s\n",
            "182:\tlearn: 4.3456432\ttotal: 29.2s\tremaining: 2m 10s\n",
            "183:\tlearn: 4.3378589\ttotal: 29.3s\tremaining: 2m 9s\n",
            "184:\tlearn: 4.3302235\ttotal: 29.4s\tremaining: 2m 9s\n",
            "185:\tlearn: 4.3263543\ttotal: 29.5s\tremaining: 2m 9s\n",
            "186:\tlearn: 4.3222942\ttotal: 29.6s\tremaining: 2m 8s\n",
            "187:\tlearn: 4.3178726\ttotal: 29.7s\tremaining: 2m 8s\n",
            "188:\tlearn: 4.3108288\ttotal: 29.9s\tremaining: 2m 8s\n",
            "189:\tlearn: 4.3030220\ttotal: 30s\tremaining: 2m 7s\n",
            "190:\tlearn: 4.2981337\ttotal: 30.1s\tremaining: 2m 7s\n",
            "191:\tlearn: 4.2908226\ttotal: 30.2s\tremaining: 2m 7s\n",
            "192:\tlearn: 4.2851786\ttotal: 30.3s\tremaining: 2m 6s\n",
            "193:\tlearn: 4.2807449\ttotal: 30.4s\tremaining: 2m 6s\n",
            "194:\tlearn: 4.2753101\ttotal: 30.6s\tremaining: 2m 6s\n",
            "195:\tlearn: 4.2712168\ttotal: 30.7s\tremaining: 2m 5s\n",
            "196:\tlearn: 4.2619799\ttotal: 30.8s\tremaining: 2m 5s\n",
            "197:\tlearn: 4.2572117\ttotal: 30.9s\tremaining: 2m 5s\n",
            "198:\tlearn: 4.2528992\ttotal: 31s\tremaining: 2m 4s\n",
            "199:\tlearn: 4.2467465\ttotal: 31.1s\tremaining: 2m 4s\n",
            "200:\tlearn: 4.2423180\ttotal: 31.3s\tremaining: 2m 4s\n",
            "201:\tlearn: 4.2367939\ttotal: 31.4s\tremaining: 2m 3s\n",
            "202:\tlearn: 4.2301400\ttotal: 31.5s\tremaining: 2m 3s\n",
            "203:\tlearn: 4.2264542\ttotal: 31.6s\tremaining: 2m 3s\n",
            "204:\tlearn: 4.2206965\ttotal: 31.7s\tremaining: 2m 3s\n",
            "205:\tlearn: 4.2163403\ttotal: 31.8s\tremaining: 2m 2s\n",
            "206:\tlearn: 4.2128273\ttotal: 32s\tremaining: 2m 2s\n",
            "207:\tlearn: 4.2058555\ttotal: 32.1s\tremaining: 2m 2s\n",
            "208:\tlearn: 4.2015345\ttotal: 32.2s\tremaining: 2m 1s\n",
            "209:\tlearn: 4.1972795\ttotal: 32.3s\tremaining: 2m 1s\n",
            "210:\tlearn: 4.1919870\ttotal: 32.4s\tremaining: 2m 1s\n",
            "211:\tlearn: 4.1884430\ttotal: 32.6s\tremaining: 2m 1s\n",
            "212:\tlearn: 4.1798408\ttotal: 32.7s\tremaining: 2m\n",
            "213:\tlearn: 4.1755777\ttotal: 32.8s\tremaining: 2m\n",
            "214:\tlearn: 4.1706793\ttotal: 32.9s\tremaining: 2m\n",
            "215:\tlearn: 4.1677005\ttotal: 33s\tremaining: 1m 59s\n",
            "216:\tlearn: 4.1643036\ttotal: 33.1s\tremaining: 1m 59s\n",
            "217:\tlearn: 4.1578649\ttotal: 33.3s\tremaining: 1m 59s\n",
            "218:\tlearn: 4.1552152\ttotal: 33.4s\tremaining: 1m 58s\n",
            "219:\tlearn: 4.1483969\ttotal: 33.5s\tremaining: 1m 58s\n",
            "220:\tlearn: 4.1455085\ttotal: 33.6s\tremaining: 1m 58s\n",
            "221:\tlearn: 4.1387660\ttotal: 33.7s\tremaining: 1m 58s\n",
            "222:\tlearn: 4.1348610\ttotal: 33.8s\tremaining: 1m 57s\n",
            "223:\tlearn: 4.1314074\ttotal: 33.9s\tremaining: 1m 57s\n",
            "224:\tlearn: 4.1270188\ttotal: 34.1s\tremaining: 1m 57s\n",
            "225:\tlearn: 4.1209927\ttotal: 34.2s\tremaining: 1m 57s\n",
            "226:\tlearn: 4.1150684\ttotal: 34.3s\tremaining: 1m 56s\n",
            "227:\tlearn: 4.1111444\ttotal: 34.4s\tremaining: 1m 56s\n",
            "228:\tlearn: 4.1062710\ttotal: 34.5s\tremaining: 1m 56s\n",
            "229:\tlearn: 4.1001825\ttotal: 34.6s\tremaining: 1m 55s\n",
            "230:\tlearn: 4.0961377\ttotal: 34.8s\tremaining: 1m 55s\n",
            "231:\tlearn: 4.0903998\ttotal: 34.9s\tremaining: 1m 55s\n",
            "232:\tlearn: 4.0840042\ttotal: 35s\tremaining: 1m 55s\n",
            "233:\tlearn: 4.0774130\ttotal: 35.1s\tremaining: 1m 54s\n",
            "234:\tlearn: 4.0734547\ttotal: 35.2s\tremaining: 1m 54s\n",
            "235:\tlearn: 4.0690733\ttotal: 35.3s\tremaining: 1m 54s\n",
            "236:\tlearn: 4.0650925\ttotal: 35.5s\tremaining: 1m 54s\n",
            "237:\tlearn: 4.0614847\ttotal: 35.6s\tremaining: 1m 53s\n",
            "238:\tlearn: 4.0560080\ttotal: 35.7s\tremaining: 1m 53s\n",
            "239:\tlearn: 4.0519921\ttotal: 35.8s\tremaining: 1m 53s\n",
            "240:\tlearn: 4.0481975\ttotal: 35.9s\tremaining: 1m 53s\n",
            "241:\tlearn: 4.0432070\ttotal: 36s\tremaining: 1m 52s\n",
            "242:\tlearn: 4.0395362\ttotal: 36.1s\tremaining: 1m 52s\n",
            "243:\tlearn: 4.0357402\ttotal: 36.3s\tremaining: 1m 52s\n",
            "244:\tlearn: 4.0324999\ttotal: 36.4s\tremaining: 1m 52s\n",
            "245:\tlearn: 4.0286580\ttotal: 36.5s\tremaining: 1m 51s\n",
            "246:\tlearn: 4.0239892\ttotal: 36.6s\tremaining: 1m 51s\n",
            "247:\tlearn: 4.0202723\ttotal: 36.7s\tremaining: 1m 51s\n",
            "248:\tlearn: 4.0145690\ttotal: 36.8s\tremaining: 1m 51s\n",
            "249:\tlearn: 4.0099653\ttotal: 37s\tremaining: 1m 50s\n",
            "250:\tlearn: 4.0025355\ttotal: 37.1s\tremaining: 1m 50s\n",
            "251:\tlearn: 3.9986936\ttotal: 37.2s\tremaining: 1m 50s\n",
            "252:\tlearn: 3.9962494\ttotal: 37.3s\tremaining: 1m 50s\n",
            "253:\tlearn: 3.9929379\ttotal: 37.4s\tremaining: 1m 49s\n",
            "254:\tlearn: 3.9889579\ttotal: 37.5s\tremaining: 1m 49s\n",
            "255:\tlearn: 3.9845337\ttotal: 37.6s\tremaining: 1m 49s\n",
            "256:\tlearn: 3.9806518\ttotal: 37.8s\tremaining: 1m 49s\n",
            "257:\tlearn: 3.9771399\ttotal: 37.9s\tremaining: 1m 48s\n",
            "258:\tlearn: 3.9725206\ttotal: 38s\tremaining: 1m 48s\n",
            "259:\tlearn: 3.9697276\ttotal: 38.1s\tremaining: 1m 48s\n",
            "260:\tlearn: 3.9669783\ttotal: 38.2s\tremaining: 1m 48s\n",
            "261:\tlearn: 3.9608356\ttotal: 38.3s\tremaining: 1m 48s\n",
            "262:\tlearn: 3.9563241\ttotal: 38.5s\tremaining: 1m 47s\n",
            "263:\tlearn: 3.9539689\ttotal: 38.6s\tremaining: 1m 47s\n",
            "264:\tlearn: 3.9518406\ttotal: 38.7s\tremaining: 1m 47s\n",
            "265:\tlearn: 3.9478999\ttotal: 38.8s\tremaining: 1m 47s\n",
            "266:\tlearn: 3.9435428\ttotal: 38.9s\tremaining: 1m 46s\n",
            "267:\tlearn: 3.9409270\ttotal: 39s\tremaining: 1m 46s\n",
            "268:\tlearn: 3.9384068\ttotal: 39.1s\tremaining: 1m 46s\n",
            "269:\tlearn: 3.9350679\ttotal: 39.3s\tremaining: 1m 46s\n",
            "270:\tlearn: 3.9318739\ttotal: 39.4s\tremaining: 1m 45s\n",
            "271:\tlearn: 3.9281314\ttotal: 39.5s\tremaining: 1m 45s\n",
            "272:\tlearn: 3.9247055\ttotal: 39.6s\tremaining: 1m 45s\n",
            "273:\tlearn: 3.9213215\ttotal: 39.7s\tremaining: 1m 45s\n",
            "274:\tlearn: 3.9165566\ttotal: 39.8s\tremaining: 1m 44s\n",
            "275:\tlearn: 3.9130329\ttotal: 39.9s\tremaining: 1m 44s\n",
            "276:\tlearn: 3.9099437\ttotal: 40s\tremaining: 1m 44s\n",
            "277:\tlearn: 3.9073499\ttotal: 40.2s\tremaining: 1m 44s\n",
            "278:\tlearn: 3.9028292\ttotal: 40.3s\tremaining: 1m 44s\n",
            "279:\tlearn: 3.8998910\ttotal: 40.4s\tremaining: 1m 43s\n",
            "280:\tlearn: 3.8973619\ttotal: 40.5s\tremaining: 1m 43s\n",
            "281:\tlearn: 3.8940014\ttotal: 40.6s\tremaining: 1m 43s\n",
            "282:\tlearn: 3.8916573\ttotal: 40.7s\tremaining: 1m 43s\n",
            "283:\tlearn: 3.8865519\ttotal: 40.9s\tremaining: 1m 43s\n",
            "284:\tlearn: 3.8828861\ttotal: 41s\tremaining: 1m 42s\n",
            "285:\tlearn: 3.8799681\ttotal: 41.1s\tremaining: 1m 42s\n",
            "286:\tlearn: 3.8753515\ttotal: 41.2s\tremaining: 1m 42s\n",
            "287:\tlearn: 3.8715664\ttotal: 41.3s\tremaining: 1m 42s\n",
            "288:\tlearn: 3.8668427\ttotal: 41.4s\tremaining: 1m 41s\n",
            "289:\tlearn: 3.8646323\ttotal: 41.5s\tremaining: 1m 41s\n",
            "290:\tlearn: 3.8609379\ttotal: 41.7s\tremaining: 1m 41s\n",
            "291:\tlearn: 3.8566153\ttotal: 41.8s\tremaining: 1m 41s\n",
            "292:\tlearn: 3.8535744\ttotal: 41.9s\tremaining: 1m 41s\n",
            "293:\tlearn: 3.8498004\ttotal: 42s\tremaining: 1m 40s\n",
            "294:\tlearn: 3.8450841\ttotal: 42.1s\tremaining: 1m 40s\n",
            "295:\tlearn: 3.8421037\ttotal: 42.2s\tremaining: 1m 40s\n",
            "296:\tlearn: 3.8391236\ttotal: 42.3s\tremaining: 1m 40s\n",
            "297:\tlearn: 3.8345336\ttotal: 42.5s\tremaining: 1m 40s\n",
            "298:\tlearn: 3.8317843\ttotal: 42.6s\tremaining: 1m 39s\n",
            "299:\tlearn: 3.8295966\ttotal: 42.7s\tremaining: 1m 39s\n",
            "300:\tlearn: 3.8264990\ttotal: 42.8s\tremaining: 1m 39s\n",
            "301:\tlearn: 3.8224743\ttotal: 42.9s\tremaining: 1m 39s\n",
            "302:\tlearn: 3.8195289\ttotal: 43s\tremaining: 1m 38s\n",
            "303:\tlearn: 3.8163763\ttotal: 43.1s\tremaining: 1m 38s\n",
            "304:\tlearn: 3.8133494\ttotal: 43.2s\tremaining: 1m 38s\n",
            "305:\tlearn: 3.8092359\ttotal: 43.4s\tremaining: 1m 38s\n",
            "306:\tlearn: 3.8049696\ttotal: 43.5s\tremaining: 1m 38s\n",
            "307:\tlearn: 3.8024123\ttotal: 43.6s\tremaining: 1m 37s\n",
            "308:\tlearn: 3.7994549\ttotal: 43.7s\tremaining: 1m 37s\n",
            "309:\tlearn: 3.7953915\ttotal: 43.8s\tremaining: 1m 37s\n",
            "310:\tlearn: 3.7936824\ttotal: 43.9s\tremaining: 1m 37s\n",
            "311:\tlearn: 3.7909328\ttotal: 44s\tremaining: 1m 37s\n",
            "312:\tlearn: 3.7875825\ttotal: 44.2s\tremaining: 1m 36s\n",
            "313:\tlearn: 3.7840507\ttotal: 44.3s\tremaining: 1m 36s\n",
            "314:\tlearn: 3.7817761\ttotal: 44.4s\tremaining: 1m 36s\n",
            "315:\tlearn: 3.7793279\ttotal: 44.5s\tremaining: 1m 36s\n",
            "316:\tlearn: 3.7748027\ttotal: 44.6s\tremaining: 1m 36s\n",
            "317:\tlearn: 3.7723268\ttotal: 44.8s\tremaining: 1m 35s\n",
            "318:\tlearn: 3.7694709\ttotal: 44.9s\tremaining: 1m 35s\n",
            "319:\tlearn: 3.7658625\ttotal: 45s\tremaining: 1m 35s\n",
            "320:\tlearn: 3.7633426\ttotal: 45.1s\tremaining: 1m 35s\n",
            "321:\tlearn: 3.7600628\ttotal: 45.2s\tremaining: 1m 35s\n",
            "322:\tlearn: 3.7565409\ttotal: 45.4s\tremaining: 1m 35s\n",
            "323:\tlearn: 3.7548298\ttotal: 45.5s\tremaining: 1m 34s\n",
            "324:\tlearn: 3.7510260\ttotal: 45.6s\tremaining: 1m 34s\n",
            "325:\tlearn: 3.7488574\ttotal: 45.7s\tremaining: 1m 34s\n",
            "326:\tlearn: 3.7448750\ttotal: 45.8s\tremaining: 1m 34s\n",
            "327:\tlearn: 3.7426156\ttotal: 45.9s\tremaining: 1m 34s\n",
            "328:\tlearn: 3.7373957\ttotal: 46.1s\tremaining: 1m 33s\n",
            "329:\tlearn: 3.7351191\ttotal: 46.2s\tremaining: 1m 33s\n",
            "330:\tlearn: 3.7332017\ttotal: 46.3s\tremaining: 1m 33s\n",
            "331:\tlearn: 3.7309261\ttotal: 46.4s\tremaining: 1m 33s\n",
            "332:\tlearn: 3.7269961\ttotal: 46.5s\tremaining: 1m 33s\n",
            "333:\tlearn: 3.7253800\ttotal: 46.6s\tremaining: 1m 33s\n",
            "334:\tlearn: 3.7235771\ttotal: 46.8s\tremaining: 1m 32s\n",
            "335:\tlearn: 3.7204051\ttotal: 46.9s\tremaining: 1m 32s\n",
            "336:\tlearn: 3.7154710\ttotal: 47s\tremaining: 1m 32s\n",
            "337:\tlearn: 3.7128228\ttotal: 47.1s\tremaining: 1m 32s\n",
            "338:\tlearn: 3.7108940\ttotal: 47.2s\tremaining: 1m 32s\n",
            "339:\tlearn: 3.7080687\ttotal: 47.4s\tremaining: 1m 31s\n",
            "340:\tlearn: 3.7059349\ttotal: 47.5s\tremaining: 1m 31s\n",
            "341:\tlearn: 3.7034437\ttotal: 47.6s\tremaining: 1m 31s\n",
            "342:\tlearn: 3.7013729\ttotal: 47.7s\tremaining: 1m 31s\n",
            "343:\tlearn: 3.6987974\ttotal: 47.8s\tremaining: 1m 31s\n",
            "344:\tlearn: 3.6969281\ttotal: 47.9s\tremaining: 1m 30s\n",
            "345:\tlearn: 3.6943581\ttotal: 48s\tremaining: 1m 30s\n",
            "346:\tlearn: 3.6919862\ttotal: 48.1s\tremaining: 1m 30s\n",
            "347:\tlearn: 3.6891188\ttotal: 48.3s\tremaining: 1m 30s\n",
            "348:\tlearn: 3.6865769\ttotal: 48.4s\tremaining: 1m 30s\n",
            "349:\tlearn: 3.6836725\ttotal: 48.5s\tremaining: 1m 30s\n",
            "350:\tlearn: 3.6806011\ttotal: 48.6s\tremaining: 1m 29s\n",
            "351:\tlearn: 3.6793258\ttotal: 48.7s\tremaining: 1m 29s\n",
            "352:\tlearn: 3.6764658\ttotal: 48.9s\tremaining: 1m 29s\n",
            "353:\tlearn: 3.6747267\ttotal: 49s\tremaining: 1m 29s\n",
            "354:\tlearn: 3.6725739\ttotal: 49.1s\tremaining: 1m 29s\n",
            "355:\tlearn: 3.6707356\ttotal: 49.2s\tremaining: 1m 29s\n",
            "356:\tlearn: 3.6688764\ttotal: 49.3s\tremaining: 1m 28s\n",
            "357:\tlearn: 3.6665755\ttotal: 49.4s\tremaining: 1m 28s\n",
            "358:\tlearn: 3.6632761\ttotal: 49.6s\tremaining: 1m 28s\n",
            "359:\tlearn: 3.6612581\ttotal: 49.7s\tremaining: 1m 28s\n",
            "360:\tlearn: 3.6561611\ttotal: 49.8s\tremaining: 1m 28s\n",
            "361:\tlearn: 3.6518460\ttotal: 49.9s\tremaining: 1m 27s\n",
            "362:\tlearn: 3.6493992\ttotal: 50s\tremaining: 1m 27s\n",
            "363:\tlearn: 3.6476540\ttotal: 50.1s\tremaining: 1m 27s\n",
            "364:\tlearn: 3.6459031\ttotal: 50.2s\tremaining: 1m 27s\n",
            "365:\tlearn: 3.6432169\ttotal: 50.4s\tremaining: 1m 27s\n",
            "366:\tlearn: 3.6411613\ttotal: 50.5s\tremaining: 1m 27s\n",
            "367:\tlearn: 3.6374089\ttotal: 50.6s\tremaining: 1m 26s\n",
            "368:\tlearn: 3.6318959\ttotal: 50.7s\tremaining: 1m 26s\n",
            "369:\tlearn: 3.6287728\ttotal: 50.8s\tremaining: 1m 26s\n",
            "370:\tlearn: 3.6259230\ttotal: 50.9s\tremaining: 1m 26s\n",
            "371:\tlearn: 3.6241712\ttotal: 51s\tremaining: 1m 26s\n",
            "372:\tlearn: 3.6215365\ttotal: 51.2s\tremaining: 1m 25s\n",
            "373:\tlearn: 3.6202198\ttotal: 51.3s\tremaining: 1m 25s\n",
            "374:\tlearn: 3.6178405\ttotal: 51.4s\tremaining: 1m 25s\n",
            "375:\tlearn: 3.6153850\ttotal: 51.5s\tremaining: 1m 25s\n",
            "376:\tlearn: 3.6125780\ttotal: 51.6s\tremaining: 1m 25s\n",
            "377:\tlearn: 3.6097301\ttotal: 51.7s\tremaining: 1m 25s\n",
            "378:\tlearn: 3.6060113\ttotal: 51.9s\tremaining: 1m 24s\n",
            "379:\tlearn: 3.6031834\ttotal: 52s\tremaining: 1m 24s\n",
            "380:\tlearn: 3.6012316\ttotal: 52.1s\tremaining: 1m 24s\n",
            "381:\tlearn: 3.5983981\ttotal: 52.2s\tremaining: 1m 24s\n",
            "382:\tlearn: 3.5971309\ttotal: 52.3s\tremaining: 1m 24s\n",
            "383:\tlearn: 3.5951237\ttotal: 52.4s\tremaining: 1m 24s\n",
            "384:\tlearn: 3.5931367\ttotal: 52.5s\tremaining: 1m 23s\n",
            "385:\tlearn: 3.5912506\ttotal: 52.6s\tremaining: 1m 23s\n",
            "386:\tlearn: 3.5885750\ttotal: 52.8s\tremaining: 1m 23s\n",
            "387:\tlearn: 3.5863109\ttotal: 52.9s\tremaining: 1m 23s\n",
            "388:\tlearn: 3.5836598\ttotal: 53s\tremaining: 1m 23s\n",
            "389:\tlearn: 3.5808566\ttotal: 53.1s\tremaining: 1m 23s\n",
            "390:\tlearn: 3.5784313\ttotal: 53.2s\tremaining: 1m 22s\n",
            "391:\tlearn: 3.5754099\ttotal: 53.3s\tremaining: 1m 22s\n",
            "392:\tlearn: 3.5726835\ttotal: 53.5s\tremaining: 1m 22s\n",
            "393:\tlearn: 3.5694804\ttotal: 53.6s\tremaining: 1m 22s\n",
            "394:\tlearn: 3.5681030\ttotal: 53.7s\tremaining: 1m 22s\n",
            "395:\tlearn: 3.5663644\ttotal: 53.8s\tremaining: 1m 22s\n",
            "396:\tlearn: 3.5649843\ttotal: 53.9s\tremaining: 1m 21s\n",
            "397:\tlearn: 3.5617161\ttotal: 54s\tremaining: 1m 21s\n",
            "398:\tlearn: 3.5577465\ttotal: 54.1s\tremaining: 1m 21s\n",
            "399:\tlearn: 3.5534774\ttotal: 54.3s\tremaining: 1m 21s\n",
            "400:\tlearn: 3.5513449\ttotal: 54.4s\tremaining: 1m 21s\n",
            "401:\tlearn: 3.5483593\ttotal: 54.5s\tremaining: 1m 21s\n",
            "402:\tlearn: 3.5459314\ttotal: 54.6s\tremaining: 1m 20s\n",
            "403:\tlearn: 3.5438825\ttotal: 54.7s\tremaining: 1m 20s\n",
            "404:\tlearn: 3.5413432\ttotal: 54.9s\tremaining: 1m 20s\n",
            "405:\tlearn: 3.5400003\ttotal: 55s\tremaining: 1m 20s\n",
            "406:\tlearn: 3.5354407\ttotal: 55.1s\tremaining: 1m 20s\n",
            "407:\tlearn: 3.5332667\ttotal: 55.2s\tremaining: 1m 20s\n",
            "408:\tlearn: 3.5322316\ttotal: 55.3s\tremaining: 1m 19s\n",
            "409:\tlearn: 3.5288263\ttotal: 55.4s\tremaining: 1m 19s\n",
            "410:\tlearn: 3.5267444\ttotal: 55.5s\tremaining: 1m 19s\n",
            "411:\tlearn: 3.5242036\ttotal: 55.7s\tremaining: 1m 19s\n",
            "412:\tlearn: 3.5214473\ttotal: 55.8s\tremaining: 1m 19s\n",
            "413:\tlearn: 3.5179120\ttotal: 55.9s\tremaining: 1m 19s\n",
            "414:\tlearn: 3.5142723\ttotal: 56s\tremaining: 1m 18s\n",
            "415:\tlearn: 3.5124666\ttotal: 56.1s\tremaining: 1m 18s\n",
            "416:\tlearn: 3.5092675\ttotal: 56.2s\tremaining: 1m 18s\n",
            "417:\tlearn: 3.5081504\ttotal: 56.3s\tremaining: 1m 18s\n",
            "418:\tlearn: 3.5060322\ttotal: 56.5s\tremaining: 1m 18s\n",
            "419:\tlearn: 3.5039094\ttotal: 56.6s\tremaining: 1m 18s\n",
            "420:\tlearn: 3.5010041\ttotal: 56.7s\tremaining: 1m 18s\n",
            "421:\tlearn: 3.4989410\ttotal: 56.8s\tremaining: 1m 17s\n",
            "422:\tlearn: 3.4970394\ttotal: 56.9s\tremaining: 1m 17s\n",
            "423:\tlearn: 3.4937650\ttotal: 57.1s\tremaining: 1m 17s\n",
            "424:\tlearn: 3.4924152\ttotal: 57.2s\tremaining: 1m 17s\n",
            "425:\tlearn: 3.4902983\ttotal: 57.3s\tremaining: 1m 17s\n",
            "426:\tlearn: 3.4876018\ttotal: 57.4s\tremaining: 1m 17s\n",
            "427:\tlearn: 3.4836070\ttotal: 57.5s\tremaining: 1m 16s\n",
            "428:\tlearn: 3.4768159\ttotal: 57.7s\tremaining: 1m 16s\n",
            "429:\tlearn: 3.4730949\ttotal: 57.8s\tremaining: 1m 16s\n",
            "430:\tlearn: 3.4714346\ttotal: 57.9s\tremaining: 1m 16s\n",
            "431:\tlearn: 3.4687047\ttotal: 58s\tremaining: 1m 16s\n",
            "432:\tlearn: 3.4658188\ttotal: 58.1s\tremaining: 1m 16s\n",
            "433:\tlearn: 3.4634724\ttotal: 58.3s\tremaining: 1m 15s\n",
            "434:\tlearn: 3.4614791\ttotal: 58.4s\tremaining: 1m 15s\n",
            "435:\tlearn: 3.4593832\ttotal: 58.5s\tremaining: 1m 15s\n",
            "436:\tlearn: 3.4571607\ttotal: 58.6s\tremaining: 1m 15s\n",
            "437:\tlearn: 3.4551684\ttotal: 58.7s\tremaining: 1m 15s\n",
            "438:\tlearn: 3.4528431\ttotal: 58.9s\tremaining: 1m 15s\n",
            "439:\tlearn: 3.4500368\ttotal: 59s\tremaining: 1m 15s\n",
            "440:\tlearn: 3.4476093\ttotal: 59.1s\tremaining: 1m 14s\n",
            "441:\tlearn: 3.4449846\ttotal: 59.2s\tremaining: 1m 14s\n",
            "442:\tlearn: 3.4424083\ttotal: 59.3s\tremaining: 1m 14s\n",
            "443:\tlearn: 3.4400655\ttotal: 59.4s\tremaining: 1m 14s\n",
            "444:\tlearn: 3.4376556\ttotal: 59.6s\tremaining: 1m 14s\n",
            "445:\tlearn: 3.4350721\ttotal: 59.7s\tremaining: 1m 14s\n",
            "446:\tlearn: 3.4340428\ttotal: 59.8s\tremaining: 1m 13s\n",
            "447:\tlearn: 3.4314247\ttotal: 59.9s\tremaining: 1m 13s\n",
            "448:\tlearn: 3.4300999\ttotal: 1m\tremaining: 1m 13s\n",
            "449:\tlearn: 3.4285026\ttotal: 1m\tremaining: 1m 13s\n",
            "450:\tlearn: 3.4269373\ttotal: 1m\tremaining: 1m 13s\n",
            "451:\tlearn: 3.4249433\ttotal: 1m\tremaining: 1m 13s\n",
            "452:\tlearn: 3.4230694\ttotal: 1m\tremaining: 1m 13s\n",
            "453:\tlearn: 3.4206526\ttotal: 1m\tremaining: 1m 12s\n",
            "454:\tlearn: 3.4182123\ttotal: 1m\tremaining: 1m 12s\n",
            "455:\tlearn: 3.4162059\ttotal: 1m\tremaining: 1m 12s\n",
            "456:\tlearn: 3.4134483\ttotal: 1m\tremaining: 1m 12s\n",
            "457:\tlearn: 3.4122676\ttotal: 1m 1s\tremaining: 1m 12s\n",
            "458:\tlearn: 3.4099081\ttotal: 1m 1s\tremaining: 1m 12s\n",
            "459:\tlearn: 3.4071468\ttotal: 1m 1s\tremaining: 1m 11s\n",
            "460:\tlearn: 3.4054888\ttotal: 1m 1s\tremaining: 1m 11s\n",
            "461:\tlearn: 3.4039093\ttotal: 1m 1s\tremaining: 1m 11s\n",
            "462:\tlearn: 3.4025558\ttotal: 1m 1s\tremaining: 1m 11s\n",
            "463:\tlearn: 3.4007999\ttotal: 1m 1s\tremaining: 1m 11s\n",
            "464:\tlearn: 3.3989707\ttotal: 1m 1s\tremaining: 1m 11s\n",
            "465:\tlearn: 3.3970906\ttotal: 1m 2s\tremaining: 1m 11s\n",
            "466:\tlearn: 3.3958472\ttotal: 1m 2s\tremaining: 1m 10s\n",
            "467:\tlearn: 3.3939947\ttotal: 1m 2s\tremaining: 1m 10s\n",
            "468:\tlearn: 3.3918232\ttotal: 1m 2s\tremaining: 1m 10s\n",
            "469:\tlearn: 3.3903113\ttotal: 1m 2s\tremaining: 1m 10s\n",
            "470:\tlearn: 3.3884826\ttotal: 1m 2s\tremaining: 1m 10s\n",
            "471:\tlearn: 3.3870230\ttotal: 1m 2s\tremaining: 1m 10s\n",
            "472:\tlearn: 3.3856251\ttotal: 1m 2s\tremaining: 1m 9s\n",
            "473:\tlearn: 3.3835179\ttotal: 1m 2s\tremaining: 1m 9s\n",
            "474:\tlearn: 3.3802235\ttotal: 1m 3s\tremaining: 1m 9s\n",
            "475:\tlearn: 3.3781610\ttotal: 1m 3s\tremaining: 1m 9s\n",
            "476:\tlearn: 3.3769015\ttotal: 1m 3s\tremaining: 1m 9s\n",
            "477:\tlearn: 3.3745656\ttotal: 1m 3s\tremaining: 1m 9s\n",
            "478:\tlearn: 3.3729742\ttotal: 1m 3s\tremaining: 1m 9s\n",
            "479:\tlearn: 3.3707399\ttotal: 1m 3s\tremaining: 1m 8s\n",
            "480:\tlearn: 3.3682663\ttotal: 1m 3s\tremaining: 1m 8s\n",
            "481:\tlearn: 3.3666839\ttotal: 1m 3s\tremaining: 1m 8s\n",
            "482:\tlearn: 3.3645692\ttotal: 1m 3s\tremaining: 1m 8s\n",
            "483:\tlearn: 3.3634350\ttotal: 1m 4s\tremaining: 1m 8s\n",
            "484:\tlearn: 3.3611726\ttotal: 1m 4s\tremaining: 1m 8s\n",
            "485:\tlearn: 3.3588796\ttotal: 1m 4s\tremaining: 1m 8s\n",
            "486:\tlearn: 3.3577430\ttotal: 1m 4s\tremaining: 1m 7s\n",
            "487:\tlearn: 3.3560148\ttotal: 1m 4s\tremaining: 1m 7s\n",
            "488:\tlearn: 3.3533590\ttotal: 1m 4s\tremaining: 1m 7s\n",
            "489:\tlearn: 3.3517046\ttotal: 1m 4s\tremaining: 1m 7s\n",
            "490:\tlearn: 3.3496469\ttotal: 1m 4s\tremaining: 1m 7s\n",
            "491:\tlearn: 3.3476725\ttotal: 1m 5s\tremaining: 1m 7s\n",
            "492:\tlearn: 3.3461874\ttotal: 1m 5s\tremaining: 1m 6s\n",
            "493:\tlearn: 3.3446764\ttotal: 1m 5s\tremaining: 1m 6s\n",
            "494:\tlearn: 3.3425621\ttotal: 1m 5s\tremaining: 1m 6s\n",
            "495:\tlearn: 3.3414973\ttotal: 1m 5s\tremaining: 1m 6s\n",
            "496:\tlearn: 3.3404818\ttotal: 1m 5s\tremaining: 1m 6s\n",
            "497:\tlearn: 3.3381932\ttotal: 1m 5s\tremaining: 1m 6s\n",
            "498:\tlearn: 3.3363615\ttotal: 1m 5s\tremaining: 1m 6s\n",
            "499:\tlearn: 3.3333932\ttotal: 1m 5s\tremaining: 1m 5s\n",
            "500:\tlearn: 3.3316676\ttotal: 1m 6s\tremaining: 1m 5s\n",
            "501:\tlearn: 3.3299894\ttotal: 1m 6s\tremaining: 1m 5s\n",
            "502:\tlearn: 3.3271881\ttotal: 1m 6s\tremaining: 1m 5s\n",
            "503:\tlearn: 3.3257303\ttotal: 1m 6s\tremaining: 1m 5s\n",
            "504:\tlearn: 3.3233941\ttotal: 1m 6s\tremaining: 1m 5s\n",
            "505:\tlearn: 3.3220972\ttotal: 1m 6s\tremaining: 1m 5s\n",
            "506:\tlearn: 3.3196937\ttotal: 1m 6s\tremaining: 1m 4s\n",
            "507:\tlearn: 3.3177245\ttotal: 1m 6s\tremaining: 1m 4s\n",
            "508:\tlearn: 3.3156023\ttotal: 1m 7s\tremaining: 1m 4s\n",
            "509:\tlearn: 3.3129005\ttotal: 1m 7s\tremaining: 1m 4s\n",
            "510:\tlearn: 3.3119933\ttotal: 1m 7s\tremaining: 1m 4s\n",
            "511:\tlearn: 3.3082492\ttotal: 1m 7s\tremaining: 1m 4s\n",
            "512:\tlearn: 3.3034954\ttotal: 1m 7s\tremaining: 1m 4s\n",
            "513:\tlearn: 3.3020565\ttotal: 1m 7s\tremaining: 1m 3s\n",
            "514:\tlearn: 3.3001649\ttotal: 1m 7s\tremaining: 1m 3s\n",
            "515:\tlearn: 3.2985233\ttotal: 1m 7s\tremaining: 1m 3s\n",
            "516:\tlearn: 3.2973724\ttotal: 1m 7s\tremaining: 1m 3s\n",
            "517:\tlearn: 3.2958210\ttotal: 1m 8s\tremaining: 1m 3s\n",
            "518:\tlearn: 3.2938865\ttotal: 1m 8s\tremaining: 1m 3s\n",
            "519:\tlearn: 3.2923385\ttotal: 1m 8s\tremaining: 1m 3s\n",
            "520:\tlearn: 3.2911927\ttotal: 1m 8s\tremaining: 1m 2s\n",
            "521:\tlearn: 3.2897479\ttotal: 1m 8s\tremaining: 1m 2s\n",
            "522:\tlearn: 3.2889033\ttotal: 1m 8s\tremaining: 1m 2s\n",
            "523:\tlearn: 3.2870123\ttotal: 1m 8s\tremaining: 1m 2s\n",
            "524:\tlearn: 3.2858816\ttotal: 1m 8s\tremaining: 1m 2s\n",
            "525:\tlearn: 3.2847698\ttotal: 1m 8s\tremaining: 1m 2s\n",
            "526:\tlearn: 3.2836119\ttotal: 1m 9s\tremaining: 1m 2s\n",
            "527:\tlearn: 3.2817995\ttotal: 1m 9s\tremaining: 1m 1s\n",
            "528:\tlearn: 3.2802666\ttotal: 1m 9s\tremaining: 1m 1s\n",
            "529:\tlearn: 3.2791319\ttotal: 1m 9s\tremaining: 1m 1s\n",
            "530:\tlearn: 3.2774739\ttotal: 1m 9s\tremaining: 1m 1s\n",
            "531:\tlearn: 3.2761402\ttotal: 1m 9s\tremaining: 1m 1s\n",
            "532:\tlearn: 3.2736078\ttotal: 1m 9s\tremaining: 1m 1s\n",
            "533:\tlearn: 3.2713114\ttotal: 1m 9s\tremaining: 1m 1s\n",
            "534:\tlearn: 3.2692131\ttotal: 1m 10s\tremaining: 1m\n",
            "535:\tlearn: 3.2687029\ttotal: 1m 10s\tremaining: 1m\n",
            "536:\tlearn: 3.2673579\ttotal: 1m 10s\tremaining: 1m\n",
            "537:\tlearn: 3.2659678\ttotal: 1m 10s\tremaining: 1m\n",
            "538:\tlearn: 3.2646813\ttotal: 1m 10s\tremaining: 1m\n",
            "539:\tlearn: 3.2639176\ttotal: 1m 10s\tremaining: 1m\n",
            "540:\tlearn: 3.2617824\ttotal: 1m 10s\tremaining: 1m\n",
            "541:\tlearn: 3.2604789\ttotal: 1m 10s\tremaining: 59.9s\n",
            "542:\tlearn: 3.2585542\ttotal: 1m 10s\tremaining: 59.7s\n",
            "543:\tlearn: 3.2567089\ttotal: 1m 11s\tremaining: 59.6s\n",
            "544:\tlearn: 3.2558408\ttotal: 1m 11s\tremaining: 59.4s\n",
            "545:\tlearn: 3.2538810\ttotal: 1m 11s\tremaining: 59.3s\n",
            "546:\tlearn: 3.2524383\ttotal: 1m 11s\tremaining: 59.2s\n",
            "547:\tlearn: 3.2498380\ttotal: 1m 11s\tremaining: 59s\n",
            "548:\tlearn: 3.2483709\ttotal: 1m 11s\tremaining: 58.9s\n",
            "549:\tlearn: 3.2465243\ttotal: 1m 11s\tremaining: 58.8s\n",
            "550:\tlearn: 3.2453033\ttotal: 1m 11s\tremaining: 58.6s\n",
            "551:\tlearn: 3.2438059\ttotal: 1m 12s\tremaining: 58.5s\n",
            "552:\tlearn: 3.2421551\ttotal: 1m 12s\tremaining: 58.3s\n",
            "553:\tlearn: 3.2412388\ttotal: 1m 12s\tremaining: 58.2s\n",
            "554:\tlearn: 3.2401367\ttotal: 1m 12s\tremaining: 58s\n",
            "555:\tlearn: 3.2394640\ttotal: 1m 12s\tremaining: 57.9s\n",
            "556:\tlearn: 3.2382211\ttotal: 1m 12s\tremaining: 57.7s\n",
            "557:\tlearn: 3.2370300\ttotal: 1m 12s\tremaining: 57.6s\n",
            "558:\tlearn: 3.2330528\ttotal: 1m 12s\tremaining: 57.5s\n",
            "559:\tlearn: 3.2312372\ttotal: 1m 12s\tremaining: 57.3s\n",
            "560:\tlearn: 3.2292879\ttotal: 1m 13s\tremaining: 57.2s\n",
            "561:\tlearn: 3.2283221\ttotal: 1m 13s\tremaining: 57.1s\n",
            "562:\tlearn: 3.2263949\ttotal: 1m 13s\tremaining: 56.9s\n",
            "563:\tlearn: 3.2253267\ttotal: 1m 13s\tremaining: 56.8s\n",
            "564:\tlearn: 3.2225724\ttotal: 1m 13s\tremaining: 56.6s\n",
            "565:\tlearn: 3.2203699\ttotal: 1m 13s\tremaining: 56.5s\n",
            "566:\tlearn: 3.2185488\ttotal: 1m 13s\tremaining: 56.4s\n",
            "567:\tlearn: 3.2165252\ttotal: 1m 13s\tremaining: 56.2s\n",
            "568:\tlearn: 3.2133422\ttotal: 1m 14s\tremaining: 56.1s\n",
            "569:\tlearn: 3.2109597\ttotal: 1m 14s\tremaining: 55.9s\n",
            "570:\tlearn: 3.2100125\ttotal: 1m 14s\tremaining: 55.8s\n",
            "571:\tlearn: 3.2086179\ttotal: 1m 14s\tremaining: 55.7s\n",
            "572:\tlearn: 3.2069881\ttotal: 1m 14s\tremaining: 55.5s\n",
            "573:\tlearn: 3.2053873\ttotal: 1m 14s\tremaining: 55.4s\n",
            "574:\tlearn: 3.2033102\ttotal: 1m 14s\tremaining: 55.2s\n",
            "575:\tlearn: 3.2018142\ttotal: 1m 14s\tremaining: 55.1s\n",
            "576:\tlearn: 3.2001733\ttotal: 1m 14s\tremaining: 55s\n",
            "577:\tlearn: 3.1981197\ttotal: 1m 15s\tremaining: 54.8s\n",
            "578:\tlearn: 3.1971380\ttotal: 1m 15s\tremaining: 54.7s\n",
            "579:\tlearn: 3.1957991\ttotal: 1m 15s\tremaining: 54.6s\n",
            "580:\tlearn: 3.1943866\ttotal: 1m 15s\tremaining: 54.4s\n",
            "581:\tlearn: 3.1935944\ttotal: 1m 15s\tremaining: 54.3s\n",
            "582:\tlearn: 3.1922612\ttotal: 1m 15s\tremaining: 54.1s\n",
            "583:\tlearn: 3.1893759\ttotal: 1m 15s\tremaining: 54s\n",
            "584:\tlearn: 3.1877701\ttotal: 1m 15s\tremaining: 53.9s\n",
            "585:\tlearn: 3.1866357\ttotal: 1m 16s\tremaining: 53.7s\n",
            "586:\tlearn: 3.1859492\ttotal: 1m 16s\tremaining: 53.6s\n",
            "587:\tlearn: 3.1850536\ttotal: 1m 16s\tremaining: 53.4s\n",
            "588:\tlearn: 3.1841500\ttotal: 1m 16s\tremaining: 53.3s\n",
            "589:\tlearn: 3.1815885\ttotal: 1m 16s\tremaining: 53.1s\n",
            "590:\tlearn: 3.1803755\ttotal: 1m 16s\tremaining: 53s\n",
            "591:\tlearn: 3.1792107\ttotal: 1m 16s\tremaining: 52.9s\n",
            "592:\tlearn: 3.1779062\ttotal: 1m 16s\tremaining: 52.7s\n",
            "593:\tlearn: 3.1759293\ttotal: 1m 16s\tremaining: 52.6s\n",
            "594:\tlearn: 3.1749279\ttotal: 1m 17s\tremaining: 52.5s\n",
            "595:\tlearn: 3.1723272\ttotal: 1m 17s\tremaining: 52.3s\n",
            "596:\tlearn: 3.1713922\ttotal: 1m 17s\tremaining: 52.2s\n",
            "597:\tlearn: 3.1698045\ttotal: 1m 17s\tremaining: 52.1s\n",
            "598:\tlearn: 3.1676350\ttotal: 1m 17s\tremaining: 51.9s\n",
            "599:\tlearn: 3.1655985\ttotal: 1m 17s\tremaining: 51.8s\n",
            "600:\tlearn: 3.1643670\ttotal: 1m 17s\tremaining: 51.7s\n",
            "601:\tlearn: 3.1633635\ttotal: 1m 17s\tremaining: 51.5s\n",
            "602:\tlearn: 3.1625500\ttotal: 1m 18s\tremaining: 51.4s\n",
            "603:\tlearn: 3.1615569\ttotal: 1m 18s\tremaining: 51.2s\n",
            "604:\tlearn: 3.1604545\ttotal: 1m 18s\tremaining: 51.1s\n",
            "605:\tlearn: 3.1595880\ttotal: 1m 18s\tremaining: 51s\n",
            "606:\tlearn: 3.1580563\ttotal: 1m 18s\tremaining: 50.8s\n",
            "607:\tlearn: 3.1572486\ttotal: 1m 18s\tremaining: 50.7s\n",
            "608:\tlearn: 3.1530524\ttotal: 1m 18s\tremaining: 50.5s\n",
            "609:\tlearn: 3.1519705\ttotal: 1m 18s\tremaining: 50.4s\n",
            "610:\tlearn: 3.1502257\ttotal: 1m 18s\tremaining: 50.3s\n",
            "611:\tlearn: 3.1493970\ttotal: 1m 19s\tremaining: 50.1s\n",
            "612:\tlearn: 3.1464729\ttotal: 1m 19s\tremaining: 50s\n",
            "613:\tlearn: 3.1455957\ttotal: 1m 19s\tremaining: 49.9s\n",
            "614:\tlearn: 3.1436662\ttotal: 1m 19s\tremaining: 49.7s\n",
            "615:\tlearn: 3.1422808\ttotal: 1m 19s\tremaining: 49.6s\n",
            "616:\tlearn: 3.1413760\ttotal: 1m 19s\tremaining: 49.4s\n",
            "617:\tlearn: 3.1383389\ttotal: 1m 19s\tremaining: 49.3s\n",
            "618:\tlearn: 3.1376857\ttotal: 1m 19s\tremaining: 49.2s\n",
            "619:\tlearn: 3.1360195\ttotal: 1m 20s\tremaining: 49s\n",
            "620:\tlearn: 3.1342947\ttotal: 1m 20s\tremaining: 48.9s\n",
            "621:\tlearn: 3.1336444\ttotal: 1m 20s\tremaining: 48.8s\n",
            "622:\tlearn: 3.1321460\ttotal: 1m 20s\tremaining: 48.6s\n",
            "623:\tlearn: 3.1312306\ttotal: 1m 20s\tremaining: 48.5s\n",
            "624:\tlearn: 3.1301549\ttotal: 1m 20s\tremaining: 48.4s\n",
            "625:\tlearn: 3.1288511\ttotal: 1m 20s\tremaining: 48.2s\n",
            "626:\tlearn: 3.1271240\ttotal: 1m 20s\tremaining: 48.1s\n",
            "627:\tlearn: 3.1257688\ttotal: 1m 20s\tremaining: 48s\n",
            "628:\tlearn: 3.1247090\ttotal: 1m 21s\tremaining: 47.8s\n",
            "629:\tlearn: 3.1232041\ttotal: 1m 21s\tremaining: 47.7s\n",
            "630:\tlearn: 3.1222885\ttotal: 1m 21s\tremaining: 47.6s\n",
            "631:\tlearn: 3.1210727\ttotal: 1m 21s\tremaining: 47.4s\n",
            "632:\tlearn: 3.1196008\ttotal: 1m 21s\tremaining: 47.3s\n",
            "633:\tlearn: 3.1161691\ttotal: 1m 21s\tremaining: 47.2s\n",
            "634:\tlearn: 3.1152608\ttotal: 1m 21s\tremaining: 47s\n",
            "635:\tlearn: 3.1131540\ttotal: 1m 21s\tremaining: 46.9s\n",
            "636:\tlearn: 3.1104305\ttotal: 1m 22s\tremaining: 46.8s\n",
            "637:\tlearn: 3.1091071\ttotal: 1m 22s\tremaining: 46.6s\n",
            "638:\tlearn: 3.1061288\ttotal: 1m 22s\tremaining: 46.5s\n",
            "639:\tlearn: 3.1050642\ttotal: 1m 22s\tremaining: 46.4s\n",
            "640:\tlearn: 3.1039277\ttotal: 1m 22s\tremaining: 46.2s\n",
            "641:\tlearn: 3.1029871\ttotal: 1m 22s\tremaining: 46.1s\n",
            "642:\tlearn: 3.1025406\ttotal: 1m 22s\tremaining: 45.9s\n",
            "643:\tlearn: 3.1013894\ttotal: 1m 22s\tremaining: 45.8s\n",
            "644:\tlearn: 3.1000941\ttotal: 1m 23s\tremaining: 45.7s\n",
            "645:\tlearn: 3.0991979\ttotal: 1m 23s\tremaining: 45.5s\n",
            "646:\tlearn: 3.0975543\ttotal: 1m 23s\tremaining: 45.4s\n",
            "647:\tlearn: 3.0958351\ttotal: 1m 23s\tremaining: 45.3s\n",
            "648:\tlearn: 3.0947521\ttotal: 1m 23s\tremaining: 45.1s\n",
            "649:\tlearn: 3.0936018\ttotal: 1m 23s\tremaining: 45s\n",
            "650:\tlearn: 3.0927461\ttotal: 1m 23s\tremaining: 44.9s\n",
            "651:\tlearn: 3.0910944\ttotal: 1m 23s\tremaining: 44.7s\n",
            "652:\tlearn: 3.0903008\ttotal: 1m 23s\tremaining: 44.6s\n",
            "653:\tlearn: 3.0895355\ttotal: 1m 24s\tremaining: 44.5s\n",
            "654:\tlearn: 3.0885306\ttotal: 1m 24s\tremaining: 44.3s\n",
            "655:\tlearn: 3.0866502\ttotal: 1m 24s\tremaining: 44.2s\n",
            "656:\tlearn: 3.0855355\ttotal: 1m 24s\tremaining: 44.1s\n",
            "657:\tlearn: 3.0845280\ttotal: 1m 24s\tremaining: 43.9s\n",
            "658:\tlearn: 3.0834116\ttotal: 1m 24s\tremaining: 43.8s\n",
            "659:\tlearn: 3.0813627\ttotal: 1m 24s\tremaining: 43.6s\n",
            "660:\tlearn: 3.0804378\ttotal: 1m 24s\tremaining: 43.5s\n",
            "661:\tlearn: 3.0791502\ttotal: 1m 24s\tremaining: 43.4s\n",
            "662:\tlearn: 3.0781766\ttotal: 1m 25s\tremaining: 43.3s\n",
            "663:\tlearn: 3.0773290\ttotal: 1m 25s\tremaining: 43.1s\n",
            "664:\tlearn: 3.0763725\ttotal: 1m 25s\tremaining: 43s\n",
            "665:\tlearn: 3.0749759\ttotal: 1m 25s\tremaining: 42.8s\n",
            "666:\tlearn: 3.0733896\ttotal: 1m 25s\tremaining: 42.7s\n",
            "667:\tlearn: 3.0719397\ttotal: 1m 25s\tremaining: 42.6s\n",
            "668:\tlearn: 3.0693648\ttotal: 1m 25s\tremaining: 42.4s\n",
            "669:\tlearn: 3.0677346\ttotal: 1m 25s\tremaining: 42.3s\n",
            "670:\tlearn: 3.0665809\ttotal: 1m 26s\tremaining: 42.2s\n",
            "671:\tlearn: 3.0655748\ttotal: 1m 26s\tremaining: 42s\n",
            "672:\tlearn: 3.0642936\ttotal: 1m 26s\tremaining: 41.9s\n",
            "673:\tlearn: 3.0632419\ttotal: 1m 26s\tremaining: 41.8s\n",
            "674:\tlearn: 3.0611057\ttotal: 1m 26s\tremaining: 41.6s\n",
            "675:\tlearn: 3.0593271\ttotal: 1m 26s\tremaining: 41.5s\n",
            "676:\tlearn: 3.0580647\ttotal: 1m 26s\tremaining: 41.4s\n",
            "677:\tlearn: 3.0563794\ttotal: 1m 26s\tremaining: 41.2s\n",
            "678:\tlearn: 3.0552713\ttotal: 1m 26s\tremaining: 41.1s\n",
            "679:\tlearn: 3.0545122\ttotal: 1m 27s\tremaining: 41s\n",
            "680:\tlearn: 3.0536260\ttotal: 1m 27s\tremaining: 40.8s\n",
            "681:\tlearn: 3.0525530\ttotal: 1m 27s\tremaining: 40.7s\n",
            "682:\tlearn: 3.0516212\ttotal: 1m 27s\tremaining: 40.6s\n",
            "683:\tlearn: 3.0505372\ttotal: 1m 27s\tremaining: 40.4s\n",
            "684:\tlearn: 3.0497855\ttotal: 1m 27s\tremaining: 40.3s\n",
            "685:\tlearn: 3.0487030\ttotal: 1m 27s\tremaining: 40.2s\n",
            "686:\tlearn: 3.0473671\ttotal: 1m 27s\tremaining: 40s\n",
            "687:\tlearn: 3.0452943\ttotal: 1m 27s\tremaining: 39.9s\n",
            "688:\tlearn: 3.0441744\ttotal: 1m 28s\tremaining: 39.8s\n",
            "689:\tlearn: 3.0428724\ttotal: 1m 28s\tremaining: 39.6s\n",
            "690:\tlearn: 3.0416436\ttotal: 1m 28s\tremaining: 39.5s\n",
            "691:\tlearn: 3.0408512\ttotal: 1m 28s\tremaining: 39.4s\n",
            "692:\tlearn: 3.0395726\ttotal: 1m 28s\tremaining: 39.2s\n",
            "693:\tlearn: 3.0372404\ttotal: 1m 28s\tremaining: 39.1s\n",
            "694:\tlearn: 3.0358750\ttotal: 1m 28s\tremaining: 39s\n",
            "695:\tlearn: 3.0348865\ttotal: 1m 28s\tremaining: 38.8s\n",
            "696:\tlearn: 3.0336802\ttotal: 1m 29s\tremaining: 38.7s\n",
            "697:\tlearn: 3.0329765\ttotal: 1m 29s\tremaining: 38.6s\n",
            "698:\tlearn: 3.0304561\ttotal: 1m 29s\tremaining: 38.4s\n",
            "699:\tlearn: 3.0286885\ttotal: 1m 29s\tremaining: 38.3s\n",
            "700:\tlearn: 3.0270662\ttotal: 1m 29s\tremaining: 38.2s\n",
            "701:\tlearn: 3.0260724\ttotal: 1m 29s\tremaining: 38s\n",
            "702:\tlearn: 3.0251384\ttotal: 1m 29s\tremaining: 37.9s\n",
            "703:\tlearn: 3.0241393\ttotal: 1m 29s\tremaining: 37.8s\n",
            "704:\tlearn: 3.0234813\ttotal: 1m 29s\tremaining: 37.6s\n",
            "705:\tlearn: 3.0220776\ttotal: 1m 30s\tremaining: 37.5s\n",
            "706:\tlearn: 3.0209905\ttotal: 1m 30s\tremaining: 37.4s\n",
            "707:\tlearn: 3.0202193\ttotal: 1m 30s\tremaining: 37.2s\n",
            "708:\tlearn: 3.0192512\ttotal: 1m 30s\tremaining: 37.1s\n",
            "709:\tlearn: 3.0182905\ttotal: 1m 30s\tremaining: 37s\n",
            "710:\tlearn: 3.0176168\ttotal: 1m 30s\tremaining: 36.8s\n",
            "711:\tlearn: 3.0165883\ttotal: 1m 30s\tremaining: 36.7s\n",
            "712:\tlearn: 3.0144897\ttotal: 1m 30s\tremaining: 36.6s\n",
            "713:\tlearn: 3.0124946\ttotal: 1m 30s\tremaining: 36.4s\n",
            "714:\tlearn: 3.0108912\ttotal: 1m 31s\tremaining: 36.3s\n",
            "715:\tlearn: 3.0099301\ttotal: 1m 31s\tremaining: 36.2s\n",
            "716:\tlearn: 3.0079693\ttotal: 1m 31s\tremaining: 36.1s\n",
            "717:\tlearn: 3.0070868\ttotal: 1m 31s\tremaining: 35.9s\n",
            "718:\tlearn: 3.0053297\ttotal: 1m 31s\tremaining: 35.8s\n",
            "719:\tlearn: 3.0042745\ttotal: 1m 31s\tremaining: 35.7s\n",
            "720:\tlearn: 3.0033018\ttotal: 1m 31s\tremaining: 35.5s\n",
            "721:\tlearn: 3.0011936\ttotal: 1m 31s\tremaining: 35.4s\n",
            "722:\tlearn: 3.0005209\ttotal: 1m 32s\tremaining: 35.3s\n",
            "723:\tlearn: 2.9987145\ttotal: 1m 32s\tremaining: 35.1s\n",
            "724:\tlearn: 2.9974184\ttotal: 1m 32s\tremaining: 35s\n",
            "725:\tlearn: 2.9961411\ttotal: 1m 32s\tremaining: 34.9s\n",
            "726:\tlearn: 2.9953648\ttotal: 1m 32s\tremaining: 34.7s\n",
            "727:\tlearn: 2.9944257\ttotal: 1m 32s\tremaining: 34.6s\n",
            "728:\tlearn: 2.9932177\ttotal: 1m 32s\tremaining: 34.5s\n",
            "729:\tlearn: 2.9919182\ttotal: 1m 32s\tremaining: 34.3s\n",
            "730:\tlearn: 2.9902984\ttotal: 1m 32s\tremaining: 34.2s\n",
            "731:\tlearn: 2.9889299\ttotal: 1m 33s\tremaining: 34.1s\n",
            "732:\tlearn: 2.9881537\ttotal: 1m 33s\tremaining: 34s\n",
            "733:\tlearn: 2.9858896\ttotal: 1m 33s\tremaining: 33.8s\n",
            "734:\tlearn: 2.9846677\ttotal: 1m 33s\tremaining: 33.7s\n",
            "735:\tlearn: 2.9834809\ttotal: 1m 33s\tremaining: 33.6s\n",
            "736:\tlearn: 2.9826301\ttotal: 1m 33s\tremaining: 33.4s\n",
            "737:\tlearn: 2.9816229\ttotal: 1m 33s\tremaining: 33.3s\n",
            "738:\tlearn: 2.9808821\ttotal: 1m 33s\tremaining: 33.2s\n",
            "739:\tlearn: 2.9797214\ttotal: 1m 34s\tremaining: 33s\n",
            "740:\tlearn: 2.9788614\ttotal: 1m 34s\tremaining: 32.9s\n",
            "741:\tlearn: 2.9775139\ttotal: 1m 34s\tremaining: 32.8s\n",
            "742:\tlearn: 2.9766321\ttotal: 1m 34s\tremaining: 32.7s\n",
            "743:\tlearn: 2.9743822\ttotal: 1m 34s\tremaining: 32.5s\n",
            "744:\tlearn: 2.9715353\ttotal: 1m 34s\tremaining: 32.4s\n",
            "745:\tlearn: 2.9703376\ttotal: 1m 34s\tremaining: 32.3s\n",
            "746:\tlearn: 2.9687346\ttotal: 1m 34s\tremaining: 32.1s\n",
            "747:\tlearn: 2.9676901\ttotal: 1m 35s\tremaining: 32s\n",
            "748:\tlearn: 2.9667645\ttotal: 1m 35s\tremaining: 31.9s\n",
            "749:\tlearn: 2.9656414\ttotal: 1m 35s\tremaining: 31.8s\n",
            "750:\tlearn: 2.9647552\ttotal: 1m 35s\tremaining: 31.6s\n",
            "751:\tlearn: 2.9639220\ttotal: 1m 35s\tremaining: 31.5s\n",
            "752:\tlearn: 2.9625559\ttotal: 1m 35s\tremaining: 31.4s\n",
            "753:\tlearn: 2.9618426\ttotal: 1m 35s\tremaining: 31.2s\n",
            "754:\tlearn: 2.9609776\ttotal: 1m 35s\tremaining: 31.1s\n",
            "755:\tlearn: 2.9588397\ttotal: 1m 35s\tremaining: 31s\n",
            "756:\tlearn: 2.9550542\ttotal: 1m 36s\tremaining: 30.8s\n",
            "757:\tlearn: 2.9544542\ttotal: 1m 36s\tremaining: 30.7s\n",
            "758:\tlearn: 2.9530114\ttotal: 1m 36s\tremaining: 30.6s\n",
            "759:\tlearn: 2.9514793\ttotal: 1m 36s\tremaining: 30.5s\n",
            "760:\tlearn: 2.9500223\ttotal: 1m 36s\tremaining: 30.3s\n",
            "761:\tlearn: 2.9490079\ttotal: 1m 36s\tremaining: 30.2s\n",
            "762:\tlearn: 2.9475251\ttotal: 1m 36s\tremaining: 30.1s\n",
            "763:\tlearn: 2.9465888\ttotal: 1m 36s\tremaining: 29.9s\n",
            "764:\tlearn: 2.9446246\ttotal: 1m 37s\tremaining: 29.8s\n",
            "765:\tlearn: 2.9426884\ttotal: 1m 37s\tremaining: 29.7s\n",
            "766:\tlearn: 2.9415894\ttotal: 1m 37s\tremaining: 29.6s\n",
            "767:\tlearn: 2.9404064\ttotal: 1m 37s\tremaining: 29.4s\n",
            "768:\tlearn: 2.9388825\ttotal: 1m 37s\tremaining: 29.3s\n",
            "769:\tlearn: 2.9376358\ttotal: 1m 37s\tremaining: 29.2s\n",
            "770:\tlearn: 2.9364926\ttotal: 1m 37s\tremaining: 29.1s\n",
            "771:\tlearn: 2.9351191\ttotal: 1m 37s\tremaining: 28.9s\n",
            "772:\tlearn: 2.9329471\ttotal: 1m 38s\tremaining: 28.8s\n",
            "773:\tlearn: 2.9310097\ttotal: 1m 38s\tremaining: 28.7s\n",
            "774:\tlearn: 2.9299810\ttotal: 1m 38s\tremaining: 28.5s\n",
            "775:\tlearn: 2.9292496\ttotal: 1m 38s\tremaining: 28.4s\n",
            "776:\tlearn: 2.9284208\ttotal: 1m 38s\tremaining: 28.3s\n",
            "777:\tlearn: 2.9272453\ttotal: 1m 38s\tremaining: 28.1s\n",
            "778:\tlearn: 2.9268382\ttotal: 1m 38s\tremaining: 28s\n",
            "779:\tlearn: 2.9254116\ttotal: 1m 38s\tremaining: 27.9s\n",
            "780:\tlearn: 2.9225251\ttotal: 1m 38s\tremaining: 27.8s\n",
            "781:\tlearn: 2.9212155\ttotal: 1m 39s\tremaining: 27.6s\n",
            "782:\tlearn: 2.9195970\ttotal: 1m 39s\tremaining: 27.5s\n",
            "783:\tlearn: 2.9183695\ttotal: 1m 39s\tremaining: 27.4s\n",
            "784:\tlearn: 2.9175543\ttotal: 1m 39s\tremaining: 27.2s\n",
            "785:\tlearn: 2.9167012\ttotal: 1m 39s\tremaining: 27.1s\n",
            "786:\tlearn: 2.9160128\ttotal: 1m 39s\tremaining: 27s\n",
            "787:\tlearn: 2.9153702\ttotal: 1m 39s\tremaining: 26.8s\n",
            "788:\tlearn: 2.9148605\ttotal: 1m 39s\tremaining: 26.7s\n",
            "789:\tlearn: 2.9130244\ttotal: 1m 40s\tremaining: 26.6s\n",
            "790:\tlearn: 2.9114457\ttotal: 1m 40s\tremaining: 26.5s\n",
            "791:\tlearn: 2.9107838\ttotal: 1m 40s\tremaining: 26.3s\n",
            "792:\tlearn: 2.9094352\ttotal: 1m 40s\tremaining: 26.2s\n",
            "793:\tlearn: 2.9087198\ttotal: 1m 40s\tremaining: 26.1s\n",
            "794:\tlearn: 2.9075598\ttotal: 1m 40s\tremaining: 25.9s\n",
            "795:\tlearn: 2.9066617\ttotal: 1m 40s\tremaining: 25.8s\n",
            "796:\tlearn: 2.9056858\ttotal: 1m 40s\tremaining: 25.7s\n",
            "797:\tlearn: 2.9044813\ttotal: 1m 40s\tremaining: 25.6s\n",
            "798:\tlearn: 2.9038762\ttotal: 1m 41s\tremaining: 25.4s\n",
            "799:\tlearn: 2.9029389\ttotal: 1m 41s\tremaining: 25.3s\n",
            "800:\tlearn: 2.9024209\ttotal: 1m 41s\tremaining: 25.2s\n",
            "801:\tlearn: 2.9015304\ttotal: 1m 41s\tremaining: 25s\n",
            "802:\tlearn: 2.8990136\ttotal: 1m 41s\tremaining: 24.9s\n",
            "803:\tlearn: 2.8984981\ttotal: 1m 41s\tremaining: 24.8s\n",
            "804:\tlearn: 2.8972058\ttotal: 1m 41s\tremaining: 24.7s\n",
            "805:\tlearn: 2.8963167\ttotal: 1m 41s\tremaining: 24.5s\n",
            "806:\tlearn: 2.8952044\ttotal: 1m 41s\tremaining: 24.4s\n",
            "807:\tlearn: 2.8942245\ttotal: 1m 42s\tremaining: 24.3s\n",
            "808:\tlearn: 2.8930012\ttotal: 1m 42s\tremaining: 24.1s\n",
            "809:\tlearn: 2.8925140\ttotal: 1m 42s\tremaining: 24s\n",
            "810:\tlearn: 2.8905832\ttotal: 1m 42s\tremaining: 23.9s\n",
            "811:\tlearn: 2.8900171\ttotal: 1m 42s\tremaining: 23.7s\n",
            "812:\tlearn: 2.8882619\ttotal: 1m 42s\tremaining: 23.6s\n",
            "813:\tlearn: 2.8875242\ttotal: 1m 42s\tremaining: 23.5s\n",
            "814:\tlearn: 2.8864233\ttotal: 1m 42s\tremaining: 23.4s\n",
            "815:\tlearn: 2.8859156\ttotal: 1m 43s\tremaining: 23.2s\n",
            "816:\tlearn: 2.8836679\ttotal: 1m 43s\tremaining: 23.1s\n",
            "817:\tlearn: 2.8826520\ttotal: 1m 43s\tremaining: 23s\n",
            "818:\tlearn: 2.8805442\ttotal: 1m 43s\tremaining: 22.9s\n",
            "819:\tlearn: 2.8798009\ttotal: 1m 44s\tremaining: 22.8s\n",
            "820:\tlearn: 2.8792539\ttotal: 1m 44s\tremaining: 22.7s\n",
            "821:\tlearn: 2.8783034\ttotal: 1m 44s\tremaining: 22.6s\n",
            "822:\tlearn: 2.8771179\ttotal: 1m 44s\tremaining: 22.5s\n",
            "823:\tlearn: 2.8762976\ttotal: 1m 44s\tremaining: 22.4s\n",
            "824:\tlearn: 2.8750444\ttotal: 1m 45s\tremaining: 22.3s\n",
            "825:\tlearn: 2.8743649\ttotal: 1m 45s\tremaining: 22.2s\n",
            "826:\tlearn: 2.8735340\ttotal: 1m 45s\tremaining: 22.1s\n",
            "827:\tlearn: 2.8726904\ttotal: 1m 45s\tremaining: 22s\n",
            "828:\tlearn: 2.8721477\ttotal: 1m 45s\tremaining: 21.9s\n",
            "829:\tlearn: 2.8704637\ttotal: 1m 46s\tremaining: 21.7s\n",
            "830:\tlearn: 2.8695233\ttotal: 1m 46s\tremaining: 21.6s\n",
            "831:\tlearn: 2.8683820\ttotal: 1m 46s\tremaining: 21.6s\n",
            "832:\tlearn: 2.8674695\ttotal: 1m 47s\tremaining: 21.5s\n",
            "833:\tlearn: 2.8666655\ttotal: 1m 47s\tremaining: 21.4s\n",
            "834:\tlearn: 2.8658581\ttotal: 1m 47s\tremaining: 21.2s\n",
            "835:\tlearn: 2.8652018\ttotal: 1m 47s\tremaining: 21.1s\n",
            "836:\tlearn: 2.8644666\ttotal: 1m 47s\tremaining: 21s\n",
            "837:\tlearn: 2.8632741\ttotal: 1m 47s\tremaining: 20.8s\n",
            "838:\tlearn: 2.8625101\ttotal: 1m 47s\tremaining: 20.7s\n",
            "839:\tlearn: 2.8616213\ttotal: 1m 47s\tremaining: 20.6s\n",
            "840:\tlearn: 2.8608104\ttotal: 1m 48s\tremaining: 20.4s\n",
            "841:\tlearn: 2.8594171\ttotal: 1m 48s\tremaining: 20.3s\n",
            "842:\tlearn: 2.8586077\ttotal: 1m 48s\tremaining: 20.2s\n",
            "843:\tlearn: 2.8580633\ttotal: 1m 48s\tremaining: 20s\n",
            "844:\tlearn: 2.8552909\ttotal: 1m 48s\tremaining: 19.9s\n",
            "845:\tlearn: 2.8542736\ttotal: 1m 48s\tremaining: 19.8s\n",
            "846:\tlearn: 2.8535976\ttotal: 1m 48s\tremaining: 19.6s\n",
            "847:\tlearn: 2.8527056\ttotal: 1m 48s\tremaining: 19.5s\n",
            "848:\tlearn: 2.8521380\ttotal: 1m 49s\tremaining: 19.4s\n",
            "849:\tlearn: 2.8511725\ttotal: 1m 49s\tremaining: 19.3s\n",
            "850:\tlearn: 2.8502624\ttotal: 1m 49s\tremaining: 19.1s\n",
            "851:\tlearn: 2.8495226\ttotal: 1m 49s\tremaining: 19s\n",
            "852:\tlearn: 2.8475475\ttotal: 1m 49s\tremaining: 18.9s\n",
            "853:\tlearn: 2.8470745\ttotal: 1m 49s\tremaining: 18.7s\n",
            "854:\tlearn: 2.8461943\ttotal: 1m 49s\tremaining: 18.6s\n",
            "855:\tlearn: 2.8452751\ttotal: 1m 49s\tremaining: 18.5s\n",
            "856:\tlearn: 2.8441018\ttotal: 1m 49s\tremaining: 18.3s\n",
            "857:\tlearn: 2.8427962\ttotal: 1m 50s\tremaining: 18.2s\n",
            "858:\tlearn: 2.8419344\ttotal: 1m 50s\tremaining: 18.1s\n",
            "859:\tlearn: 2.8402591\ttotal: 1m 50s\tremaining: 18s\n",
            "860:\tlearn: 2.8393892\ttotal: 1m 50s\tremaining: 17.8s\n",
            "861:\tlearn: 2.8387167\ttotal: 1m 50s\tremaining: 17.7s\n",
            "862:\tlearn: 2.8381224\ttotal: 1m 50s\tremaining: 17.6s\n",
            "863:\tlearn: 2.8373679\ttotal: 1m 50s\tremaining: 17.4s\n",
            "864:\tlearn: 2.8367218\ttotal: 1m 50s\tremaining: 17.3s\n",
            "865:\tlearn: 2.8358255\ttotal: 1m 50s\tremaining: 17.2s\n",
            "866:\tlearn: 2.8353997\ttotal: 1m 51s\tremaining: 17s\n",
            "867:\tlearn: 2.8347762\ttotal: 1m 51s\tremaining: 16.9s\n",
            "868:\tlearn: 2.8333149\ttotal: 1m 51s\tremaining: 16.8s\n",
            "869:\tlearn: 2.8327672\ttotal: 1m 51s\tremaining: 16.7s\n",
            "870:\tlearn: 2.8322734\ttotal: 1m 51s\tremaining: 16.5s\n",
            "871:\tlearn: 2.8319441\ttotal: 1m 51s\tremaining: 16.4s\n",
            "872:\tlearn: 2.8309735\ttotal: 1m 51s\tremaining: 16.3s\n",
            "873:\tlearn: 2.8298567\ttotal: 1m 51s\tremaining: 16.1s\n",
            "874:\tlearn: 2.8291965\ttotal: 1m 52s\tremaining: 16s\n",
            "875:\tlearn: 2.8285449\ttotal: 1m 52s\tremaining: 15.9s\n",
            "876:\tlearn: 2.8264428\ttotal: 1m 52s\tremaining: 15.7s\n",
            "877:\tlearn: 2.8256837\ttotal: 1m 52s\tremaining: 15.6s\n",
            "878:\tlearn: 2.8242139\ttotal: 1m 52s\tremaining: 15.5s\n",
            "879:\tlearn: 2.8236600\ttotal: 1m 52s\tremaining: 15.4s\n",
            "880:\tlearn: 2.8231520\ttotal: 1m 52s\tremaining: 15.2s\n",
            "881:\tlearn: 2.8196648\ttotal: 1m 52s\tremaining: 15.1s\n",
            "882:\tlearn: 2.8188831\ttotal: 1m 52s\tremaining: 15s\n",
            "883:\tlearn: 2.8179527\ttotal: 1m 53s\tremaining: 14.8s\n",
            "884:\tlearn: 2.8173395\ttotal: 1m 53s\tremaining: 14.7s\n",
            "885:\tlearn: 2.8170489\ttotal: 1m 53s\tremaining: 14.6s\n",
            "886:\tlearn: 2.8161658\ttotal: 1m 53s\tremaining: 14.4s\n",
            "887:\tlearn: 2.8152858\ttotal: 1m 53s\tremaining: 14.3s\n",
            "888:\tlearn: 2.8135723\ttotal: 1m 53s\tremaining: 14.2s\n",
            "889:\tlearn: 2.8129241\ttotal: 1m 53s\tremaining: 14.1s\n",
            "890:\tlearn: 2.8119913\ttotal: 1m 53s\tremaining: 13.9s\n",
            "891:\tlearn: 2.8112577\ttotal: 1m 53s\tremaining: 13.8s\n",
            "892:\tlearn: 2.8104565\ttotal: 1m 54s\tremaining: 13.7s\n",
            "893:\tlearn: 2.8097027\ttotal: 1m 54s\tremaining: 13.5s\n",
            "894:\tlearn: 2.8092964\ttotal: 1m 54s\tremaining: 13.4s\n",
            "895:\tlearn: 2.8079990\ttotal: 1m 54s\tremaining: 13.3s\n",
            "896:\tlearn: 2.8073683\ttotal: 1m 54s\tremaining: 13.2s\n",
            "897:\tlearn: 2.8064903\ttotal: 1m 54s\tremaining: 13s\n",
            "898:\tlearn: 2.8053907\ttotal: 1m 54s\tremaining: 12.9s\n",
            "899:\tlearn: 2.8042771\ttotal: 1m 54s\tremaining: 12.8s\n",
            "900:\tlearn: 2.8022076\ttotal: 1m 55s\tremaining: 12.6s\n",
            "901:\tlearn: 2.8013684\ttotal: 1m 55s\tremaining: 12.5s\n",
            "902:\tlearn: 2.8005265\ttotal: 1m 55s\tremaining: 12.4s\n",
            "903:\tlearn: 2.8001212\ttotal: 1m 55s\tremaining: 12.3s\n",
            "904:\tlearn: 2.7978591\ttotal: 1m 55s\tremaining: 12.1s\n",
            "905:\tlearn: 2.7967953\ttotal: 1m 55s\tremaining: 12s\n",
            "906:\tlearn: 2.7956521\ttotal: 1m 55s\tremaining: 11.9s\n",
            "907:\tlearn: 2.7951238\ttotal: 1m 55s\tremaining: 11.7s\n",
            "908:\tlearn: 2.7931924\ttotal: 1m 55s\tremaining: 11.6s\n",
            "909:\tlearn: 2.7921756\ttotal: 1m 56s\tremaining: 11.5s\n",
            "910:\tlearn: 2.7911684\ttotal: 1m 56s\tremaining: 11.4s\n",
            "911:\tlearn: 2.7900353\ttotal: 1m 56s\tremaining: 11.2s\n",
            "912:\tlearn: 2.7895783\ttotal: 1m 56s\tremaining: 11.1s\n",
            "913:\tlearn: 2.7886360\ttotal: 1m 56s\tremaining: 11s\n",
            "914:\tlearn: 2.7878351\ttotal: 1m 56s\tremaining: 10.8s\n",
            "915:\tlearn: 2.7868069\ttotal: 1m 56s\tremaining: 10.7s\n",
            "916:\tlearn: 2.7855066\ttotal: 1m 56s\tremaining: 10.6s\n",
            "917:\tlearn: 2.7847417\ttotal: 1m 57s\tremaining: 10.5s\n",
            "918:\tlearn: 2.7838474\ttotal: 1m 57s\tremaining: 10.3s\n",
            "919:\tlearn: 2.7827264\ttotal: 1m 57s\tremaining: 10.2s\n",
            "920:\tlearn: 2.7818028\ttotal: 1m 57s\tremaining: 10.1s\n",
            "921:\tlearn: 2.7805664\ttotal: 1m 57s\tremaining: 9.94s\n",
            "922:\tlearn: 2.7800031\ttotal: 1m 57s\tremaining: 9.81s\n",
            "923:\tlearn: 2.7789251\ttotal: 1m 57s\tremaining: 9.68s\n",
            "924:\tlearn: 2.7778701\ttotal: 1m 57s\tremaining: 9.55s\n",
            "925:\tlearn: 2.7759355\ttotal: 1m 57s\tremaining: 9.43s\n",
            "926:\tlearn: 2.7753427\ttotal: 1m 58s\tremaining: 9.3s\n",
            "927:\tlearn: 2.7746264\ttotal: 1m 58s\tremaining: 9.17s\n",
            "928:\tlearn: 2.7737105\ttotal: 1m 58s\tremaining: 9.04s\n",
            "929:\tlearn: 2.7730714\ttotal: 1m 58s\tremaining: 8.91s\n",
            "930:\tlearn: 2.7721956\ttotal: 1m 58s\tremaining: 8.79s\n",
            "931:\tlearn: 2.7716519\ttotal: 1m 58s\tremaining: 8.66s\n",
            "932:\tlearn: 2.7713124\ttotal: 1m 58s\tremaining: 8.53s\n",
            "933:\tlearn: 2.7707588\ttotal: 1m 58s\tremaining: 8.4s\n",
            "934:\tlearn: 2.7701562\ttotal: 1m 59s\tremaining: 8.27s\n",
            "935:\tlearn: 2.7689021\ttotal: 1m 59s\tremaining: 8.15s\n",
            "936:\tlearn: 2.7684005\ttotal: 1m 59s\tremaining: 8.02s\n",
            "937:\tlearn: 2.7676674\ttotal: 1m 59s\tremaining: 7.89s\n",
            "938:\tlearn: 2.7658657\ttotal: 1m 59s\tremaining: 7.76s\n",
            "939:\tlearn: 2.7649074\ttotal: 1m 59s\tremaining: 7.63s\n",
            "940:\tlearn: 2.7639762\ttotal: 1m 59s\tremaining: 7.51s\n",
            "941:\tlearn: 2.7632473\ttotal: 1m 59s\tremaining: 7.38s\n",
            "942:\tlearn: 2.7626754\ttotal: 1m 59s\tremaining: 7.25s\n",
            "943:\tlearn: 2.7617980\ttotal: 2m\tremaining: 7.12s\n",
            "944:\tlearn: 2.7611972\ttotal: 2m\tremaining: 7s\n",
            "945:\tlearn: 2.7604461\ttotal: 2m\tremaining: 6.87s\n",
            "946:\tlearn: 2.7596966\ttotal: 2m\tremaining: 6.74s\n",
            "947:\tlearn: 2.7592169\ttotal: 2m\tremaining: 6.61s\n",
            "948:\tlearn: 2.7585324\ttotal: 2m\tremaining: 6.49s\n",
            "949:\tlearn: 2.7579800\ttotal: 2m\tremaining: 6.36s\n",
            "950:\tlearn: 2.7573216\ttotal: 2m\tremaining: 6.23s\n",
            "951:\tlearn: 2.7563783\ttotal: 2m 1s\tremaining: 6.1s\n",
            "952:\tlearn: 2.7557802\ttotal: 2m 1s\tremaining: 5.97s\n",
            "953:\tlearn: 2.7552022\ttotal: 2m 1s\tremaining: 5.85s\n",
            "954:\tlearn: 2.7545918\ttotal: 2m 1s\tremaining: 5.72s\n",
            "955:\tlearn: 2.7539619\ttotal: 2m 1s\tremaining: 5.59s\n",
            "956:\tlearn: 2.7535027\ttotal: 2m 1s\tremaining: 5.46s\n",
            "957:\tlearn: 2.7529111\ttotal: 2m 1s\tremaining: 5.33s\n",
            "958:\tlearn: 2.7520361\ttotal: 2m 1s\tremaining: 5.21s\n",
            "959:\tlearn: 2.7513492\ttotal: 2m 1s\tremaining: 5.08s\n",
            "960:\tlearn: 2.7502555\ttotal: 2m 2s\tremaining: 4.95s\n",
            "961:\tlearn: 2.7495937\ttotal: 2m 2s\tremaining: 4.83s\n",
            "962:\tlearn: 2.7484706\ttotal: 2m 2s\tremaining: 4.7s\n",
            "963:\tlearn: 2.7480630\ttotal: 2m 2s\tremaining: 4.57s\n",
            "964:\tlearn: 2.7475109\ttotal: 2m 2s\tremaining: 4.44s\n",
            "965:\tlearn: 2.7465894\ttotal: 2m 2s\tremaining: 4.32s\n",
            "966:\tlearn: 2.7461729\ttotal: 2m 2s\tremaining: 4.19s\n",
            "967:\tlearn: 2.7453904\ttotal: 2m 2s\tremaining: 4.06s\n",
            "968:\tlearn: 2.7445169\ttotal: 2m 2s\tremaining: 3.93s\n",
            "969:\tlearn: 2.7427263\ttotal: 2m 3s\tremaining: 3.81s\n",
            "970:\tlearn: 2.7419738\ttotal: 2m 3s\tremaining: 3.68s\n",
            "971:\tlearn: 2.7411986\ttotal: 2m 3s\tremaining: 3.55s\n",
            "972:\tlearn: 2.7394836\ttotal: 2m 3s\tremaining: 3.43s\n",
            "973:\tlearn: 2.7386828\ttotal: 2m 3s\tremaining: 3.3s\n",
            "974:\tlearn: 2.7380639\ttotal: 2m 3s\tremaining: 3.17s\n",
            "975:\tlearn: 2.7374180\ttotal: 2m 3s\tremaining: 3.04s\n",
            "976:\tlearn: 2.7361585\ttotal: 2m 3s\tremaining: 2.92s\n",
            "977:\tlearn: 2.7357243\ttotal: 2m 4s\tremaining: 2.79s\n",
            "978:\tlearn: 2.7349563\ttotal: 2m 4s\tremaining: 2.66s\n",
            "979:\tlearn: 2.7340134\ttotal: 2m 4s\tremaining: 2.54s\n",
            "980:\tlearn: 2.7334026\ttotal: 2m 4s\tremaining: 2.41s\n",
            "981:\tlearn: 2.7327785\ttotal: 2m 4s\tremaining: 2.28s\n",
            "982:\tlearn: 2.7324700\ttotal: 2m 4s\tremaining: 2.15s\n",
            "983:\tlearn: 2.7321241\ttotal: 2m 4s\tremaining: 2.03s\n",
            "984:\tlearn: 2.7315389\ttotal: 2m 4s\tremaining: 1.9s\n",
            "985:\tlearn: 2.7302424\ttotal: 2m 4s\tremaining: 1.77s\n",
            "986:\tlearn: 2.7294943\ttotal: 2m 5s\tremaining: 1.65s\n",
            "987:\tlearn: 2.7282015\ttotal: 2m 5s\tremaining: 1.52s\n",
            "988:\tlearn: 2.7272884\ttotal: 2m 5s\tremaining: 1.39s\n",
            "989:\tlearn: 2.7266917\ttotal: 2m 5s\tremaining: 1.27s\n",
            "990:\tlearn: 2.7258594\ttotal: 2m 5s\tremaining: 1.14s\n",
            "991:\tlearn: 2.7253831\ttotal: 2m 5s\tremaining: 1.01s\n",
            "992:\tlearn: 2.7248430\ttotal: 2m 5s\tremaining: 887ms\n",
            "993:\tlearn: 2.7241933\ttotal: 2m 5s\tremaining: 760ms\n",
            "994:\tlearn: 2.7237729\ttotal: 2m 6s\tremaining: 633ms\n",
            "995:\tlearn: 2.7227535\ttotal: 2m 6s\tremaining: 507ms\n",
            "996:\tlearn: 2.7220450\ttotal: 2m 6s\tremaining: 380ms\n",
            "997:\tlearn: 2.7215215\ttotal: 2m 6s\tremaining: 253ms\n",
            "998:\tlearn: 2.7207450\ttotal: 2m 6s\tremaining: 127ms\n",
            "999:\tlearn: 2.7192342\ttotal: 2m 6s\tremaining: 0us\n"
          ]
        },
        {
          "output_type": "execute_result",
          "data": {
            "text/plain": [
              "<catboost.core.CatBoostRegressor at 0x7f96bd1694d0>"
            ]
          },
          "metadata": {},
          "execution_count": 60
        }
      ],
      "source": [
        "catbm = CatBoostRegressor(n_estimators=1000)\n",
        "catbm.fit(X_train, y_train)"
      ]
    },
    {
      "cell_type": "code",
      "execution_count": null,
      "metadata": {
        "colab": {
          "base_uri": "https://localhost:8080/"
        },
        "id": "ZQRWpThygCWI",
        "outputId": "7f6139b9-63ca-4c1f-c69a-394204ff1678"
      },
      "outputs": [
        {
          "output_type": "stream",
          "name": "stdout",
          "text": [
            "   Mean squared error: 7.576\n",
            "       Relative error: 3.33758%\n",
            "R-squared coefficient: 0.97904\n"
          ]
        }
      ],
      "source": [
        "print_eval(X_val, y_val, catbm)"
      ]
    },
    {
      "cell_type": "code",
      "execution_count": null,
      "metadata": {
        "colab": {
          "base_uri": "https://localhost:8080/"
        },
        "id": "8CdulI8vgb0B",
        "outputId": "32fbb424-e7a2-411d-e039-5f24aa085d78"
      },
      "outputs": [
        {
          "output_type": "stream",
          "name": "stdout",
          "text": [
            "   Mean squared error: 15.694\n",
            "       Relative error: 5.16459%\n",
            "R-squared coefficient: 0.95659\n"
          ]
        }
      ],
      "source": [
        "lgbm = LGBMRegressor()\n",
        "lgbm.fit(X_train, y_train)\n",
        "print_eval(X_val, y_val, lgbm)"
      ]
    },
    {
      "cell_type": "code",
      "execution_count": null,
      "metadata": {
        "colab": {
          "base_uri": "https://localhost:8080/"
        },
        "id": "8rwIs4hI_Vnp",
        "outputId": "acfcc582-1a2e-47cb-e390-76f77c479979"
      },
      "outputs": [
        {
          "output_type": "stream",
          "name": "stdout",
          "text": [
            "   Mean squared error: 30.243\n",
            "       Relative error: 7.06652%\n",
            "R-squared coefficient: 0.91635\n"
          ]
        }
      ],
      "source": [
        "modelRidge = Pipeline([\n",
        "    (\"poly\", PolynomialFeatures(degree=3, include_bias=False)),\n",
        "    (\"scale\", StandardScaler()),\n",
        "    (\"lr\", Ridge(alpha=0.01))\n",
        "])\n",
        "modelRidge.fit(X_train, y_train)\n",
        "print_eval(X_val, y_val, modelRidge)"
      ]
    },
    {
      "cell_type": "markdown",
      "metadata": {
        "id": "vSkbbH1hg-jg"
      },
      "source": [
        "Notiamo che tutti e tre i modelli hanno un leggero miglioramento dei coefficienti d'errore sull'intero dataset rispetto all'addestramento su un campione di 10000 istanze."
      ]
    },
    {
      "cell_type": "markdown",
      "metadata": {
        "id": "xIjBsIzVEh5i"
      },
      "source": [
        "Il modello **Kernel Ridge** `di scikit-learn` ha complessità iperlineare rispetto al numero di istanze. Nelle fasi precedenti abbiamo notato come il modello Kernel Ridge impiegasse molto tempo nella fase di addestramento su un campione di 10000 istanze. Come previsto con il numero di istanze aumentato di 10 volte (la dimensione del dataset è pari a 1000000 istanze) i tempi di esecuzione risultano completamente penalizzanti e non è possibile effettuarne un test sull'intero dataset."
      ]
    },
    {
      "cell_type": "markdown",
      "metadata": {
        "id": "jEJ2sX7jB0qH"
      },
      "source": [
        "Arrivando alle valutazioni finali segue un riepilogo dei risultati sull'intero dataset:"
      ]
    },
    {
      "cell_type": "markdown",
      "metadata": {
        "id": "MYMojcxGCNw1"
      },
      "source": [
        "**CatBoost**:\n",
        "*     Mean squared error: 7.576\n",
        "*     Relative error: 3.33758%\n",
        "*     R-squared coefficient: 0.97904"
      ]
    },
    {
      "cell_type": "markdown",
      "metadata": {
        "id": "kAvOhmoMCdWg"
      },
      "source": [
        "**LightGBM:**\n",
        "*     Mean squared error: 15.694\n",
        "*     Relative error: 5.16459%\n",
        "*     R-squared coefficient: 0.95659"
      ]
    },
    {
      "cell_type": "markdown",
      "metadata": {
        "id": "8HQ1EBE2z-xj"
      },
      "source": [
        "**Kernel Ridge (sul campione dei dati):**\n",
        "*  Mean squared error: 26.374\n",
        "*  Relative error: 6.36214%\n",
        "*  R-squared coefficient: 0.92878"
      ]
    },
    {
      "cell_type": "markdown",
      "metadata": {
        "id": "ORT5ClxcCpMn"
      },
      "source": [
        "**Ridge:**\n",
        "*     Mean squared error: 30.243\n",
        "*     Relative error: 7.06652%\n",
        "*     R-squared coefficient: 0.91635"
      ]
    },
    {
      "cell_type": "markdown",
      "metadata": {
        "id": "zwwH62g8C81W"
      },
      "source": [
        "Il modello più accurato è **CatBoost** che raggiunge un coefficiente R-squared pari a circa **0.98**, richiede però circa **2 minuti** per essere addestrato su un dataset da **più di 1 milione di istanze**.\n",
        "\n",
        "In caso fossero presenti vincoli temporali sull'addestramento **LightGBM** sarebbe una scelta migliore avendo un coefficiente R-squared pari a circa **0.96** e richiedendo solamente **16 secondi** per l'addestramento."
      ]
    },
    {
      "cell_type": "markdown",
      "metadata": {
        "id": "uWO639ide0G_"
      },
      "source": [
        "##Conclusioni"
      ]
    },
    {
      "cell_type": "markdown",
      "metadata": {
        "id": "kMe249aRnz3h"
      },
      "source": [
        "Durante le varie fasi di questo caso di studio il problema è stato esaminato, sono state effettuate delle operazioni di **preprocessing** per rendere i dati meglio interpretabili e rimuovere inesattezze, sono stati sperimentati vari modelli di regressione, eseguendo un **tuning** degli iperparametri e tramite opportune valutazioni sono stati determinati quelli che più si adattano a questo problema.\n",
        "\n",
        "Le prestazioni migliori sono state ottenute dagli **alberi di regressione**, in particolare è stato identificato come più accurato **CatBoost**."
      ]
    },
    {
      "cell_type": "code",
      "execution_count": null,
      "metadata": {
        "colab": {
          "base_uri": "https://localhost:8080/"
        },
        "id": "qHjtzhejo9kw",
        "outputId": "dda9d219-9ed9-4982-8d89-db6cd98cf0ed"
      },
      "outputs": [
        {
          "output_type": "execute_result",
          "data": {
            "text/plain": [
              "u_q              5.051675\n",
              "coolant         13.260263\n",
              "u_d              3.952920\n",
              "stator_tooth    41.423747\n",
              "motor_speed      7.848340\n",
              "i_d              3.654141\n",
              "ambient         13.548065\n",
              "torque          11.260849\n",
              "dtype: float64"
            ]
          },
          "metadata": {},
          "execution_count": 64
        }
      ],
      "source": [
        "pd.Series(catbm.feature_importances_, X.columns)"
      ]
    },
    {
      "cell_type": "markdown",
      "metadata": {
        "id": "Q5B_GJZWq_gU"
      },
      "source": [
        "Visualizzando i pesi dei coefficienti determinati da Catboost possiamo confermare ciò che era stato ipotizzato in precedenza, la feature che più influenza la temperatura del rotore (ovvero la variabile target) è quella che fa riferimento allo **statore**, ovvero il suo componente complementare.\n",
        "\n",
        "Bisogna considerare che il peso elevato di quella feature è dovuto anche alla rimozione delle feature collineari ad essa, avvenuta nella fase di standardizzazione delle feature tramite regressione Lasso.\n",
        "\n",
        "Notiamo inoltre che ad influenzare discretamente la temperatura del rotore sono: la **temperatura dell'ambiente** (con cui si era già stabilita una discreta dipendenza nelle fasi precedenti), la **temperatura del liquido di raffreddamento** e la **dimensione della coppia** del motore (`torque`)."
      ]
    },
    {
      "cell_type": "markdown",
      "metadata": {
        "id": "5VYAVSnIv3qV"
      },
      "source": [
        "L'obbiettivo di questo caso di studio era riuscire a trovare un modello che prevedesse con un'accettabile margine di errore, la temperatura del rotore e ricavare conoscenza dall'analisi dei dati, entrambi gli obbiettivi sono stati raggiunti con successo."
      ]
    }
  ],
  "metadata": {
    "colab": {
      "collapsed_sections": [],
      "name": "Progetto_Data_Intensive.ipynb",
      "provenance": [],
      "authorship_tag": "ABX9TyMHXzku2Wq/xaqWiMD5oAu+",
      "include_colab_link": true
    },
    "kernelspec": {
      "display_name": "Python 3",
      "name": "python3"
    },
    "language_info": {
      "name": "python"
    }
  },
  "nbformat": 4,
  "nbformat_minor": 0
}